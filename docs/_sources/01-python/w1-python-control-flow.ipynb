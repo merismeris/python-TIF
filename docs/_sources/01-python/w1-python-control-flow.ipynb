{
 "cells": [
  {
   "cell_type": "markdown",
   "metadata": {},
   "source": [
    "# Control de flujo\n",
    "\n",
    "en ocasiones, necesitamos que se jecuten operaciones o tareas solo en determinados casos, bajo algunas condiciones. Por ejemplo, si un usuario tiene una edad mayor a 18 años, puede acceder a cierto contenido. Si no, no puede.\n",
    "\n",
    "Para esto, Python nos ofrece las estructuras de **control de flujo** o sentencias de control. Las sentencias de control son de dos tipos principales:\n",
    "- Sentencias condicionales: permiten ejecutar un bloque de código solo si se cumple una condición. Son las sentencias `if`, `elif` y `else`.\n",
    "- Bucles: permiten ejecutar un bloque de código varias veces, mientras se cumpla una condición. Cada repetición se suele denominar iteración. En Python, existen dos tipos de bucles: el bucle `while` y el bucle `for`.\n",
    "\n",
    "```{important}\n",
    "\n",
    "Python utiliza indentación (espacios en blanco al inicio de una línea) para definir bloques de código. Esto significa que el código dentro de una estructura de control debe estar indentado o tabulado con respecto al código principal.\n",
    "\n",
    "```\n"
   ]
  },
  {
   "cell_type": "markdown",
   "metadata": {},
   "source": [
    "## Bucle While \n",
    "\n",
    "Permite ejecutar un bloque de código mientras una condición sea verdadera. La condición se evalúa ** antes** de entrar en el bucle. Por tanto, se puede repetir entre 0 y n veces.\n",
    "\n",
    "En el cuerpo se debe incluir alguna sentencia que en algún momento haga que la condición deje de cumplirse, para evitar bucles infinitos.\n",
    "\n"
   ]
  },
  {
   "cell_type": "code",
   "execution_count": null,
   "metadata": {},
   "outputs": [],
   "source": [
    "n = 0\n",
    "while n < 5:          # condición\n",
    "    print(n)         # cuerpo del bucle\n",
    "    n += 1       # actualización de la variable de control. Hemos usado el operador compacto `+=`: `n += 1` es lo mismo que `n = n + 1`."
   ]
  },
  {
   "cell_type": "markdown",
   "metadata": {},
   "source": [
    "```{note}\n",
    "Observa que hay una variable (`n` en este caso) que se inicializa antes del bucle, se utiliza en la condición y se actualiza dentro del cuerpo del bucle. Esta variable se denomina variable de control del bucle.\n",
    "```"
   ]
  },
  {
   "cell_type": "markdown",
   "metadata": {},
   "source": [
    "### Terminación del bucle\n",
    "\n",
    "Existen varios métodos para controlar la terminación de un bucle `while`. Algunos de los más comunes y que veremos a lo largo del curso son: \n"
   ]
  },
  {
   "cell_type": "markdown",
   "metadata": {},
   "source": [
    "## Bucle For\n",
    "\n",
    "El bucle for permite iterar sobre una secuencia u objeto iterable (como una lista, una tupla, un diccionario, un conjunto o una cadena de texto) o sobre un rango de números. La variable de control del bucle toma cada uno de los valores de la secuencia o del rango en cada iteración, es decir, se convierte en un iterador.\n"
   ]
  },
  {
   "cell_type": "code",
   "execution_count": null,
   "metadata": {},
   "outputs": [
    {
     "name": "stdout",
     "output_type": "stream",
     "text": [
      "1\n",
      "2.0\n",
      "three\n",
      "4\n"
     ]
    }
   ],
   "source": [
    "alist = [1, 2.0, \"three\", 4]\n",
    "for a in alist:\n",
    "    print(a)"
   ]
  },
  {
   "cell_type": "code",
   "execution_count": null,
   "metadata": {},
   "outputs": [
    {
     "name": "stdout",
     "output_type": "stream",
     "text": [
      "t\n",
      "h\n",
      "i\n",
      "s\n",
      " \n",
      "i\n",
      "s\n",
      " \n",
      "a\n",
      " \n",
      "s\n",
      "t\n",
      "r\n",
      "i\n",
      "n\n",
      "g\n"
     ]
    }
   ],
   "source": [
    "for c in \"this is a string\":\n",
    "    print(c)"
   ]
  },
  {
   "cell_type": "code",
   "execution_count": null,
   "metadata": {
    "tags": []
   },
   "outputs": [
    {
     "name": "stdout",
     "output_type": "stream",
     "text": [
      "2\n",
      "4\n",
      "6\n",
      "8\n"
     ]
    }
   ],
   "source": [
    "for n in range(2, 10, 2):\n",
    "    print(n)"
   ]
  },
  {
   "cell_type": "markdown",
   "metadata": {},
   "source": [
    "\n",
    "```{note}\n",
    "**Ojo** al usar range() para iterar de m hasta n, porque el valor n no se incluye en la iteración.\n",
    "```"
   ]
  },
  {
   "cell_type": "code",
   "execution_count": null,
   "metadata": {},
   "outputs": [
    {
     "name": "stdout",
     "output_type": "stream",
     "text": [
      "key = key1, value = 1\n",
      "key = key2, value = 2\n",
      "key = key3, value = 3\n"
     ]
    }
   ],
   "source": [
    "my_dict = {\"key1\":1, \"key2\":2, \"key3\":3}\n",
    "\n",
    "for k, v in my_dict.items():\n",
    "    print(f\"key = {k}, value = {v}\")"
   ]
  },
  {
   "cell_type": "markdown",
   "metadata": {},
   "source": [
    "## Terminación de bucles \n",
    "\n",
    "Existen varias formas de terminar un bucle, entre las que se incluyen:\n",
    "- La condición del bucle se vuelve falsa. Esto puede ocurrir utilizando varios métodos, nosotros destacamos:\n",
    "    - Con un contador: se inicializa una variable antes del bucle, se utiliza en la condición y se va decrementando o incrementando dentro del cuerpo del bucle.\n",
    "    - Con un acumulador: se utiliza una variable para acumular un valor (como una suma o un producto) y se actualiza dentro del cuerpo del bucle.\n",
    "    - Con una condición lógica (bandera): se utiliza una variable booleana que se actualiza dentro del cuerpo del bucle.\n",
    "- Se produce una excepción o error dentro del bucle. Esto incluiría el manejo de errores, que no veremos en este curso.\n",
    "- Se utiliza la sentencia `break` dentro del cuerpo del bucle para salir del mismo de forma inmediata.\n",
    "\n",
    "### Sentencia `break`\n",
    "\n",
    "La sentencia `break` permite salir de un bucle de forma inmediata, independientemente de si la condición del bucle es verdadera o falsa. Se utiliza dentro del cuerpo del bucle y puede ser útil para terminar un bucle cuando se cumple una condición específica. Si hay bucles anidados, `break` solo termina el bucle más interno en el que se encuentra.\n",
    "```{note}\n",
    "Usar `break` puede hacer que el código sea menos legible, por lo que se recomienda usarlo con moderación y solo cuando sea necesario.\n",
    "```\n",
    "\n"
   ]
  },
  {
   "cell_type": "code",
   "execution_count": null,
   "metadata": {},
   "outputs": [],
   "source": [
    "for i in range(10):\n",
    "    if i == 5:\n",
    "        break  # Sale del bucle cuando i es igual a 5\n",
    "    print(i)"
   ]
  },
  {
   "cell_type": "markdown",
   "metadata": {},
   "source": [
    "\n",
    "### Sentencia `continue`\n",
    "\n",
    "La sentencia `continue` permite saltar a la siguiente iteración del bucle, omitiendo el resto del código en el cuerpo del bucle para la iteración actual. Se utiliza dentro del cuerpo del bucle y puede ser útil para evitar ejecutar ciertas partes del código cuando se cumple una condición específica. Al igual que con `break`, si hay bucles anidados, `continue` solo afecta al bucle más interno en el que se encuentra.\n",
    "\n",
    "```{note}\n",
    "Al igual que con `break`, el uso excesivo de `continue` puede dificultar la lectura del código, por lo que se recomienda usarlo con moderación."
   ]
  },
  {
   "cell_type": "code",
   "execution_count": null,
   "metadata": {},
   "outputs": [],
   "source": [
    "for i in range(10):\n",
    "    if i == 5:\n",
    "        continue  # Interrumpe del bucle cuando i es igual a 5, pero vuelve a él.\n",
    "    print(i)"
   ]
  },
  {
   "cell_type": "markdown",
   "metadata": {},
   "source": [
    "### Sentencia `else` en bucles\n",
    "\n",
    "La sentencia `else` puede utilizarse junto con los bucles `for` y `while`. El bloque de código dentro de `else` se ejecuta cuando el bucle termina normalmente, es decir, cuando la condición del bucle se vuelve falsa (en el caso de `while`) o cuando se han iterado todos los elementos (en el caso de `for`). Si el bucle se termina prematuramente mediante una sentencia `break`, el bloque `else` no se ejecuta.\n",
    "\n",
    "``````{note}\n",
    "El uso de `else` con bucles puede mejorar la legibilidad del código al permitir separar claramente el código que se ejecuta después de que el bucle haya terminado de forma normal.\n",
    "``````\n",
    "   "
   ]
  },
  {
   "cell_type": "code",
   "execution_count": null,
   "metadata": {},
   "outputs": [],
   "source": [
    "for i in range(10):\n",
    "    if i == 5:\n",
    "        break  # Interrumpe del bucle cuando i es igual a 5, pero vuelve a él.\n",
    "    print(i)\n",
    "else:\n",
    "    print(\"Bucle terminado normalmente\")"
   ]
  },
  {
   "cell_type": "markdown",
   "metadata": {},
   "source": [
    "### Sentencia `pass`\n",
    "La sentencia `pass` es una operación nula en Python. Se utiliza como un marcador de posición cuando se requiere una sintaxis pero no se desea ejecutar ninguna acción. En el contexto de los bucles, `pass` puede ser útil cuando se quiere definir un bucle que no realiza ninguna operación, pero que debe estar presente por razones de estructura del código o para futuras implementaciones.\n",
    "\n",
    "```{note}\n",
    "El uso de `pass` puede mejorar la legibilidad del código al indicar claramente que se ha considerado la necesidad de un bloque de código, pero que no se ha implementado ninguna acción en ese momento.\n",
    "```\n",
    "    "
   ]
  },
  {
   "cell_type": "code",
   "execution_count": null,
   "metadata": {},
   "outputs": [],
   "source": [
    "n = 0\n",
    "while n < 5:\n",
    "    pass  # Bucle que no hace nada\n",
    "    n += 1"
   ]
  },
  {
   "cell_type": "markdown",
   "metadata": {},
   "source": [
    "## Sentencia if-else"
   ]
  },
  {
   "cell_type": "markdown",
   "metadata": {},
   "source": [
    "La sentencia `if` permite ejecutar un bloque de código solo si se cumple una condición determinada. Si la condición es verdadera, se ejecuta el bloque de código indentado debajo de la sentencia `if`. Si la condición es falsa, se puede utilizar la sentencia `else` para ejecutar un bloque de código alternativo.\n",
    "Adicionalmente, se puede utilizar la sentencia `elif` (abreviatura de \"else if\") para verificar múltiples condiciones de manera secuencial. Si la primera condición es falsa, se evalúa la siguiente condición `elif`, y así sucesivamente. Si ninguna de las condiciones es verdadera, se ejecuta el bloque de código bajo la sentencia `else`.\n",
    "```python\n",
    "if condición1:\n",
    "    # Bloque de código si condición1 es verdadera\n",
    "elif condición2:\n",
    "    # Bloque de código si condición2 es verdadera\n",
    "else:\n",
    "    # Bloque de código si ninguna condición es verdadera\n",
    "```\n"
   ]
  },
  {
   "cell_type": "code",
   "execution_count": null,
   "metadata": {},
   "outputs": [
    {
     "name": "stdout",
     "output_type": "stream",
     "text": [
      "zero\n"
     ]
    }
   ],
   "source": [
    "x = 0\n",
    "\n",
    "if x < 0:\n",
    "    print(\"negativo\")\n",
    "elif x == 0:\n",
    "    print(\"cero\")\n",
    "else:\n",
    "    print(\"positivo\")\n"
   ]
  },
  {
   "cell_type": "markdown",
   "metadata": {},
   "source": [
    "Podemos anidar sentencias if-else dentro de otras sentencias if-else para manejar múltiples condiciones y casos complejos."
   ]
  },
  {
   "cell_type": "code",
   "execution_count": null,
   "metadata": {},
   "outputs": [],
   "source": [
    "var1=2\n",
    "if var1>0:\n",
    "    var1=var1+1\n",
    "    if var1>=2:\n",
    "        var1+=1\n",
    "    else:\n",
    "        var1=4\n",
    "elif var1>-5:\n",
    "    if var1==-3:\n",
    "          var1-=1\n",
    "    else:\n",
    "\t    var1+=1\n",
    "else:\n",
    "\tvar1=0\n"
   ]
  },
  {
   "cell_type": "markdown",
   "metadata": {},
   "source": [
    "sometimes we want to loop over a list element and know its index -- `enumerate()` helps here:"
   ]
  },
  {
   "cell_type": "code",
   "execution_count": null,
   "metadata": {},
   "outputs": [
    {
     "name": "stdout",
     "output_type": "stream",
     "text": [
      "0 1\n",
      "1 2.0\n",
      "2 three\n",
      "3 4\n"
     ]
    }
   ],
   "source": [
    "for n, a in enumerate(alist):\n",
    "    print(n, a)"
   ]
  },
  {
   "cell_type": "code",
   "execution_count": null,
   "metadata": {},
   "outputs": [],
   "source": []
  },
  {
   "cell_type": "markdown",
   "metadata": {},
   "source": [
    "````{admonition} Quick Exercise\n",
    "    \n",
    "`zip()` allows us to loop over two iterables at the same time.  Consider the following two\n",
    "lists:\n",
    "\n",
    "```\n",
    "\n",
    " a = [1, 2, 3, 4, 5, 6, 7, 8]\n",
    " b = [\"a\", \"b\", \"c\", \"d\", \"e\", \"f\", \"g\", \"h\"]\n",
    " \n",
    "```\n",
    "\n",
    "`zip(a, b)` will act like a list with each element a tuple with one item from `a` and the corresponding element from `b`. \n",
    "\n",
    "Try looping over these lists together (using `zip()`) and print the corresponding elements from each list together on a single line.\n",
    "\n",
    "````"
   ]
  },
  {
   "cell_type": "markdown",
   "metadata": {},
   "source": [
    "````{admonition} Quick Exercise\n",
    "    \n",
    "\n",
    "The `.split()` function on a string can split it into words (separating on spaces).  \n",
    "\n",
    "Using `.split()`, loop over the words in the string\n",
    "\n",
    "`a = \"The quick brown fox jumped over the lazy dog\"`\n",
    "\n",
    "and print one word per line\n",
    "\n",
    "````"
   ]
  },
  {
   "cell_type": "markdown",
   "metadata": {},
   "source": [
    "## List Comprehensions"
   ]
  },
  {
   "cell_type": "markdown",
   "metadata": {},
   "source": [
    "list comprehensions provide a compact way to initialize lists.  Some examples from the tutorial"
   ]
  },
  {
   "cell_type": "code",
   "execution_count": null,
   "metadata": {},
   "outputs": [],
   "source": [
    "squares = [x**2 for x in range(10)]"
   ]
  },
  {
   "cell_type": "code",
   "execution_count": null,
   "metadata": {
    "tags": []
   },
   "outputs": [
    {
     "data": {
      "text/plain": [
       "[0, 1, 4, 9, 16, 25, 36, 49, 64, 81]"
      ]
     },
     "execution_count": 26,
     "metadata": {},
     "output_type": "execute_result"
    }
   ],
   "source": [
    "squares"
   ]
  },
  {
   "cell_type": "markdown",
   "metadata": {},
   "source": [
    "````{admonition} Quick Exercise\n",
    "\n",
    "Use a list comprehension to create a new list from `squares` containing only the even numbers.  It might be helpful to use the modulus operator, `%`\n",
    "\n",
    "````"
   ]
  },
  {
   "cell_type": "code",
   "execution_count": null,
   "metadata": {},
   "outputs": [],
   "source": []
  }
 ],
 "metadata": {
  "kernelspec": {
   "display_name": "Python 3",
   "language": "python",
   "name": "python3"
  },
  "language_info": {
   "codemirror_mode": {
    "name": "ipython",
    "version": 3
   },
   "file_extension": ".py",
   "mimetype": "text/x-python",
   "name": "python",
   "nbconvert_exporter": "python",
   "pygments_lexer": "ipython3",
   "version": "3.10.18"
  }
 },
 "nbformat": 4,
 "nbformat_minor": 4
}
