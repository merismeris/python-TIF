{
 "cells": [
  {
   "cell_type": "markdown",
   "id": "6615f120",
   "metadata": {},
   "source": [
    "# Pequeña introducción a la creación de clases en Python"
   ]
  },
  {
   "cell_type": "markdown",
   "id": "7aa889c3",
   "metadata": {},
   "source": [
    "\n",
    "Os dejamos aquí información sobre cómo crear clases y cómo utilizar sus métodos y atributos. Os dejamos un enlace para que podáis profundizar más en la Programación Orientada a Objetos en Python si os interesa:\n",
    "- [Programación Orientada a Objetos en Python - Documentación oficial](https://docs.python.org/es/3/tutorial/classes.html)"
   ]
  },
  {
   "cell_type": "markdown",
   "id": "d281d232",
   "metadata": {},
   "source": [
    "## Una clase simple"
   ]
  },
  {
   "cell_type": "markdown",
   "id": "def5ef74",
   "metadata": {},
   "source": [
    "Aquí tenemos una clase que guarda información de un estudiante"
   ]
  },
  {
   "cell_type": "code",
   "execution_count": null,
   "id": "5aabd7b4",
   "metadata": {},
   "outputs": [],
   "source": [
    "class Student:\n",
    "    def __init__(self, name, grade=None):\n",
    "        self.name = name\n",
    "        self.grade = grade"
   ]
  },
  {
   "cell_type": "markdown",
   "id": "05b79b61",
   "metadata": {},
   "source": [
    "Esta clase tiene una función, `__init__()`, que se llama automáticamente cuando creamos una instancia de la clase.\n",
    "\n",
    "El argumento `self` se refiere al objeto que vamos a crear, y apunta a la memoria que el objeto usará para almacenar el contenido de la clase."
   ]
  },
  {
   "cell_type": "code",
   "execution_count": null,
   "id": "534a4c06",
   "metadata": {},
   "outputs": [],
   "source": [
    "a = Student(\"Mike\")\n",
    "print(a.name)\n",
    "print(a.grade)"
   ]
  },
  {
   "cell_type": "markdown",
   "id": "3eb1b1ad",
   "metadata": {},
   "source": [
    "Vamos a crear varios estudiantes y almacenarlos en una lista"
   ]
  },
  {
   "cell_type": "code",
   "execution_count": null,
   "id": "34e5d318",
   "metadata": {},
   "outputs": [],
   "source": [
    "students = []\n",
    "students.append(Student(\"fry\", \"F-\"))\n",
    "students.append(Student(\"leela\", \"A\"))\n",
    "students.append(Student(\"zoidberg\", \"F\"))\n",
    "students.append(Student(\"hubert\", \"C+\"))\n",
    "students.append(Student(\"bender\", \"B\"))\n",
    "students.append(Student(\"calculon\", \"C\"))\n",
    "students.append(Student(\"amy\", \"A\"))\n",
    "students.append(Student(\"hermes\", \"A\"))\n",
    "students.append(Student(\"scruffy\", \"D\"))\n",
    "students.append(Student(\"flexo\", \"F\"))\n",
    "students.append(Student(\"morbo\", \"D\"))\n",
    "students.append(Student(\"hypnotoad\", \"A+\"))\n",
    "students.append(Student(\"zapp\", \"Q\"))"
   ]
  },
  {
   "cell_type": "markdown",
   "id": "00c00fa9",
   "metadata": {},
   "source": [
    "````{admonition} Ejercicio Rápido\n",
    "\n",
    "Recorre la lista `students` e imprime el nombre y la nota de cada estudiante, uno por línea.\n",
    "\n",
    "````"
   ]
  },
  {
   "cell_type": "markdown",
   "id": "a7d9eaab",
   "metadata": {},
   "source": [
    "Podemos usar comprensión de listas con nuestra lista de objetos. Por ejemplo, vamos a encontrar todos los estudiantes que tienen A"
   ]
  },
  {
   "cell_type": "code",
   "execution_count": null,
   "id": "8897a173",
   "metadata": {},
   "outputs": [],
   "source": [
    "As = [q.name for q in students if q.grade.startswith(\"A\")]\n",
    "As"
   ]
  },
  {
   "cell_type": "markdown",
   "id": "cc388f4f",
   "metadata": {},
   "source": [
    "## Cartas de Juego"
   ]
  },
  {
   "cell_type": "markdown",
   "id": "9823ebf7",
   "metadata": {},
   "source": [
    "Aquí tenemos una clase más complicada que representa una carta de juego. Observa que estamos usando unicode para representar los palos."
   ]
  },
  {
   "cell_type": "code",
   "execution_count": null,
   "id": "243b220d",
   "metadata": {},
   "outputs": [],
   "source": [
    "class Card:\n",
    "    \n",
    "    def __init__(self, suit=1, rank=2):\n",
    "        if suit < 1 or suit > 4:\n",
    "            print(\"palo inválido, estableciendo a 1\")\n",
    "            suit = 1\n",
    "            \n",
    "        self.suit = suit\n",
    "        self.rank = rank\n",
    "        \n",
    "    def value(self):\n",
    "        \"\"\" queremos ordenar principalmente por rango y luego por palo \"\"\"\n",
    "        return self.suit + (self.rank-1)*14\n",
    "    \n",
    "    # incluimos esto para permitir comparaciones con < y > entre cartas\n",
    "    def __lt__(self, other):\n",
    "        return self.value() < other.value()\n",
    "\n",
    "    def __eq__(self, other):\n",
    "        return self.rank == other.rank and self.suit == other.suit\n",
    "    \n",
    "    def __repr__(self):\n",
    "        return self.__str__()\n",
    "    \n",
    "    def __str__(self):\n",
    "        suits = [u\"\\u2660\",  # picas\n",
    "                 u\"\\u2665\",  # corazones\n",
    "                 u\"\\u2666\",  # diamantes\n",
    "                 u\"\\u2663\"]  # tréboles\n",
    "        \n",
    "        r = str(self.rank)\n",
    "        if self.rank == 11:\n",
    "            r = \"J\"\n",
    "        elif self.rank == 12:\n",
    "            r = \"Q\"\n",
    "        elif self.rank == 13:\n",
    "            r = \"K\"\n",
    "        elif self.rank == 14:\n",
    "            r = \"A\"\n",
    "                \n",
    "        return r +':'+suits[self.suit-1]"
   ]
  },
  {
   "cell_type": "markdown",
   "id": "7a278b79",
   "metadata": {},
   "source": [
    "Podemos crear una carta fácilmente."
   ]
  },
  {
   "cell_type": "code",
   "execution_count": null,
   "id": "21fbb41f",
   "metadata": {},
   "outputs": [],
   "source": [
    "c1 = Card()"
   ]
  },
  {
   "cell_type": "markdown",
   "id": "19b01e02",
   "metadata": {},
   "source": [
    "Podemos pasar argumentos a `__init__` cuando configuramos la clase:"
   ]
  },
  {
   "cell_type": "code",
   "execution_count": null,
   "id": "d3f9af85",
   "metadata": {},
   "outputs": [],
   "source": [
    "c2 = Card(suit=2, rank=2)"
   ]
  },
  {
   "cell_type": "markdown",
   "id": "627f832c",
   "metadata": {},
   "source": [
    "Una vez que tenemos nuestro objeto, podemos acceder a cualquiera de las funciones en la clase usando el operador `punto`"
   ]
  },
  {
   "cell_type": "code",
   "execution_count": null,
   "id": "0597a4e7",
   "metadata": {},
   "outputs": [],
   "source": [
    "c2.value()"
   ]
  },
  {
   "cell_type": "code",
   "execution_count": null,
   "id": "0605a542",
   "metadata": {},
   "outputs": [],
   "source": [
    "c3 = Card(suit=0, rank=4)"
   ]
  },
  {
   "cell_type": "markdown",
   "id": "e9dc00b8",
   "metadata": {},
   "source": [
    "El método `__str__` convierte el objeto en una cadena que puede ser impresa."
   ]
  },
  {
   "cell_type": "code",
   "execution_count": null,
   "id": "60a5c0c2",
   "metadata": {},
   "outputs": [],
   "source": [
    "print(c1)\n",
    "print(c2)"
   ]
  },
  {
   "cell_type": "markdown",
   "id": "922f7d5b",
   "metadata": {},
   "source": [
    "El método value asigna un valor al objeto que puede ser usado en comparaciones, y el método `__lt__` es el que hace la comparación real"
   ]
  },
  {
   "cell_type": "code",
   "execution_count": null,
   "id": "9d9ebfb3",
   "metadata": {},
   "outputs": [],
   "source": [
    "print(c1 > c2)\n",
    "print(c1 < c2)"
   ]
  },
  {
   "cell_type": "markdown",
   "id": "a0833869",
   "metadata": {},
   "source": [
    "Ten en cuenta que no todos los operadores están definidos para nuestra clase, así que, por ejemplo, no podemos sumar dos cartas:"
   ]
  },
  {
   "cell_type": "code",
   "execution_count": null,
   "id": "1366d3a5",
   "metadata": {},
   "outputs": [],
   "source": [
    "c1 + c2"
   ]
  },
  {
   "cell_type": "markdown",
   "id": "68d9f13d",
   "metadata": {},
   "source": [
    "````{admonition} Ejercicio Rápido\n",
    "\n",
    " * Crea una \"mano\" correspondiente a una escalera (5 cartas de cualquier palo, pero en secuencia de rango)\n",
    " * Crea otra mano correspondiente a un color (5 cartas todas del mismo palo, de cualquier rango)\n",
    " * Finalmente crea una mano con una de las cartas duplicada — esto no debería estar permitido en una baraja estándar de cartas. ¿Cómo comprobarías esto?\n",
    "\n",
    "````"
   ]
  },
  {
   "cell_type": "markdown",
   "id": "9d809253",
   "metadata": {},
   "source": []
  },
  {
   "cell_type": "markdown",
   "id": "84aaebb8",
   "metadata": {},
   "source": [
    "## Operadores"
   ]
  },
  {
   "cell_type": "markdown",
   "id": "4ff5223e",
   "metadata": {},
   "source": [
    "Podemos definir operaciones como `+` y `-` que funcionen con nuestros objetos. Aquí hay un ejemplo simple de moneda — mantenemos un registro del país y la cantidad"
   ]
  },
  {
   "cell_type": "code",
   "execution_count": null,
   "id": "4932379f",
   "metadata": {},
   "outputs": [],
   "source": [
    "class Currency:\n",
    "    \"\"\" una clase simple para manejar moneda extranjera \"\"\"\n",
    "    \n",
    "    def __init__(self, amount, country=\"US\"):\n",
    "        self.amount = amount\n",
    "        self.country = country\n",
    "        \n",
    "    def __add__(self, other):\n",
    "        return Currency(self.amount + other.amount, country=self.country)\n",
    "\n",
    "    def __sub__(self, other):\n",
    "        return Currency(self.amount - other.amount, country=self.country)\n",
    "\n",
    "    def __str__(self):\n",
    "        return f\"{self.amount} {self.country}\""
   ]
  },
  {
   "cell_type": "markdown",
   "id": "6d2395c1",
   "metadata": {},
   "source": [
    "Ahora podemos crear algunas cantidades monetarias para diferentes países"
   ]
  },
  {
   "cell_type": "code",
   "execution_count": null,
   "id": "f7e1591d",
   "metadata": {},
   "outputs": [],
   "source": [
    "d1 = Currency(10, \"US\")\n",
    "d2 = Currency(15, \"US\")\n",
    "print(d2 - d1)"
   ]
  },
  {
   "cell_type": "markdown",
   "id": "2f719f41",
   "metadata": {},
   "source": [
    "````{admonition} Ejercicio Rápido\n",
    "\n",
    "Tal como está escrita, nuestra clase Currency tiene un error — no comprueba si las cantidades están en el mismo país antes de sumarlas. Modifica el método `__add__` para que primero compruebe si los países son los mismos. Si lo son, devuelve el nuevo objeto `Currency` con la suma, si no, devuelve `None`.\n",
    "\n",
    "````"
   ]
  },
  {
   "cell_type": "markdown",
   "id": "9365dbb4",
   "metadata": {},
   "source": [
    "## <span class=\"fa fa-star\"></span> Ejemplo de Vectores\n",
    "\n",
    "Aquí escribimos una clase para representar vectores 2-d. Los vectores tienen una dirección y una magnitud. Podemos representarlos como un par de números, que representan las longitudes x e y. Internamente usaremos una tupla para esto.\n",
    "\n",
    "Queremos que nuestra clase haga todas las operaciones básicas que hacemos con vectores: sumarlos, multiplicar por un escalar, producto vectorial, producto escalar, devolver la magnitud, etc.\n",
    "\n",
    "Usaremos el módulo math para proporcionar algunas funciones básicas que podríamos necesitar (como sqrt)\n",
    "\n",
    "Este ejemplo nos mostrará cómo sobrecargar las operaciones estándar en python. Aquí hay una lista de los métodos incorporados:\n",
    "\n",
    "https://docs.python.org/3/reference/datamodel.html\n",
    "\n",
    "Para que quede muy claro qué se está llamando y cuándo, he añadido prints en cada una de las funciones"
   ]
  },
  {
   "cell_type": "markdown",
   "id": "b5497273",
   "metadata": {},
   "source": [
    "import math"
   ]
  },
  {
   "cell_type": "code",
   "execution_count": null,
   "id": "19d3c40a",
   "metadata": {},
   "outputs": [],
   "source": [
    "class Vector:\n",
    "    \"\"\" un vector bidimensional general \"\"\"\n",
    "    \n",
    "    def __init__(self, x, y):\n",
    "        print(\"en __init__\")\n",
    "        self.x = x\n",
    "        self.y = y\n",
    "        \n",
    "    def __str__(self):\n",
    "        print(\"en __str__\")        \n",
    "        return f\"({self.x} î + {self.y} ĵ)\"\n",
    "    \n",
    "    def __repr__(self):\n",
    "        print(\"en __repr__\")        \n",
    "        return f\"Vector({self.x}, {self.y})\"\n",
    "\n",
    "    def __add__(self, other):\n",
    "        print(\"en __add__\")        \n",
    "        if isinstance(other, Vector):\n",
    "            return Vector(self.x + other.x, self.y + other.y)\n",
    "        else:\n",
    "            # no tiene sentido sumar algo que no sean dos vectores\n",
    "            print(f\"no sabemos cómo sumar un {type(other)} a un Vector\")\n",
    "            raise NotImplementedError\n",
    "\n",
    "    def __sub__(self, other):\n",
    "        print(\"en __sub__\")        \n",
    "        if isinstance(other, Vector):\n",
    "            return Vector(self.x - other.x, self.y - other.y)\n",
    "        else:\n",
    "            # no tiene sentido restar algo que no sean dos vectores\n",
    "            print(f\"no sabemos cómo restar un {type(other)} a un Vector\")\n",
    "            raise NotImplementedError\n",
    "\n",
    "    def __mul__(self, other):\n",
    "        print(\"en __mul__\")        \n",
    "        if isinstance(other, int) or isinstance(other, float):\n",
    "            # la multiplicación escalar cambia la magnitud\n",
    "            return Vector(other*self.x, other*self.y)\n",
    "        else:\n",
    "            print(\"no sabemos cómo multiplicar dos Vectores\")\n",
    "            raise NotImplementedError\n",
    "\n",
    "    def __matmul__(self, other):\n",
    "        print(\"en __matmul__\")\n",
    "        # un producto escalar\n",
    "        if isinstance(other, Vector):\n",
    "            return self.x*other.x + self.y*other.y\n",
    "        else:\n",
    "            print(\"multiplicación matricial no definida\")\n",
    "            raise NotImplementedError\n",
    "\n",
    "    def __rmul__(self, other):\n",
    "        print(\"en __rmul__\")        \n",
    "        return self.__mul__(other)\n",
    "\n",
    "    def __truediv__(self, other):\n",
    "        print(\"en __truediv__\")        \n",
    "        # solo sabemos cómo multiplicar por un escalar\n",
    "        if isinstance(other, int) or isinstance(other, float):\n",
    "            return Vector(self.x/other, self.y/other)\n",
    "\n",
    "    def __abs__(self):\n",
    "        print(\"en __abs__\")        \n",
    "        return math.sqrt(self.x**2 + self.y**2)\n",
    "\n",
    "    def __neg__(self):\n",
    "        print(\"en __neg__\")        \n",
    "        return Vector(-self.x, -self.y)\n",
    "\n",
    "    def cross(self, other):\n",
    "        # un producto vectorial -- devolvemos la magnitud, ya que estará\n",
    "        # en la dirección z, pero solo somos 2-d \n",
    "        return abs(self.x*other.y - self.y*other.x)"
   ]
  },
  {
   "cell_type": "markdown",
   "id": "1b7015ee",
   "metadata": {},
   "source": [
    "Esta es una clase básica que proporciona dos métodos `__str__` y `__repr__` para mostrar una representación de ella. \n",
    "\n",
    "La convención es que `__str__` es legible por humanos mientras que `__repr__` debería ser una forma que pueda usarse para recrear el objeto (por ejemplo, a través de `eval()`). Ver:\n",
    "\n",
    "http://stackoverflow.com/questions/1436703/difference-between-str-and-repr-in-python"
   ]
  },
  {
   "cell_type": "code",
   "execution_count": null,
   "id": "49450722",
   "metadata": {},
   "outputs": [],
   "source": [
    "v = Vector(1,2)\n",
    "v"
   ]
  },
  {
   "cell_type": "code",
   "execution_count": null,
   "id": "573157ff",
   "metadata": {},
   "outputs": [],
   "source": [
    "print(v)"
   ]
  },
  {
   "cell_type": "markdown",
   "id": "d65c63f5",
   "metadata": {},
   "source": [
    "Los vectores tienen una longitud, y usaremos la función incorporada `abs()` para proporcionar la magnitud. Para un vector:\n",
    "\n",
    "$$\\vec{v} = \\alpha \\hat{i} + \\beta \\hat{j}$$\n",
    "\n",
    "tenemos\n",
    "\n",
    "$$|\\vec{v}| = \\sqrt{\\alpha^2 + \\beta^2}$$"
   ]
  },
  {
   "cell_type": "code",
   "execution_count": null,
   "id": "af43df8e",
   "metadata": {},
   "outputs": [],
   "source": [
    "abs(v)"
   ]
  },
  {
   "cell_type": "markdown",
   "id": "34991fc0",
   "metadata": {},
   "source": [
    "Veamos ahora las operaciones matemáticas con vectores. Queremos poder sumar y restar dos vectores así como multiplicar y dividir por un escalar."
   ]
  },
  {
   "cell_type": "code",
   "execution_count": null,
   "id": "96db2102",
   "metadata": {},
   "outputs": [],
   "source": [
    "u = Vector(3,5)"
   ]
  },
  {
   "cell_type": "code",
   "execution_count": null,
   "id": "2acae251",
   "metadata": {},
   "outputs": [],
   "source": [
    "w = u + v\n",
    "print(w)\n",
    "u - v"
   ]
  },
  {
   "cell_type": "markdown",
   "id": "ed10f210",
   "metadata": {},
   "source": [
    "No tiene sentido sumar un escalar a un vector, así que no implementamos esto -- ¿qué ocurre?"
   ]
  },
  {
   "cell_type": "code",
   "execution_count": null,
   "id": "74227d94",
   "metadata": {},
   "outputs": [],
   "source": [
    "u + 2.0"
   ]
  },
  {
   "cell_type": "markdown",
   "id": "3be92106",
   "metadata": {},
   "source": [
    "Ahora multiplicación. Tiene sentido multiplicar por un escalar, pero hay múltiples formas de definir la multiplicación de dos vectores.\n",
    "\n",
    "Ten en cuenta que Python proporciona tanto una función `__mul__` como una `__rmul__` para definir qué ocurre cuando multiplicamos un vector por una cantidad y qué ocurre cuando multiplicamos otra cosa por un vector."
   ]
  },
  {
   "cell_type": "code",
   "execution_count": null,
   "id": "93d4c02f",
   "metadata": {},
   "outputs": [],
   "source": [
    "u*2.0\n",
    "2.0*u"
   ]
  },
  {
   "cell_type": "markdown",
   "id": "ea282a62",
   "metadata": {},
   "source": [
    "y división: `__truediv__` es la forma de Python 3 de división `/`, mientras que `__floordiv__` es la forma antigua de Python 2, también habilitada a través de `//`.\n",
    "\n",
    "Dividir un escalar por un vector no tiene sentido:"
   ]
  },
  {
   "cell_type": "code",
   "execution_count": null,
   "id": "bc3759f2",
   "metadata": {},
   "outputs": [],
   "source": [
    "u/5.0"
   ]
  },
  {
   "cell_type": "code",
   "execution_count": null,
   "id": "66a65f6b",
   "metadata": {},
   "outputs": [],
   "source": [
    "5.0/u"
   ]
  },
  {
   "cell_type": "markdown",
   "id": "980157d4",
   "metadata": {},
   "source": [
    "Python 3.5 introdujo un nuevo operador de multiplicación matricial, `@` -- lo usaremos para implementar un producto escalar entre dos vectores:"
   ]
  },
  {
   "cell_type": "code",
   "execution_count": null,
   "id": "88f59bd2",
   "metadata": {},
   "outputs": [],
   "source": [
    "u @ v"
   ]
  },
  {
   "cell_type": "markdown",
   "id": "9f1597e8",
   "metadata": {},
   "source": [
    "Para un producto vectorial, no tenemos un operador obvio, así que usaremos una función. Para vectores 2-d, esto resultará en un escalar"
   ]
  },
  {
   "cell_type": "code",
   "execution_count": null,
   "id": "b422023b",
   "metadata": {},
   "outputs": [],
   "source": [
    "u.cross(v)"
   ]
  },
  {
   "cell_type": "markdown",
   "id": "bafd0d7c",
   "metadata": {},
   "source": [
    "Finalmente, la negación es una operación separada:"
   ]
  },
  {
   "cell_type": "code",
   "execution_count": null,
   "id": "c72aa654",
   "metadata": {},
   "outputs": [],
   "source": [
    "-u"
   ]
  }
 ],
 "metadata": {
  "language_info": {
   "name": "python"
  }
 },
 "nbformat": 4,
 "nbformat_minor": 5
}
