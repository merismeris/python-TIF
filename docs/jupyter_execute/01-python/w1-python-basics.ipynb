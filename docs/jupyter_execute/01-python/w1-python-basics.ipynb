{
 "cells": [
  {
   "cell_type": "markdown",
   "metadata": {},
   "source": [
    "# Primeros pasos con Python"
   ]
  },
  {
   "cell_type": "markdown",
   "metadata": {},
   "source": [
    "Ya hemos construido nuestro primer programa en Python. Ahora vamos a introducir los conceptos básicos de programación y las características principales del lenguaje. "
   ]
  },
  {
   "cell_type": "markdown",
   "metadata": {},
   "source": []
  },
  {
   "cell_type": "markdown",
   "metadata": {},
   "source": [
    "## Características principales de Python\n",
    "\n",
    "Aquí dejamos una tabla comparativa entre Python y MATLAB, para ver las características principales.\n",
    "\n",
    "|                        | MATLAB                                                  | Python                                             |\n",
    "|:-----------------------------------|:--------------------------------------------------------|:---------------------------------------------------|\n",
    "| Alto nivel                         | Sí                                                      | Sí                                                 |\n",
    "| Interpretado                       | Sí                                                      | Sí                                                 |\n",
    "| Uso                                | Uso específico (ingeniería, ciencias)                   | Uso de propósito general                           |\n",
    "| Declaración de variables/funciones | No es necesario                                         | No es necesario                                    |\n",
    "| Sensible a May/Min                 | Sí                                                      | Sí                                                 |\n",
    "| Basado en scripts                  | Sí                                                      | Sí                                                 |\n",
    "| Fin de sentencia                   | ; voluntario.                                           | ; Solo para poner dos sentencias en la misma línea |\n",
    "| Bibliotecas auxiliares             | Sí, pero no es necesario enlazarlas (ya lo hace MATLAB) | Sí, pero es obligatorio enlazarlas antes           |\n",
    "| Agrupamiento de sentencias         | Uso de end                                              | **Tabulaciones** (sangrado)                            |\n"
   ]
  },
  {
   "cell_type": "markdown",
   "metadata": {},
   "source": [
    "## Palabras reservadas\n",
    "Las palabras reservadas son aquellas que tienen un significado especial en el lenguaje y no pueden ser utilizadas como nombres de variables, funciones u otros identificadores. A continuación se muestra una lista de las palabras reservadas en Python (son 35 en total):\n"
   ]
  },
  {
   "cell_type": "code",
   "execution_count": 1,
   "metadata": {},
   "outputs": [
    {
     "name": "stdout",
     "output_type": "stream",
     "text": [
      "['False', 'None', 'True', 'and', 'as', 'assert', 'async', 'await', 'break', 'class', 'continue', 'def', 'del', 'elif', 'else', 'except', 'finally', 'for', 'from', 'global', 'if', 'import', 'in', 'is', 'lambda', 'nonlocal', 'not', 'or', 'pass', 'raise', 'return', 'try', 'while', 'with', 'yield']\n"
     ]
    }
   ],
   "source": [
    "import keyword\n",
    "print(keyword.kwlist)"
   ]
  },
  {
   "cell_type": "markdown",
   "metadata": {},
   "source": [
    "## Comentarios\n",
    "\n",
    "En Python, los comentarios se indican con el símbolo `#`. Todo lo que siga a este símbolo en una línea será ignorado por el intérprete de Python. Los comentarios son útiles para explicar el código y hacer que sea más legible.\n",
    "\n",
    "```python\n",
    "# Esto es un comentario en Python\n",
    "print(\"Hola, mundo!\")  # Esto también es un comentario\n",
    "\n",
    "```\n",
    "También se permiten \"comentarios\" multilínea utilizando comillas triples (`'''` o `\"\"\"`). Estos no son técnicamente comentarios, pero se usan comúnmente para documentar bloques de código o funciones:\n",
    "\n",
    "```python\n",
    "'''\n",
    "Esto es un comentario\n",
    "multilínea en Python\n",
    "'''"
   ]
  },
  {
   "cell_type": "markdown",
   "metadata": {},
   "source": [
    "## Identificadores y variables\n",
    "Los identificadores son los nombres que se utilizan para identificar variables, funciones, clases y otros objetos en Python. Hay algunas reglas y convenciones que se deben seguir al nombrar identificadores:\n",
    "- Deben comenzar con una letra (a-z, A-Z) o un guion bajo (_), seguido de letras, dígitos (0-9) o guiones bajos.\n",
    "    - Los guiones bajos al principio suelen tener un significado especial (por ejemplo, `_variable` indica que es una variable \"privada\").\n",
    "- No pueden ser iguales a las palabras reservadas del lenguaje.\n",
    "- Son sensibles a mayúsculas y minúsculas (por ejemplo, `variable` y `Variable` son diferentes).\n",
    "- Se recomienda utilizar nombres descriptivos y significativos para mejorar la legibilidad del código.\n",
    "- Se recomienda utilizar el estilo de nomenclatura `snake_case` para variables y funciones (por ejemplo, `mi_variable`).\n",
    "```python\n",
    "mi_variable = 10\n",
    "def mi_funcion():\n",
    "    pass\n",
    "``` \n",
    "Una variable es la representación de un dato cuyo valor puede variar durante la ejecución de un programa. En Python, no es necesario declarar el tipo de una variable antes de usarla, ya que Python es un lenguaje de tipado dinámico. Simplemente se asigna un valor a una variable utilizando el operador de asignación `=`, y Python infiere automáticamente el tipo de dato.\n",
    "\n",
    "Podemos saber el tipo de dato de una variable utilizando la función `type()`:\n",
    "\n"
   ]
  },
  {
   "cell_type": "code",
   "execution_count": 2,
   "metadata": {},
   "outputs": [
    {
     "name": "stdout",
     "output_type": "stream",
     "text": [
      "<class 'int'>\n",
      "<class 'float'>\n",
      "<class 'str'>\n"
     ]
    }
   ],
   "source": [
    "mi_variable = 10\n",
    "print(type(mi_variable))  # Salida: <class 'int'>  \n",
    "\n",
    "variable_flotante = 3.14\n",
    "print(type(variable_flotante))  # Salida: <class 'float'>\n",
    "variable_cadena = \"Hola\"\n",
    "print(type(variable_cadena))  # Salida: <class 'str'>   "
   ]
  },
  {
   "cell_type": "markdown",
   "metadata": {},
   "source": [
    "## Sentencia import\n",
    "Hay algunas operaciones o funcionalidades que no están disponibles en el núcleo de Python, pero que se pueden agregar mediante módulos o bibliotecas externas. En estos casos, podemos ayudarnos de código externo o auxiliar que han realizado otros desarrolladores: los módulos. \n",
    "\n",
    "Un módulo es un fichero de Python que contiene definiciones y declaraciones de Python. Los módulos permiten organizar el código en partes reutilizables y facilitar su mantenimiento.\n",
    "\n",
    "Para utilizar los módulos correspondientes, hay que: \n",
    "1. Instalarlo en nuestra máquina: VSCode ya incorpora los más usados. Los que no se encuentren preinstalados, habrá que instalarlos usando el comando `pip install nombre_modulo`. \n",
    "1. Importarlo en nuestro código. Para ello, se utiliza la sentencia `import`.\n",
    "1. Usar las funcionalidades del módulo importado.\n"
   ]
  },
  {
   "cell_type": "code",
   "execution_count": 3,
   "metadata": {},
   "outputs": [
    {
     "name": "stdout",
     "output_type": "stream",
     "text": [
      "4.0\n"
     ]
    }
   ],
   "source": [
    "import math  # Importa el módulo math\n",
    "resultado = math.sqrt(16)  # Usa la función sqrt del módulo math\n",
    "print(resultado)  # Salida: 4.0"
   ]
  },
  {
   "cell_type": "markdown",
   "metadata": {},
   "source": [
    "Existen varias formas de importar módulos en Python:\n",
    "- `import nombre_modulo`: Importa todo el módulo. Se accede a sus funciones y variables utilizando el prefijo `nombre_modulo.`.\n",
    "- `from nombre_modulo import nombre_funcion`: Importa una función específica del módulo.\n",
    "- `from nombre_modulo import *`: Importa todas las funciones y variables del módulo (no es recomendable por posibles conflictos de nombres)."
   ]
  },
  {
   "cell_type": "code",
   "execution_count": 4,
   "metadata": {},
   "outputs": [
    {
     "name": "stdout",
     "output_type": "stream",
     "text": [
      "5.0\n"
     ]
    }
   ],
   "source": [
    "\n",
    "from math import sqrt  # Importa solo la función sqrt del módulo math\n",
    "resultado = sqrt(25)  # Usa la función sqrt directamente\n",
    "print(resultado)  # Salida: 5.0"
   ]
  },
  {
   "cell_type": "markdown",
   "metadata": {},
   "source": [
    "Podemos cambiar el nombre del módulo importado utilizando la palabra clave `as`:"
   ]
  },
  {
   "cell_type": "code",
   "execution_count": 5,
   "metadata": {},
   "outputs": [
    {
     "name": "stdout",
     "output_type": "stream",
     "text": [
      "120\n"
     ]
    }
   ],
   "source": [
    "import math as m  # Importa el módulo math con el alias 'm'\n",
    "resultado = m.factorial(5)  # Usa la función factorial del módulo math\n",
    "print(resultado)  # Salida: 120"
   ]
  },
  {
   "cell_type": "markdown",
   "metadata": {},
   "source": [
    "Podemos importar varios módulos en una sola línea separándolos con comas:"
   ]
  },
  {
   "cell_type": "code",
   "execution_count": 6,
   "metadata": {},
   "outputs": [
    {
     "name": "stdout",
     "output_type": "stream",
     "text": [
      "10\n"
     ]
    }
   ],
   "source": [
    "\n",
    "import math, random  # Importa los módulos math y random\n",
    "numero_aleatorio = random.randint(1, 10)  # Usa la función randint del módulo random\n",
    "print(numero_aleatorio)  # Salida: un número aleatorio entre 1 y 10"
   ]
  },
  {
   "cell_type": "markdown",
   "metadata": {},
   "source": [
    "\n",
    "Para conocer las funciones que contiene un módulo, se puede utilizar la función `dir()`. Y para conocer cómo se usa una función específica, se puede utilizar la función `help()`."
   ]
  },
  {
   "cell_type": "code",
   "execution_count": 7,
   "metadata": {},
   "outputs": [
    {
     "name": "stdout",
     "output_type": "stream",
     "text": [
      "['__doc__', '__file__', '__loader__', '__name__', '__package__', '__spec__', 'acos', 'acosh', 'asin', 'asinh', 'atan', 'atan2', 'atanh', 'ceil', 'comb', 'copysign', 'cos', 'cosh', 'degrees', 'dist', 'e', 'erf', 'erfc', 'exp', 'expm1', 'fabs', 'factorial', 'floor', 'fmod', 'frexp', 'fsum', 'gamma', 'gcd', 'hypot', 'inf', 'isclose', 'isfinite', 'isinf', 'isnan', 'isqrt', 'lcm', 'ldexp', 'lgamma', 'log', 'log10', 'log1p', 'log2', 'modf', 'nan', 'nextafter', 'perm', 'pi', 'pow', 'prod', 'radians', 'remainder', 'sin', 'sinh', 'sqrt', 'tan', 'tanh', 'tau', 'trunc', 'ulp']\n",
      "Help on built-in function sqrt in module math:\n",
      "\n",
      "sqrt(x, /)\n",
      "    Return the square root of x.\n",
      "\n"
     ]
    }
   ],
   "source": [
    "import math\n",
    "print(dir(math))  # Muestra todas las funciones y variables del módulo math\n",
    "help(math.sqrt)  # Muestra la documentación de la función sqrt del módulo math"
   ]
  }
 ],
 "metadata": {
  "kernelspec": {
   "display_name": "Python 3",
   "language": "python",
   "name": "python3"
  },
  "language_info": {
   "codemirror_mode": {
    "name": "ipython",
    "version": 3
   },
   "file_extension": ".py",
   "mimetype": "text/x-python",
   "name": "python",
   "nbconvert_exporter": "python",
   "pygments_lexer": "ipython3",
   "version": "3.10.18"
  }
 },
 "nbformat": 4,
 "nbformat_minor": 4
}