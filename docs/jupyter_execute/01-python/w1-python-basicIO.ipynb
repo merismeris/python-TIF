{
 "cells": [
  {
   "cell_type": "markdown",
   "id": "0704793e",
   "metadata": {},
   "source": [
    "## Entrada y Salida de Datos\n",
    "Una de las principales cosas que queremos hacer en la computación científica es ingresar y extraer datos de nuestros programas.  Además de los archivos de texto plano, existen módulos que pueden leer muchos formatos de datos diferentes. Algunos los iremos viendo a lo largo del curso.\n",
    "\n",
    "Ahora en la E/S de datos estándar, es decir, a través de la terminal, así como el formateo básico de cadenas para mostrarlas por pantalla."
   ]
  },
  {
   "cell_type": "markdown",
   "id": "f2234111",
   "metadata": {},
   "source": [
    "### input()\n",
    "La función `input()` permite leer datos desde la entrada estándar (normalmente el teclado). Esta función toma un argumento opcional, que es una cadena que se muestra como un mensaje para el usuario. "
   ]
  },
  {
   "cell_type": "code",
   "execution_count": 1,
   "id": "4499597e",
   "metadata": {},
   "outputs": [
    {
     "ename": "StdinNotImplementedError",
     "evalue": "raw_input was called, but this frontend does not support input requests.",
     "output_type": "error",
     "traceback": [
      "\u001b[0;31m---------------------------------------------------------------------------\u001b[0m",
      "\u001b[0;31mStdinNotImplementedError\u001b[0m                  Traceback (most recent call last)",
      "Cell \u001b[0;32mIn[1], line 1\u001b[0m\n\u001b[0;32m----> 1\u001b[0m x\u001b[38;5;241m=\u001b[39m\u001b[38;5;28;43minput\u001b[39;49m\u001b[43m(\u001b[49m\u001b[38;5;124;43m\"\u001b[39;49m\u001b[38;5;124;43mPor favor, introduzca su nombre: \u001b[39;49m\u001b[38;5;124;43m\"\u001b[39;49m\u001b[43m)\u001b[49m\n\u001b[1;32m      2\u001b[0m \u001b[38;5;28mprint\u001b[39m(\u001b[38;5;124m\"\u001b[39m\u001b[38;5;124mHola, \u001b[39m\u001b[38;5;124m\"\u001b[39m \u001b[38;5;241m+\u001b[39m x \u001b[38;5;241m+\u001b[39m \u001b[38;5;124m\"\u001b[39m\u001b[38;5;124m!\u001b[39m\u001b[38;5;124m\"\u001b[39m)\n",
      "File \u001b[0;32m~/Documents/python-TIF/.conda/lib/python3.10/site-packages/ipykernel/kernelbase.py:1472\u001b[0m, in \u001b[0;36mKernel.raw_input\u001b[0;34m(self, prompt)\u001b[0m\n\u001b[1;32m   1470\u001b[0m \u001b[38;5;28;01mif\u001b[39;00m \u001b[38;5;129;01mnot\u001b[39;00m \u001b[38;5;28mself\u001b[39m\u001b[38;5;241m.\u001b[39m_allow_stdin:\n\u001b[1;32m   1471\u001b[0m     msg \u001b[38;5;241m=\u001b[39m \u001b[38;5;124m\"\u001b[39m\u001b[38;5;124mraw_input was called, but this frontend does not support input requests.\u001b[39m\u001b[38;5;124m\"\u001b[39m\n\u001b[0;32m-> 1472\u001b[0m     \u001b[38;5;28;01mraise\u001b[39;00m StdinNotImplementedError(msg)\n\u001b[1;32m   1473\u001b[0m \u001b[38;5;28;01mreturn\u001b[39;00m \u001b[38;5;28mself\u001b[39m\u001b[38;5;241m.\u001b[39m_input_request(\n\u001b[1;32m   1474\u001b[0m     \u001b[38;5;28mstr\u001b[39m(prompt),\n\u001b[1;32m   1475\u001b[0m     \u001b[38;5;28mself\u001b[39m\u001b[38;5;241m.\u001b[39m_shell_parent_ident\u001b[38;5;241m.\u001b[39mget(),\n\u001b[1;32m   1476\u001b[0m     \u001b[38;5;28mself\u001b[39m\u001b[38;5;241m.\u001b[39mget_parent(\u001b[38;5;124m\"\u001b[39m\u001b[38;5;124mshell\u001b[39m\u001b[38;5;124m\"\u001b[39m),\n\u001b[1;32m   1477\u001b[0m     password\u001b[38;5;241m=\u001b[39m\u001b[38;5;28;01mFalse\u001b[39;00m,\n\u001b[1;32m   1478\u001b[0m )\n",
      "\u001b[0;31mStdinNotImplementedError\u001b[0m: raw_input was called, but this frontend does not support input requests."
     ]
    }
   ],
   "source": [
    "x=input(\"Por favor, introduzca su nombre: \")\n",
    "print(\"Hola, \" + x + \"!\")"
   ]
  },
  {
   "cell_type": "markdown",
   "id": "e0bfa6e0",
   "metadata": {},
   "source": [
    "`input` siempre devuelve una cadena, por lo que si queremos leer otro tipo de dato, debemos convertirlo explícitamente. Por ejemplo, para leer un número entero:"
   ]
  },
  {
   "cell_type": "code",
   "execution_count": 2,
   "id": "c4dc805b",
   "metadata": {},
   "outputs": [
    {
     "ename": "StdinNotImplementedError",
     "evalue": "raw_input was called, but this frontend does not support input requests.",
     "output_type": "error",
     "traceback": [
      "\u001b[0;31m---------------------------------------------------------------------------\u001b[0m",
      "\u001b[0;31mStdinNotImplementedError\u001b[0m                  Traceback (most recent call last)",
      "Cell \u001b[0;32mIn[2], line 1\u001b[0m\n\u001b[0;32m----> 1\u001b[0m x\u001b[38;5;241m=\u001b[39m\u001b[38;5;28;43minput\u001b[39;49m\u001b[43m(\u001b[49m\u001b[38;5;124;43m\"\u001b[39;49m\u001b[38;5;124;43mPor favor, introduzca un número entero: \u001b[39;49m\u001b[38;5;124;43m\"\u001b[39;49m\u001b[43m)\u001b[49m\n\u001b[1;32m      2\u001b[0m num\u001b[38;5;241m=\u001b[39m\u001b[38;5;28mint\u001b[39m(x)\n\u001b[1;32m      3\u001b[0m \u001b[38;5;28mprint\u001b[39m(\u001b[38;5;124m\"\u001b[39m\u001b[38;5;124mEl número que ha introducido es:\u001b[39m\u001b[38;5;124m\"\u001b[39m, num)\n",
      "File \u001b[0;32m~/Documents/python-TIF/.conda/lib/python3.10/site-packages/ipykernel/kernelbase.py:1472\u001b[0m, in \u001b[0;36mKernel.raw_input\u001b[0;34m(self, prompt)\u001b[0m\n\u001b[1;32m   1470\u001b[0m \u001b[38;5;28;01mif\u001b[39;00m \u001b[38;5;129;01mnot\u001b[39;00m \u001b[38;5;28mself\u001b[39m\u001b[38;5;241m.\u001b[39m_allow_stdin:\n\u001b[1;32m   1471\u001b[0m     msg \u001b[38;5;241m=\u001b[39m \u001b[38;5;124m\"\u001b[39m\u001b[38;5;124mraw_input was called, but this frontend does not support input requests.\u001b[39m\u001b[38;5;124m\"\u001b[39m\n\u001b[0;32m-> 1472\u001b[0m     \u001b[38;5;28;01mraise\u001b[39;00m StdinNotImplementedError(msg)\n\u001b[1;32m   1473\u001b[0m \u001b[38;5;28;01mreturn\u001b[39;00m \u001b[38;5;28mself\u001b[39m\u001b[38;5;241m.\u001b[39m_input_request(\n\u001b[1;32m   1474\u001b[0m     \u001b[38;5;28mstr\u001b[39m(prompt),\n\u001b[1;32m   1475\u001b[0m     \u001b[38;5;28mself\u001b[39m\u001b[38;5;241m.\u001b[39m_shell_parent_ident\u001b[38;5;241m.\u001b[39mget(),\n\u001b[1;32m   1476\u001b[0m     \u001b[38;5;28mself\u001b[39m\u001b[38;5;241m.\u001b[39mget_parent(\u001b[38;5;124m\"\u001b[39m\u001b[38;5;124mshell\u001b[39m\u001b[38;5;124m\"\u001b[39m),\n\u001b[1;32m   1477\u001b[0m     password\u001b[38;5;241m=\u001b[39m\u001b[38;5;28;01mFalse\u001b[39;00m,\n\u001b[1;32m   1478\u001b[0m )\n",
      "\u001b[0;31mStdinNotImplementedError\u001b[0m: raw_input was called, but this frontend does not support input requests."
     ]
    }
   ],
   "source": [
    "x=input(\"Por favor, introduzca un número entero: \")\n",
    "num=int(x)\n",
    "print(\"El número que ha introducido es:\", num)\n"
   ]
  },
  {
   "cell_type": "markdown",
   "id": "a79ba14c",
   "metadata": {},
   "source": [
    "O bien, más corto:"
   ]
  },
  {
   "cell_type": "code",
   "execution_count": 3,
   "id": "2df0c33d",
   "metadata": {},
   "outputs": [
    {
     "ename": "StdinNotImplementedError",
     "evalue": "raw_input was called, but this frontend does not support input requests.",
     "output_type": "error",
     "traceback": [
      "\u001b[0;31m---------------------------------------------------------------------------\u001b[0m",
      "\u001b[0;31mStdinNotImplementedError\u001b[0m                  Traceback (most recent call last)",
      "Cell \u001b[0;32mIn[3], line 1\u001b[0m\n\u001b[0;32m----> 1\u001b[0m num\u001b[38;5;241m=\u001b[39m\u001b[38;5;28mint\u001b[39m(\u001b[38;5;28;43minput\u001b[39;49m\u001b[43m(\u001b[49m\u001b[38;5;124;43m\"\u001b[39;49m\u001b[38;5;124;43mPor favor, introduzca un número entero: \u001b[39;49m\u001b[38;5;124;43m\"\u001b[39;49m\u001b[43m)\u001b[49m)\n\u001b[1;32m      2\u001b[0m \u001b[38;5;28mprint\u001b[39m(\u001b[38;5;124m\"\u001b[39m\u001b[38;5;124mEl número que ha introducido es:\u001b[39m\u001b[38;5;124m\"\u001b[39m, num)\n",
      "File \u001b[0;32m~/Documents/python-TIF/.conda/lib/python3.10/site-packages/ipykernel/kernelbase.py:1472\u001b[0m, in \u001b[0;36mKernel.raw_input\u001b[0;34m(self, prompt)\u001b[0m\n\u001b[1;32m   1470\u001b[0m \u001b[38;5;28;01mif\u001b[39;00m \u001b[38;5;129;01mnot\u001b[39;00m \u001b[38;5;28mself\u001b[39m\u001b[38;5;241m.\u001b[39m_allow_stdin:\n\u001b[1;32m   1471\u001b[0m     msg \u001b[38;5;241m=\u001b[39m \u001b[38;5;124m\"\u001b[39m\u001b[38;5;124mraw_input was called, but this frontend does not support input requests.\u001b[39m\u001b[38;5;124m\"\u001b[39m\n\u001b[0;32m-> 1472\u001b[0m     \u001b[38;5;28;01mraise\u001b[39;00m StdinNotImplementedError(msg)\n\u001b[1;32m   1473\u001b[0m \u001b[38;5;28;01mreturn\u001b[39;00m \u001b[38;5;28mself\u001b[39m\u001b[38;5;241m.\u001b[39m_input_request(\n\u001b[1;32m   1474\u001b[0m     \u001b[38;5;28mstr\u001b[39m(prompt),\n\u001b[1;32m   1475\u001b[0m     \u001b[38;5;28mself\u001b[39m\u001b[38;5;241m.\u001b[39m_shell_parent_ident\u001b[38;5;241m.\u001b[39mget(),\n\u001b[1;32m   1476\u001b[0m     \u001b[38;5;28mself\u001b[39m\u001b[38;5;241m.\u001b[39mget_parent(\u001b[38;5;124m\"\u001b[39m\u001b[38;5;124mshell\u001b[39m\u001b[38;5;124m\"\u001b[39m),\n\u001b[1;32m   1477\u001b[0m     password\u001b[38;5;241m=\u001b[39m\u001b[38;5;28;01mFalse\u001b[39;00m,\n\u001b[1;32m   1478\u001b[0m )\n",
      "\u001b[0;31mStdinNotImplementedError\u001b[0m: raw_input was called, but this frontend does not support input requests."
     ]
    }
   ],
   "source": [
    "num=int(input(\"Por favor, introduzca un número entero: \"))\n",
    "print(\"El número que ha introducido es:\", num)"
   ]
  },
  {
   "cell_type": "markdown",
   "id": "a5a71014",
   "metadata": {},
   "source": [
    "### print()\n",
    "La función `print()` se utiliza para mostrar datos en la salida estándar (normalmente la pantalla). Puede tomar múltiples argumentos separados por comas, y los convertirá a cadenas si no lo son. Por ejemplo:\n"
   ]
  },
  {
   "cell_type": "code",
   "execution_count": 4,
   "id": "4c6c6d72",
   "metadata": {},
   "outputs": [
    {
     "ename": "NameError",
     "evalue": "name 'num' is not defined",
     "output_type": "error",
     "traceback": [
      "\u001b[0;31m---------------------------------------------------------------------------\u001b[0m",
      "\u001b[0;31mNameError\u001b[0m                                 Traceback (most recent call last)",
      "Cell \u001b[0;32mIn[4], line 1\u001b[0m\n\u001b[0;32m----> 1\u001b[0m \u001b[38;5;28mprint\u001b[39m(\u001b[38;5;124m\"\u001b[39m\u001b[38;5;124mEl número que ha introducido es:\u001b[39m\u001b[38;5;124m\"\u001b[39m, \u001b[43mnum\u001b[49m)\n",
      "\u001b[0;31mNameError\u001b[0m: name 'num' is not defined"
     ]
    }
   ],
   "source": [
    "print(\"El número que ha introducido es:\", num)"
   ]
  },
  {
   "cell_type": "markdown",
   "id": "6e37d844",
   "metadata": {},
   "source": [
    "Todos los argumentos que introduzcas en `print()` serán convertidos a cadenas y separados por espacios por defecto. Puedes cambiar el separador usando el parámetro `sep` y el final de línea con el parámetro `end`. Por ejemplo:"
   ]
  },
  {
   "cell_type": "code",
   "execution_count": 5,
   "id": "2118adfd",
   "metadata": {},
   "outputs": [
    {
     "name": "stdout",
     "output_type": "stream",
     "text": [
      "Hola, mundo!\n"
     ]
    }
   ],
   "source": [
    "print(\"Hola\", \"mundo\", sep=\", \", end=\"!\\n\") # Esto imprimirá `Hola, mundo!` en la pantalla."
   ]
  },
  {
   "cell_type": "markdown",
   "id": "cc85abe4",
   "metadata": {},
   "source": [
    "Existen varias maneras de formatear cadenas en Python, incluyendo el uso de f-strings (cadenas literales formateadas), el método `str.format()`, y el operador `%`. \n",
    "\n",
    "- Para cadenas de tipo f-string (disponible en Python 3.6 y posteriores), puedes incluir expresiones dentro de llaves `{}` que serán evaluadas en tiempo de ejecución. No olvides que hay que poner una `f` antes de las comillas de la cadena para indicar que es una f-string.\n",
    "- Usando el método `str.format()`. En este caso puedes usar llaves `{}` como marcadores de posición en la cadena y luego llamar al método `format()` con los valores que deseas insertar:\n",
    "- Usando el operador `%`, que es una forma más antigua de formatear cadenas en Python. Aquí, se utilizan descriptores de formato como `%s` para cadenas y `%d` para enteros, y luego se proporciona una tupla con los valores correspondientes:\n",
    "name = \"Charlie\"\n",
    "age = 35\n",
    "\n",
    "\n",
    "Aquí tienes ejemplos de cada método:"
   ]
  },
  {
   "cell_type": "code",
   "execution_count": 6,
   "id": "a4f5d209",
   "metadata": {},
   "outputs": [
    {
     "name": "stdout",
     "output_type": "stream",
     "text": [
      "Mi nombre es Alice y tengo 30 años.\n",
      "Mi nombre es {name} y tengo {age} años.\n",
      "Mi nombre es Alice y tengo 30 años.\n",
      "Mi nombre es Alice y tengo 30 años.\n"
     ]
    }
   ],
   "source": [
    "\n",
    "name = \"Alice\"\n",
    "age = 30\n",
    "\n",
    "print(f\"Mi nombre es {name} y tengo {age} años.\")#f-string. ¡Ojo a la f que se pone delante! \n",
    "print(\"Mi nombre es {name} y tengo {age} años.\") # Esto no funcionará como se espera\n",
    "print(\"Mi nombre es {} y tengo {} años.\".format(name, age)) #str.format()\n",
    "print(\"Mi nombre es %s y tengo %d años.\" % (name, age)) #operador % y descriptores de formato\n"
   ]
  }
 ],
 "metadata": {
  "kernelspec": {
   "display_name": "Python 3",
   "language": "python",
   "name": "python3"
  },
  "language_info": {
   "codemirror_mode": {
    "name": "ipython",
    "version": 3
   },
   "file_extension": ".py",
   "mimetype": "text/x-python",
   "name": "python",
   "nbconvert_exporter": "python",
   "pygments_lexer": "ipython3",
   "version": "3.10.18"
  }
 },
 "nbformat": 4,
 "nbformat_minor": 5
}