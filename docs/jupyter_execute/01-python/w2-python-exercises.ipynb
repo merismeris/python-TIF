{
 "cells": [
  {
   "cell_type": "markdown",
   "metadata": {},
   "source": [
    "# Exercises"
   ]
  },
  {
   "cell_type": "markdown",
   "metadata": {},
   "source": [
    "## Q 1\n",
    "\n",
    "When talking about floating point, we discussed _machine epsilon_, $\\epsilon$&mdash;this is the smallest number that when added to 1 is still different from 1.\n",
    "\n",
    "We'll compute $\\epsilon$ here:\n",
    "\n",
    "  * Pick an initial guess for $\\epsilon$ of `eps = 1`.  \n",
    "\n",
    "  * Create a loop that checks whether `1 + eps` is different from `1`\n",
    "  \n",
    "  * Each loop iteration, cut the value of `eps` in half\n",
    "  \n",
    "What value of $\\epsilon$ do you find?"
   ]
  },
  {
   "cell_type": "code",
   "execution_count": null,
   "metadata": {
    "tags": []
   },
   "outputs": [],
   "source": []
  },
  {
   "cell_type": "markdown",
   "metadata": {},
   "source": [
    "## Q 2\n",
    "\n",
    "To iterate over the tuples, where the _i_-th tuple contains the _i_-th elements of certain sequences, we can use `zip(*sequences)` function.\n",
    "\n",
    "We will iterate over two lists, `names` and `age`, and print out the resulting tuples.\n",
    "\n",
    "  * Start by initializing lists `names = [\"Mary\", \"John\", \"Sarah\"]` and `age = [21, 56, 98]`.\n",
    "  \n",
    "  * Iterate over the tuples containing a name and an age, the `zip(list1, list2)` function might be useful here.\n",
    "  \n",
    "  * Print out formatted strings of the type \"*NAME is AGE years old*\"."
   ]
  },
  {
   "cell_type": "code",
   "execution_count": null,
   "metadata": {
    "tags": []
   },
   "outputs": [],
   "source": []
  },
  {
   "cell_type": "markdown",
   "metadata": {},
   "source": [
    "## Q 3\n",
    "\n",
    "The function `enumerate(sequence)` returns tuples containing indices of objects in the sequence, and the objects. \n",
    "\n",
    "The `random` module provides tools for working with the random numbers. In particular, `random.randint(start, end)` generates a random number not smaller than `start`, and not bigger than `end`.\n",
    "\n",
    "  * Generate a list of 10 random numbers from 0 to 9.\n",
    "  \n",
    "  * Using the `enumerate(random_list)` function, iterate over the tuples of random numbers and their indices, and print out *\"Match: NUMBER and INDEX\"* if the random number and its index in the list match."
   ]
  },
  {
   "cell_type": "code",
   "execution_count": 1,
   "metadata": {},
   "outputs": [
    {
     "name": "stdout",
     "output_type": "stream",
     "text": [
      "7\n"
     ]
    }
   ],
   "source": [
    "import random\n",
    "\n",
    "random_number = random.randint(0,9)\n",
    "print(random_number)"
   ]
  },
  {
   "cell_type": "markdown",
   "metadata": {},
   "source": [
    "## Q 4\n",
    "\n",
    "The Fibbonacci sequence is a numerical sequence where each number is the sum of the 2 preceding numbers, e.g., 1, 1, 2, 3, 5, 8, 13, ...\n",
    "\n",
    "Create a list where the elements are the terms in the Fibbonacci sequence:\n",
    "\n",
    "  * Start with the list `fib = [1, 1]`\n",
    "  \n",
    "  * Loop 25 times, compute the next term as the sum of the previous 2 terms and append to the list\n",
    "  \n",
    "  * After the loop is complete, print out the terms \n",
    "  \n",
    "You may find it useful to use `fib[-1]` and `fib[-2]` to access the last to items in the list"
   ]
  },
  {
   "cell_type": "code",
   "execution_count": null,
   "metadata": {
    "tags": []
   },
   "outputs": [],
   "source": []
  },
  {
   "cell_type": "markdown",
   "metadata": {},
   "source": [
    "## Q 5\n",
    "\n",
    "We can use the `input()` function to ask for input from the prompt (note: in python 2 the function was called `raw_input()`).\n",
    "\n",
    "Create an empty list and use a while loop to ask the user for input and append their input to the list.  Keep looping until 10 items are added to the list"
   ]
  },
  {
   "cell_type": "code",
   "execution_count": null,
   "metadata": {
    "tags": []
   },
   "outputs": [],
   "source": []
  },
  {
   "cell_type": "markdown",
   "metadata": {},
   "source": [
    "## Q 6\n",
    "\n",
    "Here is a list of book titles (from http://thegreatestbooks.org).  Loop through the list and capitalize each word in each title.  You might find the `.capitalize()` method that works on strings useful."
   ]
  },
  {
   "cell_type": "code",
   "execution_count": 2,
   "metadata": {
    "tags": []
   },
   "outputs": [],
   "source": [
    "titles = [\"don quixote\", \n",
    "          \"in search of lost time\", \n",
    "          \"ulysses\", \n",
    "          \"the odyssey\", \n",
    "          \"war and piece\", \n",
    "          \"moby dick\", \n",
    "          \"the divine comedy\", \n",
    "          \"hamlet\", \n",
    "          \"the adventures of huckleberry finn\", \n",
    "          \"the great gatsby\"]"
   ]
  },
  {
   "cell_type": "code",
   "execution_count": null,
   "metadata": {
    "tags": []
   },
   "outputs": [],
   "source": []
  },
  {
   "cell_type": "markdown",
   "metadata": {},
   "source": [
    "## <span class=\"fa fa-star\"></span> Q 7\n",
    "\n",
    "Here's some text (the Gettysburg Address).  Our goal is to count how many times each word repeats.  We'll do a brute force method first, and then we'll look a ways to do it more efficiently (and compactly)."
   ]
  },
  {
   "cell_type": "code",
   "execution_count": 3,
   "metadata": {
    "tags": []
   },
   "outputs": [],
   "source": [
    "gettysburg_address = \"\"\"\n",
    "Four score and seven years ago our fathers brought forth on this continent, \n",
    "a new nation, conceived in Liberty, and dedicated to the proposition that \n",
    "all men are created equal.\n",
    "\n",
    "Now we are engaged in a great civil war, testing whether that nation, or \n",
    "any nation so conceived and so dedicated, can long endure. We are met on\n",
    "a great battle-field of that war. We have come to dedicate a portion of\n",
    "that field, as a final resting place for those who here gave their lives\n",
    "that that nation might live. It is altogether fitting and proper that we\n",
    "should do this.\n",
    "\n",
    "But, in a larger sense, we can not dedicate -- we can not consecrate -- we\n",
    "can not hallow -- this ground. The brave men, living and dead, who struggled\n",
    "here, have consecrated it, far above our poor power to add or detract.  The\n",
    "world will little note, nor long remember what we say here, but it can never\n",
    "forget what they did here. It is for us the living, rather, to be dedicated\n",
    "here to the unfinished work which they who fought here have thus far so nobly\n",
    "advanced. It is rather for us to be here dedicated to the great task remaining\n",
    "before us -- that from these honored dead we take increased devotion to that\n",
    "cause for which they gave the last full measure of devotion -- that we here\n",
    "highly resolve that these dead shall not have died in vain -- that this\n",
    "nation, under God, shall have a new birth of freedom -- and that government\n",
    "of the people, by the people, for the people, shall not perish from the earth.\n",
    "\"\"\""
   ]
  },
  {
   "cell_type": "markdown",
   "metadata": {},
   "source": [
    "We've already seen the `.split()` method will, by default, split by spaces, so it will split this into words, producing a list:"
   ]
  },
  {
   "cell_type": "code",
   "execution_count": 4,
   "metadata": {
    "tags": []
   },
   "outputs": [],
   "source": [
    "ga = gettysburg_address.split()"
   ]
  },
  {
   "cell_type": "code",
   "execution_count": 5,
   "metadata": {},
   "outputs": [
    {
     "data": {
      "text/plain": [
       "['Four',\n",
       " 'score',\n",
       " 'and',\n",
       " 'seven',\n",
       " 'years',\n",
       " 'ago',\n",
       " 'our',\n",
       " 'fathers',\n",
       " 'brought',\n",
       " 'forth',\n",
       " 'on',\n",
       " 'this',\n",
       " 'continent,',\n",
       " 'a',\n",
       " 'new',\n",
       " 'nation,',\n",
       " 'conceived',\n",
       " 'in',\n",
       " 'Liberty,',\n",
       " 'and',\n",
       " 'dedicated',\n",
       " 'to',\n",
       " 'the',\n",
       " 'proposition',\n",
       " 'that',\n",
       " 'all',\n",
       " 'men',\n",
       " 'are',\n",
       " 'created',\n",
       " 'equal.',\n",
       " 'Now',\n",
       " 'we',\n",
       " 'are',\n",
       " 'engaged',\n",
       " 'in',\n",
       " 'a',\n",
       " 'great',\n",
       " 'civil',\n",
       " 'war,',\n",
       " 'testing',\n",
       " 'whether',\n",
       " 'that',\n",
       " 'nation,',\n",
       " 'or',\n",
       " 'any',\n",
       " 'nation',\n",
       " 'so',\n",
       " 'conceived',\n",
       " 'and',\n",
       " 'so',\n",
       " 'dedicated,',\n",
       " 'can',\n",
       " 'long',\n",
       " 'endure.',\n",
       " 'We',\n",
       " 'are',\n",
       " 'met',\n",
       " 'on',\n",
       " 'a',\n",
       " 'great',\n",
       " 'battle-field',\n",
       " 'of',\n",
       " 'that',\n",
       " 'war.',\n",
       " 'We',\n",
       " 'have',\n",
       " 'come',\n",
       " 'to',\n",
       " 'dedicate',\n",
       " 'a',\n",
       " 'portion',\n",
       " 'of',\n",
       " 'that',\n",
       " 'field,',\n",
       " 'as',\n",
       " 'a',\n",
       " 'final',\n",
       " 'resting',\n",
       " 'place',\n",
       " 'for',\n",
       " 'those',\n",
       " 'who',\n",
       " 'here',\n",
       " 'gave',\n",
       " 'their',\n",
       " 'lives',\n",
       " 'that',\n",
       " 'that',\n",
       " 'nation',\n",
       " 'might',\n",
       " 'live.',\n",
       " 'It',\n",
       " 'is',\n",
       " 'altogether',\n",
       " 'fitting',\n",
       " 'and',\n",
       " 'proper',\n",
       " 'that',\n",
       " 'we',\n",
       " 'should',\n",
       " 'do',\n",
       " 'this.',\n",
       " 'But,',\n",
       " 'in',\n",
       " 'a',\n",
       " 'larger',\n",
       " 'sense,',\n",
       " 'we',\n",
       " 'can',\n",
       " 'not',\n",
       " 'dedicate',\n",
       " '--',\n",
       " 'we',\n",
       " 'can',\n",
       " 'not',\n",
       " 'consecrate',\n",
       " '--',\n",
       " 'we',\n",
       " 'can',\n",
       " 'not',\n",
       " 'hallow',\n",
       " '--',\n",
       " 'this',\n",
       " 'ground.',\n",
       " 'The',\n",
       " 'brave',\n",
       " 'men,',\n",
       " 'living',\n",
       " 'and',\n",
       " 'dead,',\n",
       " 'who',\n",
       " 'struggled',\n",
       " 'here,',\n",
       " 'have',\n",
       " 'consecrated',\n",
       " 'it,',\n",
       " 'far',\n",
       " 'above',\n",
       " 'our',\n",
       " 'poor',\n",
       " 'power',\n",
       " 'to',\n",
       " 'add',\n",
       " 'or',\n",
       " 'detract.',\n",
       " 'The',\n",
       " 'world',\n",
       " 'will',\n",
       " 'little',\n",
       " 'note,',\n",
       " 'nor',\n",
       " 'long',\n",
       " 'remember',\n",
       " 'what',\n",
       " 'we',\n",
       " 'say',\n",
       " 'here,',\n",
       " 'but',\n",
       " 'it',\n",
       " 'can',\n",
       " 'never',\n",
       " 'forget',\n",
       " 'what',\n",
       " 'they',\n",
       " 'did',\n",
       " 'here.',\n",
       " 'It',\n",
       " 'is',\n",
       " 'for',\n",
       " 'us',\n",
       " 'the',\n",
       " 'living,',\n",
       " 'rather,',\n",
       " 'to',\n",
       " 'be',\n",
       " 'dedicated',\n",
       " 'here',\n",
       " 'to',\n",
       " 'the',\n",
       " 'unfinished',\n",
       " 'work',\n",
       " 'which',\n",
       " 'they',\n",
       " 'who',\n",
       " 'fought',\n",
       " 'here',\n",
       " 'have',\n",
       " 'thus',\n",
       " 'far',\n",
       " 'so',\n",
       " 'nobly',\n",
       " 'advanced.',\n",
       " 'It',\n",
       " 'is',\n",
       " 'rather',\n",
       " 'for',\n",
       " 'us',\n",
       " 'to',\n",
       " 'be',\n",
       " 'here',\n",
       " 'dedicated',\n",
       " 'to',\n",
       " 'the',\n",
       " 'great',\n",
       " 'task',\n",
       " 'remaining',\n",
       " 'before',\n",
       " 'us',\n",
       " '--',\n",
       " 'that',\n",
       " 'from',\n",
       " 'these',\n",
       " 'honored',\n",
       " 'dead',\n",
       " 'we',\n",
       " 'take',\n",
       " 'increased',\n",
       " 'devotion',\n",
       " 'to',\n",
       " 'that',\n",
       " 'cause',\n",
       " 'for',\n",
       " 'which',\n",
       " 'they',\n",
       " 'gave',\n",
       " 'the',\n",
       " 'last',\n",
       " 'full',\n",
       " 'measure',\n",
       " 'of',\n",
       " 'devotion',\n",
       " '--',\n",
       " 'that',\n",
       " 'we',\n",
       " 'here',\n",
       " 'highly',\n",
       " 'resolve',\n",
       " 'that',\n",
       " 'these',\n",
       " 'dead',\n",
       " 'shall',\n",
       " 'not',\n",
       " 'have',\n",
       " 'died',\n",
       " 'in',\n",
       " 'vain',\n",
       " '--',\n",
       " 'that',\n",
       " 'this',\n",
       " 'nation,',\n",
       " 'under',\n",
       " 'God,',\n",
       " 'shall',\n",
       " 'have',\n",
       " 'a',\n",
       " 'new',\n",
       " 'birth',\n",
       " 'of',\n",
       " 'freedom',\n",
       " '--',\n",
       " 'and',\n",
       " 'that',\n",
       " 'government',\n",
       " 'of',\n",
       " 'the',\n",
       " 'people,',\n",
       " 'by',\n",
       " 'the',\n",
       " 'people,',\n",
       " 'for',\n",
       " 'the',\n",
       " 'people,',\n",
       " 'shall',\n",
       " 'not',\n",
       " 'perish',\n",
       " 'from',\n",
       " 'the',\n",
       " 'earth.']"
      ]
     },
     "execution_count": 5,
     "metadata": {},
     "output_type": "execute_result"
    }
   ],
   "source": [
    "ga"
   ]
  },
  {
   "cell_type": "markdown",
   "metadata": {},
   "source": [
    "Now, the next problem is that some of these still have punctuation.  In particular, we see \"`.`\", \"`,`\", and \"`--`\".\n",
    "\n",
    "When considering a word, we can get rid of these by using the `replace()` method:"
   ]
  },
  {
   "cell_type": "code",
   "execution_count": 6,
   "metadata": {},
   "outputs": [
    {
     "data": {
      "text/plain": [
       "'end'"
      ]
     },
     "execution_count": 6,
     "metadata": {},
     "output_type": "execute_result"
    }
   ],
   "source": [
    "a = \"end.,\"\n",
    "b = a.replace(\".\", \"\").replace(\",\", \"\")\n",
    "b"
   ]
  },
  {
   "cell_type": "markdown",
   "metadata": {},
   "source": [
    "Another problem is case&mdash;we want to count \"but\" and \"But\" as the same.  Strings have a `lower()` method that can be used to convert a string:"
   ]
  },
  {
   "cell_type": "code",
   "execution_count": 7,
   "metadata": {},
   "outputs": [
    {
     "data": {
      "text/plain": [
       "False"
      ]
     },
     "execution_count": 7,
     "metadata": {},
     "output_type": "execute_result"
    }
   ],
   "source": [
    "a = \"But\"\n",
    "b = \"but\"\n",
    "a == b"
   ]
  },
  {
   "cell_type": "code",
   "execution_count": 8,
   "metadata": {},
   "outputs": [
    {
     "data": {
      "text/plain": [
       "True"
      ]
     },
     "execution_count": 8,
     "metadata": {},
     "output_type": "execute_result"
    }
   ],
   "source": [
    "a.lower() == b.lower()"
   ]
  },
  {
   "cell_type": "markdown",
   "metadata": {},
   "source": [
    "Recall that strings are immutable, so `replace()` produces a new string on output."
   ]
  },
  {
   "cell_type": "markdown",
   "metadata": {},
   "source": [
    "## your task\n",
    "\n",
    "Create a dictionary that uses the unique words as keys and has as a value the number of times that word appears.  \n",
    "\n",
    "Write a loop over the words in the string (using our split version) and do the following:\n",
    "  * remove any punctuation\n",
    "  * convert to lowercase\n",
    "  * test if the word is already a key in the dictionary (using the `in` operator)\n",
    "     - if the key exists, increment the word count for that key\n",
    "     - otherwise, add it to the dictionary with the appropriate count of `1`.\n",
    "\n",
    "At the end, print out the words and a count of how many times they appear"
   ]
  },
  {
   "cell_type": "code",
   "execution_count": 9,
   "metadata": {
    "tags": []
   },
   "outputs": [],
   "source": [
    "# your code here\n"
   ]
  },
  {
   "cell_type": "markdown",
   "metadata": {},
   "source": [
    "## More compact way\n",
    "\n",
    "We can actually do this a lot more compactly by using another list comprehensions and another python datatype called a set.  A set is a group of items, where each item is unique (e.g., no repetitions)."
   ]
  },
  {
   "cell_type": "markdown",
   "metadata": {},
   "source": [
    "Here's a list comprehension that removes all the punctuation and converts to lower case:"
   ]
  },
  {
   "cell_type": "code",
   "execution_count": 10,
   "metadata": {
    "tags": []
   },
   "outputs": [],
   "source": [
    "words = [q.lower().replace(\".\", \"\").replace(\",\", \"\") for q in ga]"
   ]
  },
  {
   "cell_type": "markdown",
   "metadata": {},
   "source": [
    "and by using the `set()` function, we turn the list into a set, removing any duplicates:"
   ]
  },
  {
   "cell_type": "code",
   "execution_count": 11,
   "metadata": {
    "tags": []
   },
   "outputs": [],
   "source": [
    "unique_words = set(words)"
   ]
  },
  {
   "cell_type": "markdown",
   "metadata": {},
   "source": [
    "now we can loop over the unique words and use the `count` method of a list to find how many there are"
   ]
  },
  {
   "cell_type": "code",
   "execution_count": 12,
   "metadata": {},
   "outputs": [
    {
     "data": {
      "text/plain": [
       "{'remember': 1,\n",
       " 'increased': 1,\n",
       " 'civil': 1,\n",
       " 'under': 1,\n",
       " 'endure': 1,\n",
       " 'as': 1,\n",
       " 'freedom': 1,\n",
       " 'battle-field': 1,\n",
       " 'liberty': 1,\n",
       " 'we': 10,\n",
       " 'proposition': 1,\n",
       " 'any': 1,\n",
       " 'hallow': 1,\n",
       " 'what': 2,\n",
       " 'so': 3,\n",
       " 'fought': 1,\n",
       " 'altogether': 1,\n",
       " 'take': 1,\n",
       " 'now': 1,\n",
       " 'lives': 1,\n",
       " 'poor': 1,\n",
       " 'continent': 1,\n",
       " 'for': 5,\n",
       " 'this': 4,\n",
       " 'never': 1,\n",
       " 'these': 2,\n",
       " 'died': 1,\n",
       " 'is': 3,\n",
       " 'to': 8,\n",
       " 'living': 2,\n",
       " 'work': 1,\n",
       " 'from': 2,\n",
       " 'remaining': 1,\n",
       " 'come': 1,\n",
       " 'nobly': 1,\n",
       " 'should': 1,\n",
       " 'consecrate': 1,\n",
       " 'before': 1,\n",
       " 'full': 1,\n",
       " 'testing': 1,\n",
       " 'thus': 1,\n",
       " 'sense': 1,\n",
       " 'are': 3,\n",
       " 'who': 3,\n",
       " 'measure': 1,\n",
       " 'highly': 1,\n",
       " 'gave': 2,\n",
       " 'it': 5,\n",
       " 'created': 1,\n",
       " 'brave': 1,\n",
       " 'last': 1,\n",
       " 'years': 1,\n",
       " 'long': 2,\n",
       " 'little': 1,\n",
       " 'live': 1,\n",
       " 'here': 8,\n",
       " 'the': 11,\n",
       " 'and': 6,\n",
       " 'fathers': 1,\n",
       " 'dedicate': 2,\n",
       " 'add': 1,\n",
       " 'above': 1,\n",
       " 'birth': 1,\n",
       " 'did': 1,\n",
       " 'will': 1,\n",
       " 'larger': 1,\n",
       " 'devotion': 2,\n",
       " 'four': 1,\n",
       " 'a': 7,\n",
       " 'portion': 1,\n",
       " 'equal': 1,\n",
       " 'government': 1,\n",
       " 'advanced': 1,\n",
       " 'dedicated': 4,\n",
       " 'or': 2,\n",
       " 'might': 1,\n",
       " 'all': 1,\n",
       " 'on': 2,\n",
       " 'brought': 1,\n",
       " 'earth': 1,\n",
       " 'of': 5,\n",
       " 'great': 3,\n",
       " 'met': 1,\n",
       " 'forth': 1,\n",
       " 'which': 2,\n",
       " 'cause': 1,\n",
       " 'perish': 1,\n",
       " 'place': 1,\n",
       " 'have': 5,\n",
       " 'field': 1,\n",
       " 'men': 2,\n",
       " 'their': 1,\n",
       " 'detract': 1,\n",
       " 'not': 5,\n",
       " 'ground': 1,\n",
       " 'vain': 1,\n",
       " 'by': 1,\n",
       " 'world': 1,\n",
       " 'war': 2,\n",
       " 'resting': 1,\n",
       " '--': 7,\n",
       " 'nor': 1,\n",
       " 'conceived': 2,\n",
       " 'our': 2,\n",
       " 'ago': 1,\n",
       " 'unfinished': 1,\n",
       " 'note': 1,\n",
       " 'be': 2,\n",
       " 'whether': 1,\n",
       " 'shall': 3,\n",
       " 'can': 5,\n",
       " 'in': 4,\n",
       " 'those': 1,\n",
       " 'new': 2,\n",
       " 'fitting': 1,\n",
       " 'people': 3,\n",
       " 'proper': 1,\n",
       " 'say': 1,\n",
       " 'consecrated': 1,\n",
       " 'rather': 2,\n",
       " 'nation': 5,\n",
       " 'that': 13,\n",
       " 'god': 1,\n",
       " 'final': 1,\n",
       " 'forget': 1,\n",
       " 'score': 1,\n",
       " 'power': 1,\n",
       " 'do': 1,\n",
       " 'seven': 1,\n",
       " 'they': 3,\n",
       " 'us': 3,\n",
       " 'honored': 1,\n",
       " 'engaged': 1,\n",
       " 'dead': 3,\n",
       " 'far': 2,\n",
       " 'but': 2,\n",
       " 'resolve': 1,\n",
       " 'task': 1,\n",
       " 'struggled': 1}"
      ]
     },
     "execution_count": 12,
     "metadata": {},
     "output_type": "execute_result"
    }
   ],
   "source": [
    "count = {}\n",
    "for uw in unique_words:\n",
    "    count[uw] = words.count(uw)\n",
    "    \n",
    "count"
   ]
  },
  {
   "cell_type": "markdown",
   "metadata": {},
   "source": [
    "Even shorter -- we can use a dictionary comprehension, like a list comprehension"
   ]
  },
  {
   "cell_type": "code",
   "execution_count": 13,
   "metadata": {
    "tags": []
   },
   "outputs": [],
   "source": [
    "c = {uw: count[uw] for uw in unique_words}"
   ]
  },
  {
   "cell_type": "code",
   "execution_count": 14,
   "metadata": {},
   "outputs": [
    {
     "data": {
      "text/plain": [
       "{'remember': 1,\n",
       " 'increased': 1,\n",
       " 'civil': 1,\n",
       " 'under': 1,\n",
       " 'endure': 1,\n",
       " 'as': 1,\n",
       " 'freedom': 1,\n",
       " 'battle-field': 1,\n",
       " 'liberty': 1,\n",
       " 'we': 10,\n",
       " 'proposition': 1,\n",
       " 'any': 1,\n",
       " 'hallow': 1,\n",
       " 'what': 2,\n",
       " 'so': 3,\n",
       " 'fought': 1,\n",
       " 'altogether': 1,\n",
       " 'take': 1,\n",
       " 'now': 1,\n",
       " 'lives': 1,\n",
       " 'poor': 1,\n",
       " 'continent': 1,\n",
       " 'for': 5,\n",
       " 'this': 4,\n",
       " 'never': 1,\n",
       " 'these': 2,\n",
       " 'died': 1,\n",
       " 'is': 3,\n",
       " 'to': 8,\n",
       " 'living': 2,\n",
       " 'work': 1,\n",
       " 'from': 2,\n",
       " 'remaining': 1,\n",
       " 'come': 1,\n",
       " 'nobly': 1,\n",
       " 'should': 1,\n",
       " 'consecrate': 1,\n",
       " 'before': 1,\n",
       " 'full': 1,\n",
       " 'testing': 1,\n",
       " 'thus': 1,\n",
       " 'sense': 1,\n",
       " 'are': 3,\n",
       " 'who': 3,\n",
       " 'measure': 1,\n",
       " 'highly': 1,\n",
       " 'gave': 2,\n",
       " 'it': 5,\n",
       " 'created': 1,\n",
       " 'brave': 1,\n",
       " 'last': 1,\n",
       " 'years': 1,\n",
       " 'long': 2,\n",
       " 'little': 1,\n",
       " 'live': 1,\n",
       " 'here': 8,\n",
       " 'the': 11,\n",
       " 'and': 6,\n",
       " 'fathers': 1,\n",
       " 'dedicate': 2,\n",
       " 'add': 1,\n",
       " 'above': 1,\n",
       " 'birth': 1,\n",
       " 'did': 1,\n",
       " 'will': 1,\n",
       " 'larger': 1,\n",
       " 'devotion': 2,\n",
       " 'four': 1,\n",
       " 'a': 7,\n",
       " 'portion': 1,\n",
       " 'equal': 1,\n",
       " 'government': 1,\n",
       " 'advanced': 1,\n",
       " 'dedicated': 4,\n",
       " 'or': 2,\n",
       " 'might': 1,\n",
       " 'all': 1,\n",
       " 'on': 2,\n",
       " 'brought': 1,\n",
       " 'earth': 1,\n",
       " 'of': 5,\n",
       " 'great': 3,\n",
       " 'met': 1,\n",
       " 'forth': 1,\n",
       " 'which': 2,\n",
       " 'cause': 1,\n",
       " 'perish': 1,\n",
       " 'place': 1,\n",
       " 'have': 5,\n",
       " 'field': 1,\n",
       " 'men': 2,\n",
       " 'their': 1,\n",
       " 'detract': 1,\n",
       " 'not': 5,\n",
       " 'ground': 1,\n",
       " 'vain': 1,\n",
       " 'by': 1,\n",
       " 'world': 1,\n",
       " 'war': 2,\n",
       " 'resting': 1,\n",
       " '--': 7,\n",
       " 'nor': 1,\n",
       " 'conceived': 2,\n",
       " 'our': 2,\n",
       " 'ago': 1,\n",
       " 'unfinished': 1,\n",
       " 'note': 1,\n",
       " 'be': 2,\n",
       " 'whether': 1,\n",
       " 'shall': 3,\n",
       " 'can': 5,\n",
       " 'in': 4,\n",
       " 'those': 1,\n",
       " 'new': 2,\n",
       " 'fitting': 1,\n",
       " 'people': 3,\n",
       " 'proper': 1,\n",
       " 'say': 1,\n",
       " 'consecrated': 1,\n",
       " 'rather': 2,\n",
       " 'nation': 5,\n",
       " 'that': 13,\n",
       " 'god': 1,\n",
       " 'final': 1,\n",
       " 'forget': 1,\n",
       " 'score': 1,\n",
       " 'power': 1,\n",
       " 'do': 1,\n",
       " 'seven': 1,\n",
       " 'they': 3,\n",
       " 'us': 3,\n",
       " 'honored': 1,\n",
       " 'engaged': 1,\n",
       " 'dead': 3,\n",
       " 'far': 2,\n",
       " 'but': 2,\n",
       " 'resolve': 1,\n",
       " 'task': 1,\n",
       " 'struggled': 1}"
      ]
     },
     "execution_count": 14,
     "metadata": {},
     "output_type": "execute_result"
    }
   ],
   "source": [
    "c"
   ]
  }
 ],
 "metadata": {
  "kernelspec": {
   "display_name": "Python 3 (ipykernel)",
   "language": "python",
   "name": "python3"
  },
  "language_info": {
   "codemirror_mode": {
    "name": "ipython",
    "version": 3
   },
   "file_extension": ".py",
   "mimetype": "text/x-python",
   "name": "python",
   "nbconvert_exporter": "python",
   "pygments_lexer": "ipython3",
   "version": "3.10.18"
  }
 },
 "nbformat": 4,
 "nbformat_minor": 4
}