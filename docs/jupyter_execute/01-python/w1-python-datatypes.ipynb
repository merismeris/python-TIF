{
 "cells": [
  {
   "cell_type": "markdown",
   "metadata": {},
   "source": [
    "# Tipos de dato básicos y operadores en Python"
   ]
  },
  {
   "cell_type": "markdown",
   "metadata": {},
   "source": [
    "Python es un lenguaje de tipado dinámico: esto significa que no es\n",
    "necesario especificar de antemano qué tipo de dato se va a almacenar\n",
    "en una variable.  Sin embargo, existen algunos tipos de datos básicos\n",
    "con los que debemos familiarizarnos al usar el lenguaje.\n",
    "\n",
    "Estos tipos de datos básicos son:\n",
    "- `int`: enteros (números sin parte decimal)\n",
    "- `float`: números de punto flotante (números con parte decimal)\n",
    "- `bool`: valores booleanos (True o False)\n",
    "- `complex`: números complejos (números con parte real e imaginaria)\n",
    "Además de estos tipos de datos básicos, Python incluye varios tipos\n",
    "de datos compuestos, que permiten almacenar colecciones de datos:\n",
    "- `list`: listas (colecciones ordenadas y mutables de elementos)\n",
    "- `tuple`: tuplas (colecciones ordenadas e inmutables de elementos)\n",
    "- `str`: cadenas de texto (se definen entre comillas simples o dobles)\n",
    "- `dict`: diccionarios (colecciones de pares clave-valor)\n",
    "- `set`: conjuntos (colecciones no ordenadas de elementos únicos)\n"
   ]
  },
  {
   "cell_type": "markdown",
   "metadata": {},
   "source": [
    "```{tip}\n",
    "El punto flotante es esencial para la ciencia computacional. Una\n",
    "gran introducción al punto flotante y sus limitaciones es: [Lo que\n",
    "todo científico de la computación debería saber sobre la aritmética\n",
    "de punto flotante](http://dl.acm.org/citation.cfm?id=103163) por\n",
    "D. Goldberg.\n",
    "```"
   ]
  },
  {
   "cell_type": "markdown",
   "metadata": {},
   "source": [
    "Los tipos de datos básicos son contenedores de un solo valor.  Podemos\n",
    "realizar operaciones matemáticas y lógicas con estos tipos de datos.  Por\n",
    "ejemplo, podemos sumar dos enteros o comparar dos valores booleanos.\n",
    "\n",
    "Vamos a ver sus características principales y operaciones aritméticas básicas. \n"
   ]
  },
  {
   "cell_type": "markdown",
   "metadata": {},
   "source": [
    "## Enteros (`int`)"
   ]
  },
  {
   "cell_type": "markdown",
   "metadata": {},
   "source": [
    "Loss enteros son números sin parte decimal.  Pueden ser positivos o negativos.  La mayoría de los lenguajes de programación usan una cantidad finita de memoria para almacenar un solo entero, pero en python se expandirá la cantidad de memoria según sea necesario para almacenar enteros grandes.\n",
    "Los operadores básicos, `+`, `-`, `*`, y `/` funcionan con enteros.  Además, python incluye el operador `//` para división entera (que redondea hacia abajo al entero más cercano) y el operador `%` para obtener el resto de una división.\n"
   ]
  },
  {
   "cell_type": "code",
   "execution_count": 1,
   "metadata": {
    "tags": []
   },
   "outputs": [
    {
     "data": {
      "text/plain": [
       "7"
      ]
     },
     "execution_count": 1,
     "metadata": {},
     "output_type": "execute_result"
    }
   ],
   "source": [
    "2+2+3"
   ]
  },
  {
   "cell_type": "code",
   "execution_count": 2,
   "metadata": {
    "tags": []
   },
   "outputs": [
    {
     "data": {
      "text/plain": [
       "-8"
      ]
     },
     "execution_count": 2,
     "metadata": {},
     "output_type": "execute_result"
    }
   ],
   "source": [
    "2*-4"
   ]
  },
  {
   "cell_type": "markdown",
   "metadata": {},
   "source": [
    "```{note}\n",
    "En python, dividir dos enteros resulta en un número de punto flotante (real). Si se desea una división entera, se debe usar el operador `//`.\n",
    "```"
   ]
  },
  {
   "cell_type": "code",
   "execution_count": 3,
   "metadata": {
    "tags": []
   },
   "outputs": [
    {
     "data": {
      "text/plain": [
       "0.5"
      ]
     },
     "execution_count": 3,
     "metadata": {},
     "output_type": "execute_result"
    }
   ],
   "source": [
    "\n",
    "1/2"
   ]
  },
  {
   "cell_type": "code",
   "execution_count": 4,
   "metadata": {
    "tags": []
   },
   "outputs": [
    {
     "data": {
      "text/plain": [
       "0"
      ]
     },
     "execution_count": 4,
     "metadata": {},
     "output_type": "execute_result"
    }
   ],
   "source": [
    "1//2"
   ]
  },
  {
   "cell_type": "markdown",
   "metadata": {},
   "source": [
    "Python es un lenguaje de tipado dinámico: esto significa que no es necesario especificar de antemano qué tipo de dato se va a almacenar en una variable. Para inicializar una variable, se utiliza el operador `=` para asignarle un valor, como hemos visto en el capítulo anterior"
   ]
  },
  {
   "cell_type": "code",
   "execution_count": 5,
   "metadata": {},
   "outputs": [],
   "source": [
    "a = 1\n",
    "b = 2"
   ]
  },
  {
   "cell_type": "markdown",
   "metadata": {},
   "source": [
    "Podemos realizar operaciones aritméticas con variables de tipo entero: "
   ]
  },
  {
   "cell_type": "code",
   "execution_count": 6,
   "metadata": {
    "tags": []
   },
   "outputs": [
    {
     "data": {
      "text/plain": [
       "3"
      ]
     },
     "execution_count": 6,
     "metadata": {},
     "output_type": "execute_result"
    }
   ],
   "source": [
    "a + b"
   ]
  },
  {
   "cell_type": "code",
   "execution_count": 7,
   "metadata": {
    "tags": []
   },
   "outputs": [
    {
     "data": {
      "text/plain": [
       "2"
      ]
     },
     "execution_count": 7,
     "metadata": {},
     "output_type": "execute_result"
    }
   ],
   "source": [
    "a * b"
   ]
  },
  {
   "cell_type": "markdown",
   "metadata": {},
   "source": [
    "Se pueden inicializar múltiples variables en una sola línea:\n",
    "\n"
   ]
  },
  {
   "cell_type": "code",
   "execution_count": 8,
   "metadata": {},
   "outputs": [],
   "source": [
    "x = y = z = 0"
   ]
  },
  {
   "cell_type": "markdown",
   "metadata": {},
   "source": [
    "Como hemos comentado, la función `type()` returns the data type of a variable"
   ]
  },
  {
   "cell_type": "code",
   "execution_count": 9,
   "metadata": {
    "tags": []
   },
   "outputs": [
    {
     "data": {
      "text/plain": [
       "int"
      ]
     },
     "execution_count": 9,
     "metadata": {},
     "output_type": "execute_result"
    }
   ],
   "source": [
    "type(x)"
   ]
  },
  {
   "cell_type": "markdown",
   "metadata": {},
   "source": [
    "```{note}\n",
    "En otros lenguajes de programación, los enteros tienen un tamaño fijo. En estos lenguajes, si se intenta almacenar un entero que excede el tamaño máximo permitido, se produce un error de desbordamiento (*overflow*). En Python, los enteros pueden crecer en tamaño según sea necesario, lo que evita este problema.\n",
    "```"
   ]
  },
  {
   "cell_type": "code",
   "execution_count": 10,
   "metadata": {
    "tags": []
   },
   "outputs": [
    {
     "name": "stdout",
     "output_type": "stream",
     "text": [
      "12345678901234567890123456789012345123456789012345678901234567890\n",
      "213\n",
      "<class 'int'>\n"
     ]
    }
   ],
   "source": [
    "a = 12345678901234567890123456789012345123456789012345678901234567890\n",
    "print(a)\n",
    "print(a.bit_length())\n",
    "print(type(a))"
   ]
  },
  {
   "cell_type": "markdown",
   "metadata": {},
   "source": [
    "## Números de punto flotante (`float`) - Reales"
   ]
  },
  {
   "cell_type": "markdown",
   "metadata": {},
   "source": [
    "Los reales son números que pueden tener una parte decimal.   Los operadores básicos, `+`, `-`, `*`, y `/` funcionan con números reales. Podemos mezclar enteros y reales en operaciones aritméticas, y el resultado será un número real."
   ]
  },
  {
   "cell_type": "code",
   "execution_count": 11,
   "metadata": {
    "tags": []
   },
   "outputs": [
    {
     "data": {
      "text/plain": [
       "3.0"
      ]
     },
     "execution_count": 11,
     "metadata": {},
     "output_type": "execute_result"
    }
   ],
   "source": [
    "1. + 2"
   ]
  },
  {
   "cell_type": "markdown",
   "metadata": {},
   "source": [
    "```{important}\n",
    "\n",
    "No todos los números pueden ser representados en punto flotante.  Dado que hay infinitos números reales entre dos límites cualesquiera, pero estamos usando una cantidad finita de memoria, en una computadora tenemos que aproximar los números.  Existe un estándar IEEE para punto flotante que prácticamente todos los lenguajes y procesadores siguen. En python, los números de punto flotante se representan utilizando el estándar IEEE 754 de doble precisión, lo que significa que ocupan 64 bits de memoria. \n",
    "\n",
    "Esto significa que: \n",
    "*   no todos los números reales tendrán una representación exacta en punto flotante\n",
    "*   existe una precisión finita para los números -- por debajo de esta perdemos el seguimiento de las diferencias (es el error de *redondeo*)\n",
    "\n",
    "```"
   ]
  },
  {
   "cell_type": "markdown",
   "metadata": {},
   "source": [
    "Consideremos esta expresión. Al ejecutarlo, ¿qué resultado esperamos?"
   ]
  },
  {
   "cell_type": "code",
   "execution_count": 12,
   "metadata": {
    "tags": []
   },
   "outputs": [
    {
     "data": {
      "text/plain": [
       "-4.440892098500626e-16"
      ]
     },
     "execution_count": 12,
     "metadata": {},
     "output_type": "execute_result"
    }
   ],
   "source": [
    "0.3/0.1 - 3"
   ]
  },
  {
   "cell_type": "markdown",
   "metadata": {},
   "source": [
    "¿Por qué ha ocurrido esto? El número 0.1 no puede representarse en binario de forma exacta. \n",
    "En nuestro print, usamos un especificador de formato (lo que está dentro de los `{}`) para pedir que se muestre más precisión:"
   ]
  },
  {
   "cell_type": "code",
   "execution_count": 13,
   "metadata": {
    "tags": []
   },
   "outputs": [
    {
     "name": "stdout",
     "output_type": "stream",
     "text": [
      "        0.10000000000000000555\n"
     ]
    }
   ],
   "source": [
    "a = 0.1\n",
    "print(\"{:30.20}\".format(a))"
   ]
  },
  {
   "cell_type": "markdown",
   "metadata": {},
   "source": [
    "Al preguntar por la precisión, vemos que solo se pueden almacenar números entre ciertos límites: 2.2e-308 y 1.8e+308.  Si se intenta almacenar un número fuera de estos límites, se produce un error de desbordamiento (*overflow*). Además, la precisión es de 2.22e-16, lo que significa que las diferencias menores a este valor no se pueden representar con precisión. Esto se conoce como machine epsilon. "
   ]
  },
  {
   "cell_type": "code",
   "execution_count": 14,
   "metadata": {
    "tags": []
   },
   "outputs": [
    {
     "data": {
      "text/plain": [
       "sys.float_info(max=1.7976931348623157e+308, max_exp=1024, max_10_exp=308, min=2.2250738585072014e-308, min_exp=-1021, min_10_exp=-307, dig=15, mant_dig=53, epsilon=2.220446049250313e-16, radix=2, rounds=1)"
      ]
     },
     "execution_count": 14,
     "metadata": {},
     "output_type": "execute_result"
    }
   ],
   "source": [
    "import sys\n",
    "sys.float_info"
   ]
  },
  {
   "cell_type": "markdown",
   "metadata": {},
   "source": [
    "Note that this says that we can only store numbers between 2.2250738585072014e-308 and 1.7976931348623157e+308\n",
    "\n",
    "We also see that the precision is 2.220446049250313e-16 (this is commonly called _machine epsilon_).  To see this, consider adding a small number to 1.0.  We'll use the equality operator (`==`) to test if two numbers are equal:"
   ]
  },
  {
   "cell_type": "markdown",
   "metadata": {},
   "source": [
    "```{admonition} Ejercicio Rápido\n",
    "Define dos variables, $a = 1$, y $e = 10^{-16}$.\n",
    "Ahora define una tercera variable, `b = a + e`\n",
    "Usamos el operador `==` de python para probar la igualdad. ¿Qué esperas que devuelva `b == a`? ejecútalo y ve si coincide con tu suposición.\n",
    "¿Qué valor se muestra al imprimir `b` con 20 dígitos de precisión?\n",
    "```"
   ]
  },
  {
   "cell_type": "code",
   "execution_count": 15,
   "metadata": {
    "tags": []
   },
   "outputs": [
    {
     "name": "stdout",
     "output_type": "stream",
     "text": [
      "True\n",
      "                           1.0\n"
     ]
    }
   ],
   "source": [
    "a=1; e=1e-16\n",
    "b=a+e\n",
    "print(b==a)\n",
    "print(\"{:30.20}\".format(b))\n"
   ]
  },
  {
   "cell_type": "markdown",
   "metadata": {},
   "source": [
    "## Valores booleanos (`bool`)\n",
    "Los valores booleanos representan dos estados: verdadero (`True`) y falso (`False`).  En python, los valores booleanos son de tipo `bool`.  Podemos crear variables booleanas asignándoles los valores `True` o `False` directamente, o utilizando operadores de comparación.\n"
   ]
  },
  {
   "cell_type": "code",
   "execution_count": 16,
   "metadata": {},
   "outputs": [
    {
     "name": "stdout",
     "output_type": "stream",
     "text": [
      "<class 'bool'>\n"
     ]
    }
   ],
   "source": [
    "a = True\n",
    "b = False\n",
    "c = (5 > 3)  # Esto es True\n",
    "d = (2 == 4) # Esto es False\n",
    "print(type(a))"
   ]
  },
  {
   "cell_type": "markdown",
   "metadata": {},
   "source": [
    "Los valores booleanos se almacenan utilizando un solo bit de memoria, donde `True` se representa como 1 y `False` como 0."
   ]
  },
  {
   "cell_type": "markdown",
   "metadata": {},
   "source": [
    "## Números complejos (`complex`)\n",
    "Los números complejos tienen una parte real y una parte imaginaria.  En python, los números complejos se representan utilizando el tipo de dato `complex`.  Podemos crear números complejos utilizando la letra `j` para representar la unidad imaginaria.  Por ejemplo, `3 + 4j` representa el número complejo con parte real 3 y parte imaginaria 4.\n",
    "\n",
    "Podemos realizar operaciones aritméticas con números complejos utilizando los operadores básicos `+`, `-`, `*`, y `/`.  Python maneja automáticamente las operaciones con números complejos, siguiendo las reglas matemáticas correspondientes.\n"
   ]
  },
  {
   "cell_type": "code",
   "execution_count": 17,
   "metadata": {},
   "outputs": [
    {
     "name": "stdout",
     "output_type": "stream",
     "text": [
      "Suma: (4+2j)\n",
      "Multiplicación: (11-2j)\n",
      "División: (-1+2j)\n"
     ]
    }
   ],
   "source": [
    "a = 3 + 4j\n",
    "b = 1 - 2j\n",
    "c = a + b  # Suma\n",
    "d = a * b  # Multiplicación\n",
    "e = a / b  # División\n",
    "print(\"Suma:\", c)\n",
    "print(\"Multiplicación:\", d)\n",
    "print(\"División:\", e)"
   ]
  },
  {
   "cell_type": "markdown",
   "metadata": {},
   "source": [
    "Los números complejos se almacenan utilizando dos números de punto flotante: uno para la parte real y otro para la parte imaginaria.  Por lo tanto, las limitaciones y precisiones discutidas anteriormente para los números de punto flotante también se aplican a las partes real e imaginaria de los números complejos.\n"
   ]
  },
  {
   "cell_type": "markdown",
   "metadata": {},
   "source": [
    "## Operadores\n",
    "\n",
    "Los operadores son ítems o símbolos que actúan sobre uno, dos o más operandos para realizar una determinada operación. Siempre producen un resultado. Hay varios tipos de operadores en Python, incluyendo:\n",
    "- Aritméticos: `+`, `-`, `*`, `/`, `//`, `%`, `**`\n",
    "- Comparación o relación: `==`, `!=`, `<`, `>`, `<=`, `\n",
    "- Lógicos: `and`, `or`, `not`, `is`\n",
    "- Asignación: `=`, `+=`, `-=`, `*=`, `/=`\n",
    "- Bit a bit: `&`, `|`, `^`, `~`, `<<`, `>>`\n",
    "- Casting: `int()`, `float()`, `bool()`, `complex()`\n",
    "- Operadores especiales (de pertenencia e identidad): `in`, `not in`, `is`, `is not` -- En el próximo tema\n",
    "\n",
    "### Operadores Aritméticos\n",
    "Los operadores aritméticos se utilizan para realizar operaciones matemáticas básicas. Aquí hay una lista de los operadores aritméticos más comunes en Python:\n",
    "- `+` : Suma\n",
    "- `-` : Resta o bien, cambio de signo.\n",
    "- `*` : Multiplicación\n",
    "- `/` : División\n",
    "- `//` : División entera (redondea hacia abajo al entero más cercano)\n",
    "- `%` : Módulo (resto de la división para valores enteros o punto flotante)\n",
    "- `**` : Exponenciación (potenciación)  (¡ojo con el uso de `^` que en python es un operador bit a bit!)\n",
    "\n",
    "La precedencia de los operadores sigue la de la mayoría de los lenguajes.  Ver: \n",
    "\n",
    "https://docs.python.org/3/reference/expressions.html#operator-precedence\n",
    "\n",
    "Los operadores se evalúan en el siguiente orden (de mayor a menor precedencia):\n",
    "* expresiones en `()`\n",
    "* exponenciación (`**`)\n",
    "* `*`, `/`, `//`, `%`\n",
    "* `+`, `-`\n",
    "Por último, vienen los operadores de comparación y lógicos."
   ]
  },
  {
   "cell_type": "markdown",
   "metadata": {},
   "source": [
    "### Operadores de Comparación\n",
    "Los operadores de comparación se utilizan para comparar dos valores. Aquí hay una lista de los operadores de comparación más comunes en Python:\n",
    "- `==` : Igualdad\n",
    "- `!=` : Desigualdad\n",
    "- `<` : Menor que\n",
    "- `>` : Mayor que\n",
    "- `<=` : Menor o igual que\n",
    "- `>=` : Mayor o igual que\n",
    "Estos operadores devuelven un valor booleano (`True` o `False`) dependiendo del resultado de la comparación.\n",
    "\n",
    "Algunos ejemplos:\n",
    "\n"
   ]
  },
  {
   "cell_type": "code",
   "execution_count": 18,
   "metadata": {},
   "outputs": [
    {
     "name": "stdout",
     "output_type": "stream",
     "text": [
      "False\n",
      "False\n",
      "True\n"
     ]
    }
   ],
   "source": [
    "a=5\n",
    "b=-3\n",
    "c=a+b\n",
    "d=a*b\n",
    "e=a/b\n",
    "f=a**b\n",
    "print(a==d)\n",
    "print(c<e)\n",
    "print(f>0)\n",
    "\n"
   ]
  },
  {
   "cell_type": "markdown",
   "metadata": {},
   "source": [
    "En Python, podemos encadenar comparaciones para verificar múltiples condiciones a la vez:\n"
   ]
  },
  {
   "cell_type": "code",
   "execution_count": 19,
   "metadata": {},
   "outputs": [
    {
     "name": "stdout",
     "output_type": "stream",
     "text": [
      "True\n",
      "False\n"
     ]
    }
   ],
   "source": [
    "x = 5\n",
    "print(1 < x < 10)  # True\n",
    "print(10 < x < 20) # False"
   ]
  },
  {
   "cell_type": "markdown",
   "metadata": {},
   "source": [
    "### Operadores lógicos\n",
    "Los operadores lógicos se utilizan para combinar expresiones booleanas. Aquí hay una lista de los operadores lógicos más comunes en Python:\n",
    "- `and` : Devuelve `True` si ambas expresiones son `True`\n",
    "- `or` : Devuelve `True` si al menos una de las expresiones es `True`\n",
    "- `not` : Invierte el valor de una expresión   \n",
    "Algunos ejemplos:\n"
   ]
  },
  {
   "cell_type": "code",
   "execution_count": 20,
   "metadata": {},
   "outputs": [
    {
     "name": "stdout",
     "output_type": "stream",
     "text": [
      "False True False\n"
     ]
    }
   ],
   "source": [
    "a = True\n",
    "b = False\n",
    "c = a and b  # Esto es False\n",
    "d = a or b   # Esto es True\n",
    "e = not a    # Esto es False\n",
    "print(c, d, e)"
   ]
  },
  {
   "cell_type": "markdown",
   "metadata": {},
   "source": [
    "En Python, se considera que ciertos valores son \"falsos\" en un contexto booleano, incluyendo:\n",
    "- `False`\n",
    "- `None`\n",
    "- Cero de cualquier tipo numérico: `0`, `0.0`, `0\n",
    "- Cadenas vacías: `''`, `\"\"`\n",
    "- Listas, tuplas, conjuntos y diccionarios vacíos: `[]`, `()`, `{}`, `set()`\n",
    "\n",
    "Para comprobarlo, podemos usar la función `bool()` para convertir cualquier valor a su equivalente booleano:"
   ]
  },
  {
   "cell_type": "code",
   "execution_count": 21,
   "metadata": {},
   "outputs": [
    {
     "name": "stdout",
     "output_type": "stream",
     "text": [
      "False\n",
      "True\n",
      "False\n",
      "True\n",
      "False\n",
      "True\n"
     ]
    }
   ],
   "source": [
    "print(bool(0))          # False\n",
    "print(bool(42))         # True\n",
    "print(bool(\"\"))         # False\n",
    "print(bool(\"Hello\"))    # True\n",
    "print(bool([]))         # False\n",
    "print(bool([1, 2, 3]))  # True"
   ]
  },
  {
   "cell_type": "markdown",
   "metadata": {},
   "source": [
    "```{tip}\n",
    "Ojo con confundirnos con MATLAB! Si utilizáis los símbolos `&` y `|` para operaciones lógicas, en python estos son operadores bit a bit. \n",
    "```"
   ]
  },
  {
   "cell_type": "code",
   "execution_count": 22,
   "metadata": {},
   "outputs": [
    {
     "name": "stdout",
     "output_type": "stream",
     "text": [
      "1\n",
      "3\n",
      "2\n"
     ]
    }
   ],
   "source": [
    "print (3 & 1)  # Resultado: 1 (AND bit a bit)\n",
    "print (3 | 1)  # Resultado: 3 (OR bit a bit)\n",
    "print (3 ^ 1)  # Resultado: 2 (XOR bit a bit)"
   ]
  },
  {
   "cell_type": "markdown",
   "metadata": {},
   "source": [
    "### Casting\n",
    "\n",
    "Python permite convertir en ocasines variables con un tipo determinado a otro tipo diferente. Las conversiones pueden ser:\n",
    "- Implícitas: Ejecutadas automáticamente (como en la división `/`)\n",
    "- Explícitas: Realizadas por el programador. Estas obligan a una variable o expresión a ser **temporalmente** de un determinado tipo. Para hacer casting, se utilizan las funciones integradas: `int()`, `float()`, `bool()`, `complex()`...  Algunos ejemplos\n"
   ]
  },
  {
   "cell_type": "code",
   "execution_count": 23,
   "metadata": {},
   "outputs": [],
   "source": [
    "x = 5          # x es un entero\n",
    "y = float(x)   # y es un número de punto flotante (5.0)\n",
    "z = int(y)     # z es un entero (5)\n",
    "w = complex(x) # w es un número complejo (5+0j)"
   ]
  },
  {
   "cell_type": "code",
   "execution_count": null,
   "metadata": {},
   "outputs": [],
   "source": []
  },
  {
   "cell_type": "markdown",
   "metadata": {},
   "source": [
    "## Otras operaciones más complejas\n",
    "\n",
    "El núcleo de Python se extiende mediante una biblioteca estándar que proporciona funcionalidad adicional. Estas piezas añadidas están en forma de módulos que podemos _importar_ en nuestra sesión de Python (o programa), como ya hemos visto. \n",
    "\n",
    "Hay varios módulos integrados en Python que proporcionan funcionalidades adicionales. Uno de los módulos más comunes es el módulo `math`, que proporciona funciones matemáticas avanzadas y constantes (o `cmath` para números complejos).\n",
    "\n",
    "Dejamos aquí algunas operaciones básicas usando el módulo `math`:\n"
   ]
  },
  {
   "cell_type": "code",
   "execution_count": 24,
   "metadata": {
    "tags": []
   },
   "outputs": [],
   "source": [
    "import math"
   ]
  },
  {
   "cell_type": "markdown",
   "metadata": {},
   "source": [
    "`math` nos da el valor de pi, e, y otras constantes matemáticas comunes.  También proporciona funciones trigonométricas, logarítmicas, y exponenciales, entre otras.  Aquí hay algunos ejemplos adicionales usando el módulo `math`:"
   ]
  },
  {
   "cell_type": "code",
   "execution_count": 25,
   "metadata": {
    "tags": []
   },
   "outputs": [
    {
     "data": {
      "text/plain": [
       "3.141592653589793"
      ]
     },
     "execution_count": 25,
     "metadata": {},
     "output_type": "execute_result"
    }
   ],
   "source": [
    "math.pi"
   ]
  },
  {
   "cell_type": "code",
   "execution_count": 26,
   "metadata": {
    "tags": []
   },
   "outputs": [],
   "source": [
    "pi = 3"
   ]
  },
  {
   "cell_type": "code",
   "execution_count": 27,
   "metadata": {
    "tags": []
   },
   "outputs": [
    {
     "name": "stdout",
     "output_type": "stream",
     "text": [
      "3 3.141592653589793\n"
     ]
    }
   ],
   "source": [
    "print(pi, math.pi)"
   ]
  },
  {
   "cell_type": "code",
   "execution_count": 28,
   "metadata": {
    "tags": []
   },
   "outputs": [
    {
     "data": {
      "text/plain": [
       "0.7071067811865476"
      ]
     },
     "execution_count": 28,
     "metadata": {},
     "output_type": "execute_result"
    }
   ],
   "source": [
    "math.cos(math.radians(45))"
   ]
  },
  {
   "cell_type": "markdown",
   "metadata": {},
   "source": [
    "Recuerda que podemos saber cómo funciona cada función usando la función `help()`:"
   ]
  },
  {
   "cell_type": "code",
   "execution_count": 29,
   "metadata": {
    "tags": []
   },
   "outputs": [
    {
     "name": "stdout",
     "output_type": "stream",
     "text": [
      "Help on built-in function sin in module math:\n",
      "\n",
      "sin(x, /)\n",
      "    Return the sine of x (measured in radians).\n",
      "\n"
     ]
    }
   ],
   "source": [
    "help(math.sin)"
   ]
  },
  {
   "cell_type": "markdown",
   "metadata": {},
   "source": [
    "## Cadenas (strings)"
   ]
  },
  {
   "cell_type": "markdown",
   "metadata": {},
   "source": [
    "Una cadena es una secuencia de caracteres.  En python, las cadenas se representan utilizando comillas simples (`'...'`) o comillas dobles (`\"...\"`).  Podemos crear cadenas asignándolas a variables:"
   ]
  },
  {
   "cell_type": "code",
   "execution_count": 30,
   "metadata": {
    "tags": []
   },
   "outputs": [],
   "source": [
    "a = \"mi cadena\"\n",
    "b = 'yo soy otra cadenita'"
   ]
  },
  {
   "cell_type": "code",
   "execution_count": 31,
   "metadata": {
    "tags": []
   },
   "outputs": [
    {
     "name": "stdout",
     "output_type": "stream",
     "text": [
      "mi cadena\n",
      "yo soy otra cadenita\n"
     ]
    }
   ],
   "source": [
    "print(a)\n",
    "print(b)"
   ]
  },
  {
   "cell_type": "markdown",
   "metadata": {},
   "source": [
    "Dos caracteres de comillas dobles o simples seguidos representan una cadena vacía. "
   ]
  },
  {
   "cell_type": "code",
   "execution_count": 32,
   "metadata": {},
   "outputs": [
    {
     "name": "stdout",
     "output_type": "stream",
     "text": [
      "\n"
     ]
    }
   ],
   "source": [
    "print (\"\")"
   ]
  },
  {
   "cell_type": "markdown",
   "metadata": {},
   "source": [
    "Alguna operaciones básicas con cadenas incluyen la concatenación (unir dos cadenas) y la repetición (repetir una cadena varias veces) (ojo con confundirnos con la suma o multiplicación de números):"
   ]
  },
  {
   "cell_type": "code",
   "execution_count": 33,
   "metadata": {
    "tags": []
   },
   "outputs": [
    {
     "data": {
      "text/plain": [
       "'mi cadenayo soy otra cadenita'"
      ]
     },
     "execution_count": 33,
     "metadata": {},
     "output_type": "execute_result"
    }
   ],
   "source": [
    "a + b"
   ]
  },
  {
   "cell_type": "code",
   "execution_count": 34,
   "metadata": {
    "tags": []
   },
   "outputs": [
    {
     "data": {
      "text/plain": [
       "'mi cadena. yo soy otra cadenita'"
      ]
     },
     "execution_count": 34,
     "metadata": {},
     "output_type": "execute_result"
    }
   ],
   "source": [
    "a + \". \" + b"
   ]
  },
  {
   "cell_type": "code",
   "execution_count": 35,
   "metadata": {
    "tags": []
   },
   "outputs": [
    {
     "data": {
      "text/plain": [
       "'mi cadenami cadena'"
      ]
     },
     "execution_count": 35,
     "metadata": {},
     "output_type": "execute_result"
    }
   ],
   "source": [
    "a * 2"
   ]
  },
  {
   "cell_type": "markdown",
   "metadata": {},
   "source": [
    "existen algunos caracteres de escape que se interpretan en las cadenas. Estos comienzan con una barra invertida, `\\`. Por ejemplo, puedes usar `\\n` para un salto de línea, `\\t` para una tabulación, y `\\\\` para una barra invertida literal. Aquí hay algunos ejemplos:"
   ]
  },
  {
   "cell_type": "code",
   "execution_count": 36,
   "metadata": {
    "tags": []
   },
   "outputs": [
    {
     "name": "stdout",
     "output_type": "stream",
     "text": [
      "mi cadena\n",
      "\n",
      "yo soy otra cadenita\tmi cadena\n",
      "\n"
     ]
    }
   ],
   "source": [
    "a = a + \"\\n\"\n",
    "b= b + \"\\t\" + a\n",
    "print(a)\n",
    "print(b)"
   ]
  },
  {
   "cell_type": "markdown",
   "metadata": {},
   "source": [
    "La triple comilla simple o doble permite definir cadenas multilínea:"
   ]
  },
  {
   "cell_type": "code",
   "execution_count": 37,
   "metadata": {
    "tags": []
   },
   "outputs": [],
   "source": [
    "c = \"\"\"\n",
    "Lorem ipsum dolor sit amet, consectetur adipisicing elit, sed do eiusmod tempor \n",
    "incididunt ut labore et dolore magna aliqua. Ut enim ad minim veniam, quis \n",
    "nostrud exercitation ullamco laboris nisi ut aliquip ex ea commodo consequat. \n",
    "Duis aute irure dolor in reprehenderit in voluptate velit esse cillum dolore \n",
    "eu fugiat nulla pariatur. Excepteur sint occaecat cupidatat non proident, sunt \n",
    "in culpa qui officia deserunt mollit anim id est laborum.\"\"\""
   ]
  },
  {
   "cell_type": "code",
   "execution_count": 38,
   "metadata": {
    "tags": []
   },
   "outputs": [
    {
     "name": "stdout",
     "output_type": "stream",
     "text": [
      "\n",
      "Lorem ipsum dolor sit amet, consectetur adipisicing elit, sed do eiusmod tempor \n",
      "incididunt ut labore et dolore magna aliqua. Ut enim ad minim veniam, quis \n",
      "nostrud exercitation ullamco laboris nisi ut aliquip ex ea commodo consequat. \n",
      "Duis aute irure dolor in reprehenderit in voluptate velit esse cillum dolore \n",
      "eu fugiat nulla pariatur. Excepteur sint occaecat cupidatat non proident, sunt \n",
      "in culpa qui officia deserunt mollit anim id est laborum.\n"
     ]
    }
   ],
   "source": [
    "print(c)"
   ]
  },
  {
   "cell_type": "markdown",
   "metadata": {},
   "source": [
    "Si queremos no utilizar los caracteres de escape, podemos definir una *raw string*, poniendo una `r`justo antes de la cadena (sin espacios en medio):"
   ]
  },
  {
   "cell_type": "code",
   "execution_count": 39,
   "metadata": {
    "tags": []
   },
   "outputs": [
    {
     "data": {
      "text/plain": [
       "'this is a raw string\\\\n'"
      ]
     },
     "execution_count": 39,
     "metadata": {},
     "output_type": "execute_result"
    }
   ],
   "source": [
    "d = r\"this is a raw string\\n\"\n",
    "d"
   ]
  },
  {
   "cell_type": "markdown",
   "metadata": {
    "tags": []
   },
   "source": [
    "Podemos formatear cadenas utilizando una f: *f-strings* de la siuiente manera: "
   ]
  },
  {
   "cell_type": "code",
   "execution_count": 40,
   "metadata": {
    "tags": []
   },
   "outputs": [
    {
     "name": "stdout",
     "output_type": "stream",
     "text": [
      "a = mi cadena\n",
      "; b = yo soy otra cadenita\tmi cadena\n",
      "; c = \n",
      "Lorem ipsum dolor sit amet, consectetur adipisicing elit, sed do eiusmod tempor \n",
      "incididunt ut labore et dolore magna aliqua. Ut enim ad minim veniam, quis \n",
      "nostrud exercitation ullamco laboris nisi ut aliquip ex ea commodo consequat. \n",
      "Duis aute irure dolor in reprehenderit in voluptate velit esse cillum dolore \n",
      "eu fugiat nulla pariatur. Excepteur sint occaecat cupidatat non proident, sunt \n",
      "in culpa qui officia deserunt mollit anim id est laborum.\n"
     ]
    }
   ],
   "source": [
    "print(f\"a = {a}; b = {b}; c = {c}\")"
   ]
  },
  {
   "cell_type": "markdown",
   "metadata": {},
   "source": [
    "Veremos más ejemplos en el siguiente capítulo de E/S de datos. Asimismo, veremos más operatoria con cadenas en el próximo tema. "
   ]
  }
 ],
 "metadata": {
  "kernelspec": {
   "display_name": "Python 3",
   "language": "python",
   "name": "python3"
  },
  "language_info": {
   "codemirror_mode": {
    "name": "ipython",
    "version": 3
   },
   "file_extension": ".py",
   "mimetype": "text/x-python",
   "name": "python",
   "nbconvert_exporter": "python",
   "pygments_lexer": "ipython3",
   "version": "3.10.18"
  }
 },
 "nbformat": 4,
 "nbformat_minor": 4
}