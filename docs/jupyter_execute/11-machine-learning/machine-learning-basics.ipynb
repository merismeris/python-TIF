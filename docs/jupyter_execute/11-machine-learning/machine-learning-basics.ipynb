{
 "cells": [
  {
   "cell_type": "markdown",
   "id": "f324283b-1ab5-4c9c-8b41-0d96e76ff84d",
   "metadata": {},
   "source": [
    "# Machine Learning Introduction"
   ]
  },
  {
   "cell_type": "markdown",
   "id": "c1346fda-937c-4521-80fd-879674bf8d58",
   "metadata": {},
   "source": [
    "## Neural networks\n",
    "\n",
    "When we talk about machine learning, we usually mean an [_artifical neural network_](https://en.wikipedia.org/wiki/Artificial_neural_network).\n",
    "A neural network mimics the action of neurons in your brain.  \n",
    "\n",
    "Basic idea:\n",
    "\n",
    "* Create a nonlinear fitting routine with free parameters\n",
    "* Train the network on data with known inputs and outputs to set the parameters\n",
    "* Use the trained network on new data to predict the outcome\n",
    "\n",
    "We can think of a neural network as a map that takes a set of n parameters and returns a set of m parameters, $\\mathbb{R}^n \\rightarrow \\mathbb{R}^m$ and we can express this as:\n",
    "\n",
    "$${\\bf z} = {\\bf A} {\\bf x}$$\n",
    "\n",
    "where ${\\bf x} \\in \\mathbb{R}^n$ are the inputs, ${\\bf z} \\in \\mathbb{R}^m$ are the outputs, and ${\\bf A}$ is an $m \\times n$ matrix.\n",
    "\n",
    "Our goal is to determine the matrix elements of ${\\bf A}$."
   ]
  },
  {
   "cell_type": "markdown",
   "id": "b0eddb35-abe2-4026-a064-ee05f232fbe8",
   "metadata": {},
   "source": [
    "### Some nomeclature\n",
    "\n",
    "We can visualize a neural network as:\n",
    "\n",
    "![NN diagram](nn_fig2.png)\n",
    "\n",
    "* Neural networks are divided into _layers_\n",
    "\n",
    "  * There is always an _input layer_&mdash;it doesn't do any processing\n",
    "  \n",
    "  * There is always an _output layer_\n",
    "  \n",
    "* Within a layer there are neurons or _nodes_.\n",
    "\n",
    "  * For input, there will be one node for each input variable.\n",
    "  \n",
    "* Every node in the first layer connects to every node in the next layer\n",
    "\n",
    "  * The _weight_ associated with the _connection_ can vary&mdash;these are the matrix elements.\n",
    "  \n",
    "* In this example, the processing is done in layer 2 (the output)\n",
    "\n",
    "* When you train the neural network, you are adjusting the weights connecting to the nodes\n",
    "\n",
    "  * Some connections might have zero weight\n",
    "  \n",
    "  * This mimics nature&mdash;a single neuron can connect to several (or lots) of other neurons."
   ]
  },
  {
   "cell_type": "markdown",
   "id": "c678e3c3-4b2f-4d4a-abf0-3716c59d2f0d",
   "metadata": {},
   "source": [
    "## Universal approximation theorem and non-linearity\n",
    "\n",
    "A neural network can be designed to approximate any function, $f(x)$.  For this to work, there must be a source of non-linearity in the network.  This is applied on a layer.  This is a result of the [universal approximation theorem](https://en.wikipedia.org/wiki/Universal_approximation_theorem).\n",
    "\n",
    "We call this an [_activation function_](https://en.wikipedia.org/wiki/Activation_function) and it has the form:\n",
    "\n",
    "\n",
    "$$g({\\bf x}) = \\left ( \\begin{array}{c} g(x_0) \\\\ g(x_1) \\\\ \\vdots \\\\ g(x_{n-1}) \\end{array} \\right )$$\n",
    "\n",
    "Then our neural network has the form: ${\\bf z} = g({\\bf A x})$\n",
    "\n",
    "We want to choose a $g(x)$ that is differentiable.  A common choice is the _sigmoid function_:\n",
    "\n",
    "$$g(p) = \\frac{1}{1 + e^{-p}}$$"
   ]
  },
  {
   "cell_type": "code",
   "execution_count": 1,
   "id": "2a029ea0-33bd-4058-bc58-26dde63ddd14",
   "metadata": {},
   "outputs": [],
   "source": [
    "import numpy as np\n",
    "import matplotlib.pyplot as plt"
   ]
  },
  {
   "cell_type": "code",
   "execution_count": 2,
   "id": "d9d672b0-594f-4a03-9065-496e24abe89b",
   "metadata": {},
   "outputs": [],
   "source": [
    "def sigmoid(p):\n",
    "    return 1 / (1 + np.exp(-p))"
   ]
  },
  {
   "cell_type": "code",
   "execution_count": 3,
   "id": "69eebe24-d010-4c40-905a-eb014bee84ee",
   "metadata": {},
   "outputs": [
    {
     "data": {
      "text/plain": [
       "[<matplotlib.lines.Line2D at 0x11963c160>]"
      ]
     },
     "execution_count": 3,
     "metadata": {},
     "output_type": "execute_result"
    },
    {
     "data": {
      "image/png": "[encoded data removed]",
      "text/plain": [
       "<Figure size 640x480 with 1 Axes>"
      ]
     },
     "metadata": {},
     "output_type": "display_data"
    }
   ],
   "source": [
    "p = np.linspace(-10, 10, 200)\n",
    "\n",
    "fig, ax = plt.subplots()\n",
    "\n",
    "ax.plot(p, sigmoid(p))\n"
   ]
  },
  {
   "cell_type": "markdown",
   "id": "9eaf8794-cfa8-475b-a255-711560c5f0c2",
   "metadata": {},
   "source": [
    "Notice that the sigmoid scales all output to be in $z_i \\in (0, 1)$\n",
    "\n",
    "This means that we need to ensure that our training set set is likewise mapped to $(0, 1)$, and if not, we need to transform it."
   ]
  },
  {
   "cell_type": "markdown",
   "id": "c193973c-d51c-4dfd-a30e-8667fd330158",
   "metadata": {},
   "source": [
    "## Basic algorithm\n",
    "\n",
    "* Training\n",
    "\n",
    "  * We have $T$ pairs $(x^k, y^k)$ for $k = 1, \\ldots, T$\n",
    "  \n",
    "  * We require that $g({\\bf A x}^k) = {\\bf y}^k$ for all $k$\n",
    "  \n",
    "    Recall that $g(p)$ is a scalar function that works element-by-element:\n",
    "    \n",
    "    $$z_i = g([{\\bf A x}]_i) = g \\left ( \\sum_j A_{ij} x_j \\right )$$\n",
    "    \n",
    "  * Find the elements of ${\\bf A}$\n",
    "  \n",
    "    This is a minimization problem, where we are minimizing:\n",
    "    \n",
    "    $$f(A_{ij}) = \\| g({\\bf A x}^k) - {\\bf y}^k \\|^2$$\n",
    "    \n",
    "    We call this function the _cost function_.\n",
    "    \n",
    "    A common minimization technique is [_gradient descent_](https://en.wikipedia.org/wiki/Gradient_descent).\n",
    "    \n",
    "    Some caveats:\n",
    "    \n",
    "    * When you minimize with one set of training data, there is no guarantee that your are still minimimzed with respect to the others.  We do multiple _epochs_ or passes through the training data to fix this.\n",
    "    \n",
    "    * We often don't apply the full correction from gradient descent, but instead scale it by some $\\eta < 1$ called the _learning rate_.\n",
    "    \n",
    "* Using the network\n",
    "\n",
    "  With the trained ${\\bf A}$, we can now use the network on data we haven't seen before"
   ]
  },
  {
   "cell_type": "markdown",
   "id": "f9801589-7251-48b2-9099-e8b22f9c9250",
   "metadata": {},
   "source": [
    "## Hidden layers\n",
    "\n",
    "We can get better performance from a neural network by adding a hidden layer:\n",
    "\n",
    "![hidden layers](nn_fig_hidden.png)\n",
    "\n",
    "The side of the hidden layer is independent of the size of the input and output layers.  Now we have an additional matrix ${\\bf B}$ to train.  This can all be done together using the same algorithm described above.  Where we now minimize:\n",
    "\n",
    "$$f(A_{ls}, B_{ij}) = \\sum_{l=1}^m (z_l - y_l)^2$$\n",
    "\n",
    "$$\\tilde{z}_i = g \\left ( \\sum_{j=1}^n B_{ij} x_j \\right )$$\n",
    "\n",
    "$$z_l = g \\left ( \\sum_{s=1}^k A_{ls} \\tilde{z}_s \\right )$$\n"
   ]
  },
  {
   "cell_type": "code",
   "execution_count": null,
   "id": "7409a682-1905-4bde-a8a9-1d0c4d4d8347",
   "metadata": {},
   "outputs": [],
   "source": []
  }
 ],
 "metadata": {
  "kernelspec": {
   "display_name": "Python 3 (ipykernel)",
   "language": "python",
   "name": "python3"
  },
  "language_info": {
   "codemirror_mode": {
    "name": "ipython",
    "version": 3
   },
   "file_extension": ".py",
   "mimetype": "text/x-python",
   "name": "python",
   "nbconvert_exporter": "python",
   "pygments_lexer": "ipython3",
   "version": "3.10.18"
  }
 },
 "nbformat": 4,
 "nbformat_minor": 5
}