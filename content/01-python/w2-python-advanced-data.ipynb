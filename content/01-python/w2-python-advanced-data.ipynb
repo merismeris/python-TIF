{
 "cells": [
  {
   "cell_type": "markdown",
   "id": "17a1c84b",
   "metadata": {},
   "source": [
    "# Tipos de dato estructurados\n",
    "\n",
    "Los tipos de datos en Python se pueden clasificar en varias categorías principales, cada una con sus propias características y usos. A continuación se presenta una tabla que resume las categorías de tipos de datos más comunes en Python:\n",
    "\n",
    "| Categoría   | Nombre        | Tipos                                                             | Mutable/Inmutable   |\n",
    "|:------------|:--------------|:------------------------------------------------------------------|:--------------------|\n",
    "| Número      | Booleanos     | bool (Ej: True o False)                                           | Inmutable           |\n",
    "| (Atómicos)   | Enteros       | int o long (Ej: 3)                                                | Inmutable           |\n",
    "|              | Coma flotante | float (real) (Ej: 2.5)                                            | Inmutable           |\n",
    "|              | Complejos     | complex (parte real e imaginaria) (Ej: 2+1j)                      | Inmutable           |\n",
    "| Secuencias  | Listas        | list(conjunto de elementos heterogéneos)                          | Mutable             |\n",
    "|              | Tuplas        | tuple (conjunto de elementos heterogéneos)                        | Inmutable           |\n",
    "|              | Rango         | range (array de enteros)                                          | Inmutable           |\n",
    "|              | Cadenas       | str (cadena de caracteres encerrada en comillas dobles o simples) | Inmutable           |\n",
    "| Mapas       | Hashtables    | dict (lista con campos “clave”)                                   | Mutable             |\n",
    "| Conjuntos   | Conjuntos     | set (colección no ordenada, heterogénea, sin elementos repetidos) | Mutable             |\n",
    "\n",
    "La diferencia entre se tipos mutables e inmutables radica en si el valor del objeto puede cambiar después de su creación. Los tipos mutables, como las listas y los diccionarios, permiten modificar su contenido, mientras que los tipos inmutables, como las tuplas y las cadenas de texto, no permiten cambios una vez creados.\n",
    "\n",
    "La diferencia entre secuencias, mapas y conjuntos radica en la forma en que almacenan y acceden a los datos. Las secuencias mantienen un orden y permiten el acceso por índice, los mapas utilizan pares clave-valor para almacenar datos, y los conjuntos son colecciones no ordenadas que no permiten elementos duplicados. Todo esto lo veremos en detalle en las siguientes secciones."
   ]
  },
  {
   "cell_type": "markdown",
   "id": "f2504349",
   "metadata": {},
   "source": [
    "## Listas"
   ]
  },
  {
   "cell_type": "markdown",
   "id": "d6950143",
   "metadata": {},
   "source": [
    "Las listas agrupan datos. Muchos lenguajes tienen arrays (veremos esos en python más adelante). Pero a diferencia de los arrays en la mayoría de los lenguajes, las listas pueden contener datos de diferentes tipos — no necesitan ser homogéneas. Los datos pueden ser una mezcla de enteros, números en punto flotante o complejos, cadenas, u otros objetos (incluyendo otras listas).\n",
    "\n",
    "Al ser un objeto mutable, las listas pueden ser modificadas después de su creación: se pueden agregar, eliminar o cambiar elementos.\n",
    "\n"
   ]
  },
  {
   "cell_type": "markdown",
   "id": "e8657e0a",
   "metadata": {},
   "source": [
    "###Definición de listas\n",
    "\n",
    "Una lista se define usando corchetes:"
   ]
  },
  {
   "cell_type": "code",
   "execution_count": 22,
   "id": "54825efb",
   "metadata": {},
   "outputs": [],
   "source": [
    "a = [1, 2.0, \"my list\", 4]\n",
    "b = [] # Lista vacía"
   ]
  },
  {
   "cell_type": "markdown",
   "id": "368109e6",
   "metadata": {},
   "source": [
    "Podemos ver la lista completa imprimiéndola:"
   ]
  },
  {
   "cell_type": "code",
   "execution_count": 13,
   "id": "e499876d",
   "metadata": {},
   "outputs": [
    {
     "name": "stdout",
     "output_type": "stream",
     "text": [
      "[1, 2.0, 'my list', 4]\n",
      "[]\n"
     ]
    }
   ],
   "source": [
    "print(a)\n",
    "print(b)"
   ]
  },
  {
   "cell_type": "markdown",
   "id": "5bcf36ce",
   "metadata": {},
   "source": [
    "### Acceso a listas\n",
    "\n",
    "Podemos acceder una lista para obtener un solo elemento utilizando el nombre de la lista seguido del índice (de tipo entero) del elemento entre corchetes. \n",
    "\n",
    "```{important}\n",
    "En Python, los índices de las listas comienzan en 0. \n",
    "```\n"
   ]
  },
  {
   "cell_type": "code",
   "execution_count": 16,
   "id": "a2c0a581",
   "metadata": {},
   "outputs": [
    {
     "name": "stdout",
     "output_type": "stream",
     "text": [
      "my list\n",
      "4\n"
     ]
    },
    {
     "data": {
      "text/plain": [
       "[1, -2.0]"
      ]
     },
     "execution_count": 16,
     "metadata": {},
     "output_type": "execute_result"
    }
   ],
   "source": [
    "print(a[2])\n",
    "print(a[-1]) # Acceso al último elemento de la lista\n",
    "a[0:2] # Acceso a una porción de la lista"
   ]
  },
  {
   "cell_type": "markdown",
   "id": "5cf68b74",
   "metadata": {},
   "source": [
    "### Modificar elementos\n",
    "\n",
    "Podemos cambiar elementos simplemente asignando un nuevo valor al índice correspondiente:"
   ]
  },
  {
   "cell_type": "code",
   "execution_count": 18,
   "id": "ea5813be",
   "metadata": {},
   "outputs": [
    {
     "data": {
      "text/plain": [
       "[1, -5.0, 'my list', 4]"
      ]
     },
     "execution_count": 18,
     "metadata": {},
     "output_type": "execute_result"
    }
   ],
   "source": [
    "a[1] = -5.0\n",
    "a"
   ]
  },
  {
   "cell_type": "markdown",
   "id": "6ac12d2c",
   "metadata": {},
   "source": [
    "### Añadir y eliminar elementos\n",
    "\n",
    "Como todo en Python, una lista es un objeto que es instancia de una clase. Las clases tienen métodos (funciones) que saben cómo operar sobre un objeto de esa clase.\n",
    "\n",
    "Hay muchos métodos que funcionan con listas. Dos de los más útiles son:\n",
    "- `append`, para añadir al final de una lista\n",
    "- `insert`, para añadir un elemento en una posición específica\n",
    "- `pop`, para eliminar un elemento (si no ponemos nada, eliminará el último)\n",
    "- `clear`, para borrar la lista completa"
   ]
  },
  {
   "cell_type": "code",
   "execution_count": 19,
   "id": "b0262389",
   "metadata": {},
   "outputs": [
    {
     "name": "stdout",
     "output_type": "stream",
     "text": [
      "[1, -5.0, 'my list', 4, 6]\n",
      "[1, -5.0, 'new element', 'my list', 4, 6]\n"
     ]
    }
   ],
   "source": [
    "a.append(6)\n",
    "print(a)\n",
    "a.insert(2, \"new element\")\n",
    "print(a)"
   ]
  },
  {
   "cell_type": "code",
   "execution_count": 23,
   "id": "09043de8",
   "metadata": {},
   "outputs": [
    {
     "name": "stdout",
     "output_type": "stream",
     "text": [
      "[1, 'my list', 4]\n"
     ]
    }
   ],
   "source": [
    "a.pop(1)\n",
    "print(a)\n"
   ]
  },
  {
   "cell_type": "markdown",
   "id": "5de5a601",
   "metadata": {},
   "source": []
  },
  {
   "cell_type": "markdown",
   "id": "9854ad0f",
   "metadata": {},
   "source": [
    "## Tuplas\n",
    "\n",
    "Las tuplas son similares a las listas en que pueden contener una colección de elementos heterogéneos. Sin embargo, a diferencia de las listas, las tuplas son inmutables, lo que significa que una vez creadas, no se pueden modificar (no se pueden agregar, eliminar o cambiar elementos). Esto las hace útiles para almacenar datos que no deben cambiar a lo largo del tiempo, como coordenadas geográficas o registros de datos fijos.\n",
    "\n",
    "### Definición de tuplas\n",
    "Las tuplas se definen utilizando paréntesis `()` en lugar de corchetes `[]`. Podemos ver la tupla completa utilizando la función `print()`:\n",
    "\n"
   ]
  },
  {
   "cell_type": "code",
   "execution_count": null,
   "id": "da5a5b94",
   "metadata": {},
   "outputs": [],
   "source": [
    "tuple1 = (1, 2.0, \"my tuple\", 4)\n",
    "tuple2 = () # Tupla vacía\n",
    "print(tuple1)\n",
    "print(tuple2)\n"
   ]
  },
  {
   "cell_type": "markdown",
   "id": "5401f4f0",
   "metadata": {},
   "source": [
    "### Acceso a tuplas\n",
    "Al igual que las listas, podemos acceder a los elementos de una tupla utilizando índices:"
   ]
  },
  {
   "cell_type": "code",
   "execution_count": null,
   "id": "1abe6aa9",
   "metadata": {},
   "outputs": [],
   "source": [
    "print(tuple1[2])"
   ]
  },
  {
   "cell_type": "markdown",
   "id": "0f55548f",
   "metadata": {},
   "source": [
    "No podremos modificar los elementos de una tupla después de su creación, ya que son inmutables. Por tanto, cualquier intento de asignar un nuevo valor a un índice específico resultará en un error."
   ]
  },
  {
   "cell_type": "code",
   "execution_count": null,
   "id": "bfa85030",
   "metadata": {},
   "outputs": [],
   "source": [
    "tuple1[0]= 10 # Esto generará un error porque las tuplas son inmutables"
   ]
  },
  {
   "cell_type": "markdown",
   "id": "8b9817d6",
   "metadata": {},
   "source": [
    "Si queremos modificar una tupla, podemos convertirla en una lista, hacer los cambios necesarios y luego convertirla de nuevo en una tupla."
   ]
  },
  {
   "cell_type": "code",
   "execution_count": null,
   "id": "3c00895b",
   "metadata": {},
   "outputs": [],
   "source": [
    "tuple1 = (1, 2.0, \"my tuple\", 4)\n",
    "list_from_tuple = list(tuple1)\n",
    "list_from_tuple[0] = 10  # Modificar el primer elemento\n",
    "modified_tuple = tuple(list_from_tuple)\n",
    "print(modified_tuple)  # Salida: (10, 2.0, \"my tuple\", 4)"
   ]
  },
  {
   "cell_type": "markdown",
   "id": "69d5319d",
   "metadata": {},
   "source": [
    "## Rangos (`range`)\n",
    "\n",
    "Los rangos son secuencias inmutables de números enteros que se utilizan comúnmente para generar secuencias de números en bucles `for` o para crear listas de números enteros. La función `range()` genera un objeto de rango que representa una secuencia de números enteros dentro de un rango especificado.\n",
    "\n",
    "### Definición de rangos\n",
    "La función `range()` puede tomar uno, dos o tres argumentos:\n",
    "- `range(fin)`: Genera números desde 0 hasta `fin - 1`.\n",
    "- `range(ini, fin)`: Genera números desde `ini` hasta `fin - 1`.\n",
    "- `range(ini, fin, inc)`: Genera números desde `ini` hasta `fin - 1`, incrementando en `inc`."
   ]
  },
  {
   "cell_type": "code",
   "execution_count": null,
   "id": "0858c20f",
   "metadata": {},
   "outputs": [],
   "source": [
    "r1= range(5)          # Números del 0 al 4\n",
    "r2= range(2, 7)       # Números del 2 al 6\n",
    "r3= range(1, 10, 2)   # Números del 1 al 9, de 2 en 2\n"
   ]
  },
  {
   "cell_type": "markdown",
   "id": "d250db2a",
   "metadata": {},
   "source": [
    "No obstante, no podemos imprimir directamente un objeto de rango para ver sus elementos. Esto ocurre porque un objeto de rango no almacena todos los números en memoria, sino que genera cada número sobre la marcha cuando se accede a él.\n",
    "\n",
    "Para visualizar los elementos de un rango, podemos convertirlo en una lista utilizando la función `list()`. O bien, usar un bucle `for` para iterar sobre los elementos del rango y mostrarlos uno por uno."
   ]
  },
  {
   "cell_type": "code",
   "execution_count": null,
   "id": "616a1a04",
   "metadata": {},
   "outputs": [],
   "source": [
    "print(r1) # Esto no mostrará los elementos del rango\n",
    "print(list(r1)) # Convertir el rango a una lista para ver sus elementos\n",
    "\n",
    "for num in r2:\n",
    "    print(num)"
   ]
  },
  {
   "cell_type": "markdown",
   "id": "c0eafce0",
   "metadata": {},
   "source": [
    "### Acceso a los rangos\n",
    "\n",
    "Podemos acceder a un elemento de un rango utilizando índices, similar a las listas y tuplas. "
   ]
  },
  {
   "cell_type": "code",
   "execution_count": null,
   "id": "39cae6cd",
   "metadata": {},
   "outputs": [],
   "source": [
    "print(r1[2])  # Acceso al tercer elemento del rango\n",
    "print(r2[-1]) # Acceso al último elemento del rango\n",
    "print(r3[1:4])  # Acceso a una porción del rango"
   ]
  },
  {
   "cell_type": "markdown",
   "id": "1f6cc23a",
   "metadata": {},
   "source": [
    "## Cadenas de caracteres\n",
    "\n",
    "Las cadenas de caracteres (strings) son secuencias inmutables de caracteres encerradas entre comillas simples (`'`) o dobles (`\"`). Al igual que las tuplas, las cadenas no pueden ser modificadas después de su creación.\n",
    "\n",
    "### Definición de cadenas\n",
    "Las cadenas se definen encerrando texto entre comillas simples o dobles:"
   ]
  },
  {
   "cell_type": "code",
   "execution_count": null,
   "id": "f07721e8",
   "metadata": {},
   "outputs": [],
   "source": [
    "cadena1 = \"Hola, mundo!\"\n",
    "cadena2 = 'Python es genial.'\n",
    "\n",
    "print(cadena1)\n",
    "print(cadena2)"
   ]
  },
  {
   "cell_type": "markdown",
   "id": "7b276898",
   "metadata": {},
   "source": [
    "### Acceso a caracteres en una cadena\n",
    "Para acceder a una cadena, podemos utilizar índices de manera similar a las listas y tuplas:"
   ]
  },
  {
   "cell_type": "code",
   "execution_count": null,
   "id": "8ff56ee3",
   "metadata": {},
   "outputs": [],
   "source": [
    "print(cadena1[7])  # Acceso al carácter en el índice 7\n",
    "print(cadena2[-1]) # Acceso al último carácter de la cadena\n",
    "print(cadena1[0:4])  # Acceso a una porción de la cadena\n"
   ]
  },
  {
   "cell_type": "markdown",
   "id": "8a4c5da9",
   "metadata": {},
   "source": [
    "## Diccionarios\n",
    "Los diccionarios son estructuras de datos que almacenan pares clave-valor. Cada valor en un diccionario está asociado a una clave única, lo que permite un acceso rápido y eficiente a los valores mediante sus claves. Los diccionarios son mutables, lo que significa que podemos agregar, eliminar o modificar pares clave-valor después de su creación.\n",
    "\n",
    "### Definición de diccionarios\n",
    "Los diccionarios se definen utilizando llaves `{}` y pares clave-valor separados por dos puntos `:`. \n",
    "- Las claves deben de ser cadenas o valores enteros\n",
    "- Los valores pueden ser de cualquier tipo (entero, real, listas, tuplas, otro diccionario...)\n",
    " Por ejemplo:\n"
   ]
  },
  {
   "cell_type": "code",
   "execution_count": null,
   "id": "2226fdb2",
   "metadata": {},
   "outputs": [],
   "source": [
    "mi_diccionario = {'clave1': 'valor1', 'clave2': 'valor2'}\n",
    "print(mi_diccionario)"
   ]
  },
  {
   "cell_type": "markdown",
   "id": "66532fc1",
   "metadata": {},
   "source": [
    "### Acceso a valores en un diccionario\n",
    "Podemos acceder a los valores en un diccionario utilizando sus claves entre corchetes:"
   ]
  },
  {
   "cell_type": "code",
   "execution_count": null,
   "id": "b061dfc8",
   "metadata": {},
   "outputs": [],
   "source": [
    "print(mi_diccionario['clave1'])  # Acceso al valor asociado a 'clave1'"
   ]
  },
  {
   "cell_type": "markdown",
   "id": "396beedd",
   "metadata": {},
   "source": [
    "### Modificación de diccionarios\n",
    "Podemos modificar pares clave-valor asignando un valor a una clave. No se pueden modificar las claves una vez creadas."
   ]
  },
  {
   "cell_type": "code",
   "execution_count": null,
   "id": "6c86212d",
   "metadata": {},
   "outputs": [],
   "source": [
    "\n",
    "mi_diccionario['clave1'] = 'nuevo_valor1'  # Modificar el valor asociado a 'clave1'\n",
    "print(mi_diccionario)   "
   ]
  },
  {
   "cell_type": "markdown",
   "id": "40e8f497",
   "metadata": {},
   "source": [
    "### Añadido /borrado de elementos en un diccionario\n",
    "\n",
    "Podemos añadir nuevos pares clave-valor simplemente asignando un valor a una nueva clave. \n",
    "\n",
    "Para eliminar un par clave-valor, podemos usar el método `pop()`. Podemos borrar el diccionario entero utilizando el método `clear()`, igual que en las listas.\n"
   ]
  },
  {
   "cell_type": "code",
   "execution_count": null,
   "id": "12670a61",
   "metadata": {},
   "outputs": [],
   "source": [
    "mi_diccionario['clave3'] = 'valor3'  # Agregar un nuevo par clave-valor\n",
    "mi_diccionario.pop('clave2')  # Elimina el par clave-valor asociado a 'clave2'\n",
    "\n",
    "print(mi_diccionario)\n",
    "mi_diccionario.clear()  # Elimina todos los pares clave-valor del diccionario\n",
    "print(mi_diccionario)"
   ]
  },
  {
   "cell_type": "markdown",
   "id": "7056998c",
   "metadata": {},
   "source": [
    "## Conjuntos (set)\n",
    "\n",
    "Los conjuntos son colecciones no ordenadas de elementos únicos. A diferencia de las listas y tuplas, los conjuntos no permiten elementos duplicados y no mantienen un orden específico. Los conjuntos son mutables, lo que significa que podemos agregar o eliminar elementos después de su creación.\n",
    "\n",
    "### Definición de conjuntos\n",
    "Los conjuntos se definen utilizando llaves `{}` o la función `set()`. Por ejemplo:\n",
    "\n",
    "### Acceso a elementos en un conjunto\n",
    "Dado que los conjuntos son no ordenados, no podemos acceder a sus elementos mediante índices como en las listas o tuplas. En su lugar, podemos verificar la presencia de un elemento utilizando el operador `in`:\n",
    "\n",
    "```python\n",
    "mi_conjunto = {1, 2, 3, 4, 5}\n",
    "print(3 in mi_conjunto)  # Devuelve True\n",
    "print(6 in mi_conjunto)  # Devuelve False\n",
    "```\n",
    "\n",
    "### Modificación de conjuntos\n",
    "Podemos agregar elementos a un conjunto utilizando el método `add()` y eliminar elementos utilizando el método `remove()` o `discard()`. La diferencia entre estos dos métodos es que `remove()` genera un error si el elemento no existe, mientras que `discard()` no lo hace.\n",
    "```python\n",
    "mi_conjunto = {1, 2, 3}\n",
    "mi_conjunto.add(4)  # Agrega el elemento 4 al conjunto\n",
    "mi_conjunto.remove(2)  # Elimina el elemento 2 del conjunto\n",
    "print(mi_conjunto)  # Muestra {1, 3, 4}\n",
    "```\n"
   ]
  },
  {
   "cell_type": "markdown",
   "id": "bc5bdb22",
   "metadata": {},
   "source": [
    "## Algunas operaciones interesantes\n",
    "\n",
    "Los tipos de dato estructurados tienen una serie de métodos propios que dependen de la definición (de su clase). Algunos métodos son comunes a varios tipos de datos estructurados, como listas, tuplas y cadenas. Nombramos por ejemplo index, count, min, max, etc. En diccionarios tenemos otros métodos importantes como items, values, keys, etc. Muchos los veremos en prácticas. "
   ]
  },
  {
   "cell_type": "markdown",
   "id": "d87e4dce",
   "metadata": {},
   "source": [
    "Destacamos también la función `len()` devuelve la longitud de un tipo de dato estructurado. "
   ]
  },
  {
   "cell_type": "code",
   "execution_count": null,
   "id": "0b7aa993",
   "metadata": {},
   "outputs": [
    {
     "name": "stdout",
     "output_type": "stream",
     "text": [
      "1\n"
     ]
    },
    {
     "data": {
      "text/plain": [
       "0"
      ]
     },
     "execution_count": 28,
     "metadata": {},
     "output_type": "execute_result"
    }
   ],
   "source": [
    "len(a)\n"
   ]
  },
  {
   "cell_type": "markdown",
   "id": "423b672f",
   "metadata": {},
   "source": [
    "```{important}\n",
    "Las listas o las tuplas (mucho menos las cadenas) NO son matrices. Por tanto, no podemos operar con ellas como si lo fueran  (por ejemplo, no podemos hacer multiplicaciones de listas o tuplas). Si usamos el operador `*` con una lista,tupla o cadena, lo que haremos será repetir su contenido. Si usamos el operador `+`, lo que haremos será concatenar dos listas, tuplas o cadenas. Si usamos operadores matemáticos como `-`, `/`, `//`, o `**`, obtendremos un error.\n",
    "Para trabajar con matrices, usaremos la librería `numpy`, que veremos más adelante.\n",
    "```"
   ]
  },
  {
   "cell_type": "code",
   "execution_count": null,
   "id": "8d321895",
   "metadata": {},
   "outputs": [
    {
     "name": "stdout",
     "output_type": "stream",
     "text": [
      "[1, 'my list', 4, 1, 'my list', 4]\n"
     ]
    },
    {
     "data": {
      "text/plain": [
       "[1, 'my list', 4, 7, 8, 9]"
      ]
     },
     "metadata": {},
     "output_type": "display_data"
    }
   ],
   "source": [
    "a = [1, 2.0, \"my list\", 4]\n",
    "print(a*2) # Repetición de la lista\n",
    "a + [7, 8, 9] # Concatenación de listas\n",
    "\"cadena 1\"+\" cadena 2\" # Concatenación de cadenas\n",
    "\n",
    "# Para concatenar diccionarios, podemos usar el método update() \n",
    "dict1 = {'a': 1, 'b': 2}\n",
    "dict2 = {'c': 3, 'd': 4}\n",
    "\n",
    "dict1.update(dict2)\n",
    "print(dict1)"
   ]
  },
  {
   "cell_type": "markdown",
   "id": "5322f4c4",
   "metadata": {},
   "source": [
    "Podemos utilizar los operadores de comparación (`==`, `!=`, `<`, `>`, `<=`, `>=`) para comparar cualquier tipo de dato estructurado. La comparación se realiza elemento por elemento, y el resultado es un valor booleano (`True` o `False`). \n",
    "Las operaciones de comparación funcionan de la siguiente manera:\n",
    "- `==`: Devuelve `True` si todos los elementos son iguales en ambas estructuras.\n",
    "- `!=`: Devuelve `True` si al menos un elemento es diferente entre las dos estructuras.\n",
    "- `<`, `>`, `<=`, `>=`: \n",
    "  - En secuencias (listas, tuplas, rangos y cadenas): Compara las secuencias elemento por elemento, y **se detiene en la primera diferencia encontrada**.\n",
    "    - Para números, usa la comparación numérica normal\n",
    "    - Para cadenas, usa el orden lexicográfico\n",
    "  - En mapas (diccionarios): Estas comparaciones no están definidas y generarán un error si se intentan usar.\n",
    "  - En conjuntos (set): Estas comparaciones se utilizan para verificar las relaciones de subconjunto y superconjunto entre conjuntos.\n"
   ]
  },
  {
   "cell_type": "code",
   "execution_count": 33,
   "id": "2c22bc22",
   "metadata": {},
   "outputs": [
    {
     "name": "stdout",
     "output_type": "stream",
     "text": [
      "True\n",
      "True\n",
      "True\n",
      "False\n",
      "True\n",
      "False\n",
      "True\n",
      "True\n"
     ]
    }
   ],
   "source": [
    "print([1, 2, 3] == [1, 2, 3])  # True\n",
    "print((1, 2) != (1, 3))      # True\n",
    "print(\"abc\" < \"abd\")        # True\n",
    "print([1, 2, 5] <= [1, 2, 4]) # True\n",
    "print([3, 4, 6] >= [1, 5, 1]) # True Primer elemento: 3 > 1, por lo que la comparación se detiene aquí y devuelve `True`. No importa el resto de elementos porque la primera comparación ya determinó el resultado\n",
    "dict1 = {'a': 1, 'b': 2}\n",
    "dict2 = {'c': 3, 'd': 4}\n",
    "# Esto generará un error\n",
    "#dict1 < dict2  # TypeError: unsupported operand type(s) for <: '\n",
    "print(dict1 == dict2)  # False\n",
    "set1 = {1, 2, 3}\n",
    "set2 = {3, 4, 5}\n",
    "print(set1 != set2)  # True\n",
    "print(set1 <= {1, 2, 3, 4})  # True\n"
   ]
  },
  {
   "cell_type": "markdown",
   "id": "c410b510",
   "metadata": {},
   "source": [
    "### Operador de pertenencia (`in` y `not in`)\n",
    "El operador `in` se utiliza para verificar si un elemento está presente en una estructura de datos estructurada, mientras que el operador `not in` verifica si un elemento no está presente. Estos operadores devuelven un valor booleano (`True` o `False`) según el resultado.\n"
   ]
  },
  {
   "cell_type": "code",
   "execution_count": null,
   "id": "93ab511c",
   "metadata": {},
   "outputs": [],
   "source": [
    "# Ejemplos con listas\n",
    "mi_lista = [1, 2, 3, 4, 5]\n",
    "print(3 in mi_lista)  # Devuelve True\n",
    "print(6 not in mi_lista)  # Devuelve True\n",
    "\n",
    "# Ejemplo con set\n",
    "mi_conjunto = {1, 2, 3, 4, 5}\n",
    "print(3 in mi_conjunto)  # Devuelve True\n",
    "print(6 not in mi_conjunto)  # Devuelve True"
   ]
  },
  {
   "cell_type": "markdown",
   "id": "2f9f339e",
   "metadata": {},
   "source": [
    "### Mutabilidad e inmutabilidad: Operador de identidad (`is` y `is not`)\n",
    "\n",
    "La mutabilidad e inmutabilidad de los tipos de datos estructurados afecta cómo se comportan ciertos operadores. Por ejemplo, la copia de objetos mutables puede llevar a resultados inesperados si no se comprende bien cómo funcionan las referencias en Python.\n",
    "\n",
    "Por ejemplo, si tenemos una lista `l1`:\n",
    "```python\n",
    "l1 = [1, 2, 3]\n",
    "```\n",
    "Y hacemos una copia de la lista asignándola a otra variable `l2`:\n",
    "```python\n",
    "l2 = l1\n",
    "```\n",
    "Ambas variables `l1` y `l2` apuntan al mismo objeto en memoria. Si modificamos `l2`, también estaremos modificando `l1`:\n"
   ]
  },
  {
   "cell_type": "code",
   "execution_count": null,
   "id": "d23c1c15",
   "metadata": {},
   "outputs": [],
   "source": [
    "l1 = [1, 2, 3]\n",
    "l2 = l1\n",
    "l2.append(4)\n",
    "print(l1) "
   ]
  },
  {
   "cell_type": "markdown",
   "id": "5d4ba054",
   "metadata": {},
   "source": [
    "\n",
    "Por tanto, al copiar una lista (o cualquier tipo de dato u objeto mutable) a otra variable, ambas variables apuntan al mismo objeto en memoria.  \n",
    "\n",
    "En cambio, al copiar una tupla (o cualquier otro tipo de dato inmutable), ambas variables apuntan a objetos diferentes en memoria, y modificar una no afecta a la otra."
   ]
  },
  {
   "cell_type": "code",
   "execution_count": null,
   "id": "3f564736",
   "metadata": {},
   "outputs": [],
   "source": [
    "t1 = (0, -1, 5)\n",
    "t2 = t1\n",
    "t1=(1, 2, 3, 4)\n",
    "print(t2)\n"
   ]
  },
  {
   "cell_type": "markdown",
   "id": "da86ba31",
   "metadata": {},
   "source": [
    "Podemos comprobar si dos variables apuntan al mismo objeto en memoria utilizando el operador de identidad `is` y `is not`. Este operador devuelve `True` si ambas variables apuntan al mismo objeto, y `False` en caso contrario. Por ejemplo:"
   ]
  },
  {
   "cell_type": "code",
   "execution_count": null,
   "id": "7580611d",
   "metadata": {},
   "outputs": [],
   "source": [
    "t3=t1\n",
    "print(l1 is l2)  # Devuelve True, ambas variables apuntan al mismo objeto\n",
    "print(t1 is t3)  # Devuelve False, las variables apuntan a objetos diferentes"
   ]
  },
  {
   "cell_type": "markdown",
   "id": "f8d5d4ec",
   "metadata": {},
   "source": [
    "```{important}\n",
    "No confundir el operador de identidad `is` con el operador de igualdad `==`. El operador `==` compara los valores de los objetos, mientras que el operador `is` compara las identidades de los objetos en memoria.\n",
    "```\n"
   ]
  },
  {
   "cell_type": "code",
   "execution_count": null,
   "id": "68f71120",
   "metadata": {},
   "outputs": [],
   "source": [
    "print(t1==t3)  # Devuelve True, ambos objetos tienen el mismo valor"
   ]
  }
 ],
 "metadata": {
  "kernelspec": {
   "display_name": "Python 3",
   "language": "python",
   "name": "python3"
  },
  "language_info": {
   "codemirror_mode": {
    "name": "ipython",
    "version": 3
   },
   "file_extension": ".py",
   "mimetype": "text/x-python",
   "name": "python",
   "nbconvert_exporter": "python",
   "pygments_lexer": "ipython3",
   "version": "3.10.18"
  }
 },
 "nbformat": 4,
 "nbformat_minor": 5
}
