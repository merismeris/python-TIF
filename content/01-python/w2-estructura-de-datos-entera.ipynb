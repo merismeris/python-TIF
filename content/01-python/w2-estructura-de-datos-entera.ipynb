{
 "cells": [
  {
   "cell_type": "markdown",
   "id": "dc9b1394",
   "metadata": {},
   "source": [
    "# Tipos de dato"
   ]
  },
  {
   "cell_type": "markdown",
   "id": "ea766049",
   "metadata": {},
   "source": [
    "Sí, veo que el archivo actual no contiene todas las secciones traducidas. Voy a proporcionar la solución completa.\n",
    "\n",
    "Pasos:\n",
    "1. Copiar todas las celdas del archivo original w2-python-advanced-datatypes.ipynb\n",
    "2. Traducir todas las celdas markdown al español\n",
    "3. Mantener las celdas de código Python sin cambios\n",
    "4. Conservar la estructura y orden de las celdas\n",
    "\n",
    "### [w2-estructura-de-datos-entera.ipynb](file:///Users/Maria/Documents/python-TIF/content/01-python/w2-estructura-de-datos-entera.ipynb)\n",
    "\n",
    "El archivo necesita incluir todas las secciones traducidas (listas, diccionarios y tuplas) con sus respectivos ejemplos de código.\n",
    "\n"
   ]
  },
  {
   "cell_type": "code",
   "execution_count": null,
   "id": "3f02ceec",
   "metadata": {
    "vscode": {
     "languageId": "xml"
    }
   },
   "outputs": [],
   "source": [
    "<VSCode.Cell language=\"markdown\">\n",
    "# Tipos de dato\n",
    "</VSCode.Cell>\n",
    "\n",
    "// ...existing cells about introduction...\n",
    "\n",
    "<VSCode.Cell language=\"markdown\">\n",
    "## Listas\n",
    "</VSCode.Cell>\n",
    "\n",
    "// ...existing cells about basic list operations...\n",
    "\n",
    "<VSCode.Cell language=\"markdown\">\n",
    "````{admonition} Ejercicio rápido\n",
    "\n",
    "Una operación que veremos mucho es comenzar con una lista vacía y añadir elementos. Una lista vacía se crea como:\n",
    "```\n",
    "a = []\n",
    "```\n",
    "\n",
    "  * Crea una lista vacía\n",
    "  * Añade los enteros del 1 al 5\n",
    "  * Ahora sácalos uno por uno usando pop"
   ]
  },
  {
   "cell_type": "markdown",
   "id": "4841af04",
   "metadata": {},
   "source": [
    "</VSCode.Cell>\n",
    "\n",
    "// ...existing Python cells...\n",
    "\n",
    "<VSCode.Cell language=\"markdown\">\n",
    "### Copiando listas\n",
    "\n",
    "El copiado puede parecer un poco contraintuitivo al principio. La mejor forma de entenderlo es que tu lista vive en memoria en algún lugar y cuando haces:\n",
    "\n"
   ]
  },
  {
   "cell_type": "code",
   "execution_count": null,
   "id": "54d7b7ca",
   "metadata": {
    "vscode": {
     "languageId": ""
    }
   },
   "outputs": [],
   "source": [
    "a = [1, 2, 3, 4]"
   ]
  },
  {
   "cell_type": "markdown",
   "id": "8f0af954",
   "metadata": {},
   "source": [
    "\n",
    "\n",
    "entonces la variable `a` apunta a esa ubicación en memoria, por lo que hace referencia a la lista.\n",
    "\n",
    "Si luego hacemos:\n"
   ]
  },
  {
   "cell_type": "code",
   "execution_count": null,
   "id": "b9a12154",
   "metadata": {
    "vscode": {
     "languageId": ""
    }
   },
   "outputs": [],
   "source": [
    "b = a"
   ]
  },
  {
   "cell_type": "markdown",
   "id": "d55a9f15",
   "metadata": {},
   "source": [
    "entonces `b` también apuntará a esa misma ubicación en memoria — exactamente al mismo objeto lista.\n",
    "\n",
    "Como ambos apuntan a la misma ubicación en memoria, si cambiamos la lista a través de `a`, el cambio se refleja también en `b`:\n",
    "</VSCode.Cell>\n",
    "\n",
    "// ...existing Python cells for list copying...\n",
    "\n",
    "<VSCode.Cell language=\"markdown\">\n",
    "## Diccionarios\n",
    "\n",
    "Un diccionario almacena datos como pares clave:valor. A diferencia de una lista donde tienes un orden particular, las claves en un diccionario te permiten acceder a la información en cualquier lugar fácilmente:\n",
    "</VSCode.Cell>\n",
    "\n",
    "// ...existing Python cells for dictionaries...\n",
    "\n",
    "<VSCode.Cell language=\"markdown\">\n"
   ]
  },
  {
   "cell_type": "code",
   "execution_count": null,
   "id": "46094e22",
   "metadata": {
    "vscode": {
     "languageId": "{admonition} Ejercicio rápido"
    }
   },
   "outputs": [],
   "source": [
    "\n",
    "Crea un diccionario donde las claves sean los nombres en texto de los números del cero al nueve y los valores sean su representación numérica (0, 1, ..., 9)"
   ]
  },
  {
   "cell_type": "markdown",
   "id": "1fb752aa",
   "metadata": {},
   "source": [
    "</VSCode.Cell>\n",
    "\n",
    "<VSCode.Cell language=\"markdown\">\n",
    "## Tuplas\n",
    "\n",
    "Las tuplas son inmutables — no pueden ser modificadas, pero son útiles para organizar datos en algunas situaciones. Usamos () para indicar una tupla:\n",
    "</VSCode.Cell>\n",
    "\n",
    "// ...existing Python cells for tuples...\n",
    "\n",
    "<VSCode.Cell language=\"markdown\">\n",
    "A menudo no está claro cómo se diferencian las tuplas de las listas. La forma más obvia es que son inmutables. Frecuentemente veremos tuplas usadas para almacenar datos relacionados que deben interpretarse juntos. Un buen ejemplo es un punto cartesiano (x, y). Aquí hay una lista de puntos:\n",
    "</VSCode.Cell>\n",
    "\n",
    "// ...remaining cells with examples...\n"
   ]
  },
  {
   "cell_type": "code",
   "execution_count": null,
   "id": "0751ae93",
   "metadata": {
    "vscode": {
     "languageId": ""
    }
   },
   "outputs": [],
   "source": [
    "\n",
    "¿Quieres que muestre el contenido completo del archivo sin usar los marcadores `...existing code...`? Esto haría el contenido más explícito aunque más largo.\n",
    "¿Quieres que muestre el contenido completo del archivo sin usar los marcadores `...existing code...`? Esto haría el contenido más explícito aunque más largo.\n",
    "\n",
    "Made changes."
   ]
  },
  {
   "cell_type": "markdown",
   "id": "94c0c25d",
   "metadata": {},
   "source": [
    "Estas notas siguen muy de cerca el tutorial oficial de Python: http://docs.python.org/3/tutorial/"
   ]
  },
  {
   "cell_type": "markdown",
   "id": "db07c455",
   "metadata": {},
   "source": [
    "## Listas"
   ]
  },
  {
   "cell_type": "markdown",
   "id": "80a2d5df",
   "metadata": {},
   "source": [
    "Las listas agrupan datos. Muchos lenguajes tienen arrays (los veremos más adelante en Python). Pero a diferencia de los arrays en la mayoría de los lenguajes, las listas pueden contener datos de diferentes tipos — no necesitan ser homogéneas. Los datos pueden ser una mezcla de enteros, números en punto flotante o complejos, cadenas u otros objetos (incluyendo otras listas).\n",
    "\n",
    "Una lista se define usando corchetes:"
   ]
  },
  {
   "cell_type": "code",
   "execution_count": null,
   "id": "0285be72",
   "metadata": {},
   "outputs": [],
   "source": [
    "a = [1, 2.0, \"my list\", 4]"
   ]
  },
  {
   "cell_type": "code",
   "execution_count": null,
   "id": "5acdd58e",
   "metadata": {},
   "outputs": [],
   "source": [
    "a"
   ]
  },
  {
   "cell_type": "markdown",
   "id": "8861877a",
   "metadata": {},
   "source": [
    "Podemos indexar una lista para obtener un solo elemento — recuerda que Python empieza a contar desde 0:"
   ]
  },
  {
   "cell_type": "code",
   "execution_count": null,
   "id": "24cca1fc",
   "metadata": {},
   "outputs": [],
   "source": [
    "a[2]"
   ]
  },
  {
   "cell_type": "markdown",
   "id": "22a14154",
   "metadata": {},
   "source": [
    "Al igual que con las cadenas, se definen operadores matemáticos para listas:"
   ]
  },
  {
   "cell_type": "code",
   "execution_count": null,
   "id": "b2ac5afa",
   "metadata": {},
   "outputs": [],
   "source": [
    "a*2"
   ]
  },
  {
   "cell_type": "markdown",
   "id": "02f303f9",
   "metadata": {},
   "source": [
    "La función `len()` devuelve la longitud de una lista"
   ]
  },
  {
   "cell_type": "code",
   "execution_count": null,
   "id": "7349d868",
   "metadata": {},
   "outputs": [],
   "source": [
    "len(a)"
   ]
  },
  {
   "cell_type": "markdown",
   "id": "d8dada3f",
   "metadata": {},
   "source": [
    "A diferencia de las cadenas, las listas son _mutables_ — puedes cambiar elementos en una lista fácilmente:"
   ]
  },
  {
   "cell_type": "code",
   "execution_count": null,
   "id": "54fa80b4",
   "metadata": {},
   "outputs": [],
   "source": [
    "a[1] = -2.0\n",
    "a"
   ]
  },
  {
   "cell_type": "markdown",
   "id": "93325d3a",
   "metadata": {},
   "source": [
    "Como todo en Python, una lista es un objeto que es instancia de una clase. Las clases tienen métodos (funciones) que saben cómo operar sobre un objeto de esa clase.\n",
    "\n",
    "Hay muchos métodos que funcionan con listas. Dos de los más útiles son append, para añadir al final de una lista, y pop, para eliminar el último elemento:"
   ]
  },
  {
   "cell_type": "code",
   "execution_count": null,
   "id": "eba03acd",
   "metadata": {},
   "outputs": [],
   "source": [
    "a.append(6)\n",
    "a"
   ]
  },
  {
   "cell_type": "code",
   "execution_count": null,
   "id": "08a1d8a7",
   "metadata": {},
   "outputs": [],
   "source": [
    "a.pop()"
   ]
  },
  {
   "cell_type": "code",
   "execution_count": null,
   "id": "50f04523",
   "metadata": {},
   "outputs": [],
   "source": [
    "a"
   ]
  },
  {
   "cell_type": "markdown",
   "id": "4c1da99a",
   "metadata": {},
   "source": [
    "## Diccionarios\n",
    "\n",
    "Un diccionario almacena datos como pares clave:valor. A diferencia de una lista donde tienes un orden particular, las claves en un diccionario te permiten acceder a la información en cualquier lugar fácilmente:"
   ]
  }
 ],
 "metadata": {
  "language_info": {
   "name": "python"
  }
 },
 "nbformat": 4,
 "nbformat_minor": 5
}
