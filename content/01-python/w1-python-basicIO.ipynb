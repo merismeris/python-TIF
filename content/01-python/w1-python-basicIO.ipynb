{
 "cells": [
  {
   "cell_type": "markdown",
   "id": "0704793e",
   "metadata": {},
   "source": [
    "## Entrada y Salida de Datos\n",
    "Una de las principales cosas que queremos hacer en la computación científica es ingresar y extraer datos de nuestros programas.  Además de los archivos de texto plano, existen módulos que pueden leer muchos formatos de datos diferentes. Algunos los iremos viendo a lo largo del curso.\n",
    "\n",
    "Ahora en la E/S de datos estándar, es decir, a través de la terminal, así como el formateo básico de cadenas para mostrarlas por pantalla."
   ]
  },
  {
   "cell_type": "markdown",
   "id": "f2234111",
   "metadata": {},
   "source": [
    "### input()\n",
    "La función `input()` permite leer datos desde la entrada estándar (normalmente el teclado). Esta función toma un argumento opcional, que es una cadena que se muestra como un mensaje para el usuario. "
   ]
  },
  {
   "cell_type": "code",
   "execution_count": null,
   "id": "4499597e",
   "metadata": {},
   "outputs": [],
   "source": [
    "x=input(\"Por favor, introduzca su nombre: \")\n",
    "print(\"Hola, \" + x + \"!\")"
   ]
  },
  {
   "cell_type": "markdown",
   "id": "e0bfa6e0",
   "metadata": {},
   "source": [
    "`input` siempre devuelve una cadena, por lo que si queremos leer otro tipo de dato, debemos convertirlo explícitamente. Por ejemplo, para leer un número entero:"
   ]
  },
  {
   "cell_type": "code",
   "execution_count": null,
   "id": "c4dc805b",
   "metadata": {},
   "outputs": [],
   "source": [
    "x=input(\"Por favor, introduzca un número entero: \")\n",
    "num=int(x)\n",
    "print(\"El número que ha introducido es:\", num)\n"
   ]
  },
  {
   "cell_type": "markdown",
   "id": "a79ba14c",
   "metadata": {},
   "source": [
    "O bien, más corto:"
   ]
  },
  {
   "cell_type": "code",
   "execution_count": null,
   "id": "2df0c33d",
   "metadata": {},
   "outputs": [],
   "source": [
    "num=int(input(\"Por favor, introduzca un número entero: \"))\n",
    "print(\"El número que ha introducido es:\", num)"
   ]
  },
  {
   "cell_type": "markdown",
   "id": "a5a71014",
   "metadata": {},
   "source": [
    "### print()\n",
    "La función `print()` se utiliza para mostrar datos en la salida estándar (normalmente la pantalla). Puede tomar múltiples argumentos separados por comas, y los convertirá a cadenas si no lo son. Por ejemplo:\n"
   ]
  },
  {
   "cell_type": "code",
   "execution_count": null,
   "id": "4c6c6d72",
   "metadata": {},
   "outputs": [],
   "source": [
    "print(\"El número que ha introducido es:\", num)"
   ]
  },
  {
   "cell_type": "markdown",
   "id": "6e37d844",
   "metadata": {},
   "source": [
    "Todos los argumentos que introduzcas en `print()` serán convertidos a cadenas y separados por espacios por defecto. Puedes cambiar el separador usando el parámetro `sep` y el final de línea con el parámetro `end`. Por ejemplo:"
   ]
  },
  {
   "cell_type": "code",
   "execution_count": null,
   "id": "2118adfd",
   "metadata": {},
   "outputs": [],
   "source": [
    "print(\"Hola\", \"mundo\", sep=\", \", end=\"!\\n\") # Esto imprimirá `Hola, mundo!` en la pantalla."
   ]
  },
  {
   "cell_type": "markdown",
   "id": "cc85abe4",
   "metadata": {},
   "source": [
    "Existen varias maneras de formatear cadenas en Python, incluyendo el uso de f-strings (cadenas literales formateadas), el método `str.format()`, y el operador `%`. \n",
    "\n",
    "- Para cadenas de tipo f-string (disponible en Python 3.6 y posteriores), puedes incluir expresiones dentro de llaves `{}` que serán evaluadas en tiempo de ejecución. No olvides que hay que poner una `f` antes de las comillas de la cadena para indicar que es una f-string.\n",
    "- Usando el método `str.format()`. En este caso puedes usar llaves `{}` como marcadores de posición en la cadena y luego llamar al método `format()` con los valores que deseas insertar:\n",
    "- Usando el operador `%`, que es una forma más antigua de formatear cadenas en Python. Aquí, se utilizan descriptores de formato como `%s` para cadenas y `%d` para enteros, y luego se proporciona una tupla con los valores correspondientes:\n",
    "name = \"Charlie\"\n",
    "age = 35\n",
    "\n",
    "\n",
    "Aquí tienes ejemplos de cada método:"
   ]
  },
  {
   "cell_type": "code",
   "execution_count": 1,
   "id": "a4f5d209",
   "metadata": {},
   "outputs": [
    {
     "name": "stdout",
     "output_type": "stream",
     "text": [
      "Mi nombre es Alice y tengo 30 años.\n",
      "Mi nombre es {name} y tengo {age} años.\n",
      "Mi nombre es Alice y tengo 30 años.\n",
      "Mi nombre es Alice y tengo 30 años.\n"
     ]
    }
   ],
   "source": [
    "\n",
    "name = \"Alice\"\n",
    "age = 30\n",
    "\n",
    "print(f\"Mi nombre es {name} y tengo {age} años.\")#f-string. ¡Ojo a la f que se pone delante! \n",
    "print(\"Mi nombre es {name} y tengo {age} años.\") # Esto no funcionará como se espera\n",
    "print(\"Mi nombre es {} y tengo {} años.\".format(name, age)) #str.format()\n",
    "print(\"Mi nombre es %s y tengo %d años.\" % (name, age)) #operador % y descriptores de formato\n"
   ]
  }
 ],
 "metadata": {
  "kernelspec": {
   "display_name": "Python 3",
   "language": "python",
   "name": "python3"
  },
  "language_info": {
   "codemirror_mode": {
    "name": "ipython",
    "version": 3
   },
   "file_extension": ".py",
   "mimetype": "text/x-python",
   "name": "python",
   "nbconvert_exporter": "python",
   "pygments_lexer": "ipython3",
   "version": "3.10.18"
  }
 },
 "nbformat": 4,
 "nbformat_minor": 5
}
