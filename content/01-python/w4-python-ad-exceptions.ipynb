{
 "cells": [
  {
   "cell_type": "markdown",
   "id": "57daf5d7",
   "metadata": {},
   "source": [
    "# Excepciones"
   ]
  },
  {
   "cell_type": "markdown",
   "id": "f1027574",
   "metadata": {},
   "source": [
    "Python lanza excepciones cuando encuentra un error. La idea es que puedes capturar estas excepciones y tomar una acción apropiada en lugar de hacer que el código falle. El mecanismo para esto es `try` / `except`. Aquí hay un ejemplo que causa una excepción, `ZeroDivisionError` (Error de División por Cero):"
   ]
  },
  {
   "cell_type": "code",
   "execution_count": null,
   "id": "e4f2b470",
   "metadata": {},
   "outputs": [],
   "source": [
    "a = 1/0"
   ]
  },
  {
   "cell_type": "markdown",
   "id": "bbc172bd",
   "metadata": {},
   "source": [
    "y aquí manejamos esto"
   ]
  },
  {
   "cell_type": "code",
   "execution_count": null,
   "id": "07996694",
   "metadata": {},
   "outputs": [],
   "source": [
    "try:\n",
    "    a = 1/0\n",
    "except ZeroDivisionError:\n",
    "    print(\"advertencia: has dividido por cero\")\n",
    "    a = 1\n",
    "\n",
    "a"
   ]
  },
  {
   "cell_type": "markdown",
   "id": "6b874d0c",
   "metadata": {},
   "source": [
    "otro ejemplo — intentar acceder a una clave que no existe en un diccionario:"
   ]
  },
  {
   "cell_type": "code",
   "execution_count": null,
   "id": "4fd4a776",
   "metadata": {},
   "outputs": [],
   "source": [
    "dict = {\"a\":1, \"b\":2, \"c\":3}\n",
    "print(dict[\"d\"])\n"
   ]
  },
  {
   "cell_type": "markdown",
   "id": "0ac66e35",
   "metadata": {},
   "source": [
    "`KeyError` es la excepción que se lanzó. Podemos comprobar esto y tomar la acción apropiada en su lugar"
   ]
  },
  {
   "cell_type": "code",
   "execution_count": null,
   "id": "0d0d0797",
   "metadata": {},
   "outputs": [],
   "source": [
    "try:\n",
    "    val = dict[\"d\"]\n",
    "except KeyError:\n",
    "    val = None\n",
    "\n",
    "print(val)"
   ]
  },
  {
   "cell_type": "markdown",
   "id": "55328715",
   "metadata": {},
   "source": [
    "Todavía no hemos hablado de E/S (entrada/salida), pero como podrías esperar, cuando abres un archivo, obtienes un objeto con el que puedes interactuar. Aquí intentamos abrir un archivo para lectura que no existe."
   ]
  },
  {
   "cell_type": "code",
   "execution_count": null,
   "id": "2726427b",
   "metadata": {},
   "outputs": [],
   "source": [
    "try:\n",
    "    f = open(\"file.txt\", \"r\")\n",
    "except IOError:\n",
    "    print(\"error: ese archivo no existe\")"
   ]
  },
  {
   "cell_type": "markdown",
   "id": "138b9ab3",
   "metadata": {},
   "source": [
    "Hay muchos tipos diferentes de excepciones que puedes capturar, y puedes capturar múltiples excepciones por cláusula `except` o tener múltiples cláusulas `except`. Probablemente no podrás anticipar todos los modos de fallo por adelantado. En ese caso, cuando ejecutes y tu código falle debido a una excepción, el intérprete de Python imprimirá el nombre de la excepción y entonces podrás modificar tu código para tomar la acción apropiada."
   ]
  }
 ],
 "metadata": {
  "language_info": {
   "name": "python"
  }
 },
 "nbformat": 4,
 "nbformat_minor": 5
}
