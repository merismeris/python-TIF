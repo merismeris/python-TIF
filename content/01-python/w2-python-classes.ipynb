{
 "cells": [
  {
   "cell_type": "markdown",
   "metadata": {},
   "source": [
    "# Introducción a la Programación Orientada a Objetos en Python"
   ]
  },
  {
   "cell_type": "markdown",
   "metadata": {
    "tags": []
   },
   "source": [
    "La Programación Orientada a Objetos (POO) es un paradigma de programación que utiliza \"objetos\" para representar datos y funcionalidades. Aunque Python es un lenguaje multiparadigma que soporta tanto la programación estructurada como la programación orientada a objetos, la POO es una parte fundamental de Python y se utiliza ampliamente en el desarrollo de aplicaciones.\n",
    "\n",
    "Vamos a ver un ejemplo sobre qué es un objeto y una clase. \n",
    "\n",
    "Vamos a pensar en un objeto \"Coche\". ¿Cuáles serían sus características?\n",
    "- Color\n",
    "- Marca\n",
    "- Modelo\n",
    "- Año\n",
    "- Potencia\n",
    "... \n",
    "\n",
    "¿Y sus acciones?\n",
    "- Acelerar\n",
    "- Frenar\n",
    "- Girar\n",
    "- Arrancar\n",
    "...\n",
    "\n",
    "Ahora pensemos en un coche determinado, por ejemplo, este:\n",
    "\n",
    "insertar una imagen de un coche rojo\n",
    "Este coche tiene las siguientes características:\n",
    "- Color: Rojo\n",
    "- Marca: Toyota\n",
    "- Modelo: Corolla\n",
    "- Año: 2020\n",
    "- Potencia: 132 CV\n",
    "\n",
    "Y puede realizar las siguientes acciones:\n",
    "\n",
    "- Acelerar\n",
    "- Frenar\n",
    "- Girar\n",
    "- Arrancar\n",
    "\n",
    "\n",
    "## ¿Qué es un objeto?\n",
    "\n",
    "Un objeto es una entidad (como una variable \"especial\") a la que se le asocia:\n",
    "- Un conjunto de datos (atributos o propiedades)\n",
    "- Un conjunto de funciones o acciones (métodos)\n",
    "\n",
    "En el ejemplo anterior, el coche rojo es un objeto que tiene atributos como color, marca, modelo, año y potencia, y métodos como acelerar, frenar, girar y arrancar.\n",
    "\n",
    "## ¿Qué es una clase?\n",
    "\n",
    "Una clase es la definición formal de un objeto. Es una plantilla o un molde a partir del cual se crean objetos individuales (instancias). \n",
    "\n",
    "En nuestro ejemplo, la clase \"Coche\" definiría los atributos y métodos comunes a todos los coches. A partir de esta clase, podríamos crear múltiples objetos (instancias) de coches con diferentes características.\n",
    "\n",
    "Ahora veamos un ejemplo de clase y objeto en Python con los números complejos:\n",
    "\n",
    "Atributos:\n",
    "- parte real\n",
    "- parte imaginaria\n",
    "\n",
    "Métodos:\n",
    "- conjugado: devuelve el número complejo conjugado"
   ]
  },
  {
   "cell_type": "code",
   "execution_count": null,
   "metadata": {},
   "outputs": [],
   "source": [
    "c=4+5j\n",
    "print(c.real)  # Imprime la parte real: 4.0\n",
    "print(c.imag)  # Imprime la parte imaginaria: 5.0\n",
    "print(c.conjugate())  # Imprime el conjugado: (4-5j)"
   ]
  },
  {
   "cell_type": "markdown",
   "metadata": {},
   "source": [
    "Como vemos, usamos el operador punto `.` para acceder a los miembros de la clase (atributos o métodos). \n",
    "\n",
    "```{tip}\n",
    "Los atributos son variables, así que no llevan paréntesis, mientras que los métodos son funciones, por lo que sí llevan paréntesis.\n",
    "```\n",
    "\n",
    "En este curso no trabajaremos con la definición de clases y objetos, pero es importante entender estos conceptos ya que muchos tipos de datos en Python (como listas, tuplas, diccionarios, conjuntos, etc.) son implementados como clases y sus instancias son los objetos que utilizamos en nuestro código.\n",
    "\n",
    "\n",
    "\n"
   ]
  }
 ],
 "metadata": {
  "kernelspec": {
   "display_name": "Python 3 (ipykernel)",
   "language": "python",
   "name": "python3"
  },
  "language_info": {
   "codemirror_mode": {
    "name": "ipython",
    "version": 3
   },
   "file_extension": ".py",
   "mimetype": "text/x-python",
   "name": "python",
   "nbconvert_exporter": "python",
   "pygments_lexer": "ipython3",
   "version": "3.12.1"
  }
 },
 "nbformat": 4,
 "nbformat_minor": 4
}
