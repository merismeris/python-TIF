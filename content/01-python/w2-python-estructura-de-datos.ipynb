{
 "cells": [
  {
   "cell_type": "markdown",
   "id": "17a1c84b",
   "metadata": {},
   "source": [
    "# Tipos de dato\n",
    "\n",
    "Los tipos de datos en Python se pueden clasificar en varias categorías principales, cada una con sus propias características y usos. A continuación se presenta una tabla que resume las categorías de tipos de datos más comunes en Python:\n",
    "\n",
    "| Categoría   | Nombre        | Tipos                                                             | Mutable/Inmutable   |\n",
    "|:------------|:--------------|:------------------------------------------------------------------|:--------------------|\n",
    "| Número      | Booleanos     | bool (Ej: True o False)                                           | Inmutable           |\n",
    "| (Atómicos)   | Enteros       | int o long (Ej: 3)                                                | Inmutable           |\n",
    "|              | Coma flotante | float (real) (Ej: 2.5)                                            | Inmutable           |\n",
    "|              | Complejos     | complex (parte real e imaginaria) (Ej: 2+1j)                      | Inmutable           |\n",
    "| Secuencias  | Listas        | list(conjunto de elementos heterogéneos)                          | Mutable             |\n",
    "|              | Tuplas        | tuple (conjunto de elementos heterogéneos)                        | Inmutable           |\n",
    "|              | Rango         | range (array de enteros)                                          | Inmutable           |\n",
    "|              | Cadenas       | str (cadena de caracteres encerrada en comillas dobles o simples) | Inmutable           |\n",
    "| Mapas       | Hashtables    | dict (lista con campos “clave”)                                   | Mutable             |\n",
    "| Conjuntos   | Conjuntos     | set (colección no ordenada, heterogénea, sin elementos repetidos) | Mutable             |\n",
    "\n",
    "La diferencia entre se tipos mutables e inmutables radica en si el valor del objeto puede cambiar después de su creación. Los tipos mutables, como las listas y los diccionarios, permiten modificar su contenido, mientras que los tipos inmutables, como las tuplas y las cadenas de texto, no permiten cambios una vez creados.\n",
    "\n",
    "La diferencia entre secuencias, mapas y conjuntos radica en la forma en que almacenan y acceden a los datos. Las secuencias mantienen un orden y permiten el acceso por índice, los mapas utilizan pares clave-valor para almacenar datos, y los conjuntos son colecciones no ordenadas que no permiten elementos duplicados. Todo esto lo veremos en detalle en las siguientes secciones."
   ]
  },
  {
   "cell_type": "markdown",
   "id": "f2504349",
   "metadata": {},
   "source": [
    "## Listas"
   ]
  },
  {
   "cell_type": "markdown",
   "id": "d6950143",
   "metadata": {},
   "source": [
    "Las listas agrupan datos. Muchos lenguajes tienen arrays (veremos esos en python más adelante). Pero a diferencia de los arrays en la mayoría de los lenguajes, las listas pueden contener datos de diferentes tipos — no necesitan ser homogéneas. Los datos pueden ser una mezcla de enteros, números en punto flotante o complejos, cadenas, u otros objetos (incluyendo otras listas).\n",
    "\n",
    "Al ser un objeto mutable, las listas pueden ser modificadas después de su creación: se pueden agregar, eliminar o cambiar elementos.\n",
    "\n",
    "###Definición de listas\n",
    "\n",
    "Una lista se define usando corchetes:"
   ]
  },
  {
   "cell_type": "code",
   "execution_count": null,
   "id": "54825efb",
   "metadata": {},
   "outputs": [],
   "source": [
    "a = [1, 2.0, \"my list\", 4]\n",
    "b = [] # Lista vacía"
   ]
  },
  {
   "cell_type": "code",
   "execution_count": null,
   "id": "e499876d",
   "metadata": {},
   "outputs": [],
   "source": [
    "print(a)\n",
    "print(b)"
   ]
  },
  {
   "cell_type": "markdown",
   "id": "5bcf36ce",
   "metadata": {},
   "source": [
    "### Acceso a listas\n",
    "\n",
    "Podemos acceder una lista para obtener un solo elemento utilizando el nombre de la lista seguido del índice (de tipo entero) del elemento entre corchetes. \n",
    "\n",
    "```{important}\n",
    "En Python, los índices de las listas comienzan en 0. \n",
    "```\n"
   ]
  },
  {
   "cell_type": "code",
   "execution_count": null,
   "id": "a2c0a581",
   "metadata": {},
   "outputs": [],
   "source": [
    "a[2]\n",
    "a[-1] # Acceso al último elemento de la lista\n",
    "a[0:2] # Acceso a una porción de la lista"
   ]
  },
  {
   "cell_type": "markdown",
   "id": "5cf68b74",
   "metadata": {},
   "source": [
    "### Modificar elementos\n",
    "\n",
    "Podemos cambiar elementos simplemente asignando un nuevo valor al índice correspondiente:"
   ]
  },
  {
   "cell_type": "code",
   "execution_count": null,
   "id": "ea5813be",
   "metadata": {},
   "outputs": [],
   "source": [
    "a[1] = -2.0\n",
    "a"
   ]
  },
  {
   "cell_type": "markdown",
   "id": "6ac12d2c",
   "metadata": {},
   "source": [
    "### Añadir y eliminar elementos\n",
    "\n",
    "Como todo en Python, una lista es un objeto que es instancia de una clase. Las clases tienen métodos (funciones) que saben cómo operar sobre un objeto de esa clase.\n",
    "\n",
    "Hay muchos métodos que funcionan con listas. Dos de los más útiles son:\n",
    "- `append`, para añadir al final de una lista\n",
    "- `insert`, para añadir un elemento en una posición específica\n",
    "- `pop`, para eliminar un elemento (si no ponemos nada, eliminará el último)\n",
    "- `clear`, para borrar la lista completa"
   ]
  },
  {
   "cell_type": "code",
   "execution_count": null,
   "id": "b0262389",
   "metadata": {},
   "outputs": [],
   "source": [
    "a.append(6)\n",
    "print(a)\n",
    "a.insert(2, \"new element\")\n",
    "print(a)"
   ]
  },
  {
   "cell_type": "code",
   "execution_count": null,
   "id": "09043de8",
   "metadata": {},
   "outputs": [],
   "source": [
    "a.pop(1)\n",
    "print(a)\n",
    "a.clear()\n",
    "print(a)"
   ]
  },
  {
   "cell_type": "markdown",
   "id": "5de5a601",
   "metadata": {},
   "source": []
  },
  {
   "cell_type": "markdown",
   "id": "bc5bdb22",
   "metadata": {},
   "source": [
    "## Algunas operaciones interesantes\n",
    "\n",
    "Al igual que con las cadenas, se definen operadores matemáticos para listas:"
   ]
  },
  {
   "cell_type": "code",
   "execution_count": null,
   "id": "88f3c533",
   "metadata": {},
   "outputs": [],
   "source": [
    "a*2 # Repetición de la lista\n",
    "a + [7, 8, 9] # Concatenación de listas"
   ]
  },
  {
   "cell_type": "markdown",
   "id": "d87e4dce",
   "metadata": {},
   "source": [
    "La función `len()` devuelve la longitud de una lista"
   ]
  },
  {
   "cell_type": "code",
   "execution_count": null,
   "id": "0b7aa993",
   "metadata": {},
   "outputs": [],
   "source": [
    "len(a)\n",
    "a.index(\"my list\") # Índice del primer elemento con valor \"my list\"\n",
    "a.count(2) # Número de ocurrencias del valor 2 en la lista"
   ]
  },
  {
   "cell_type": "markdown",
   "id": "83ec0b85",
   "metadata": {},
   "source": [
    "## Tuplas"
   ]
  }
 ],
 "metadata": {
  "kernelspec": {
   "display_name": "Python 3",
   "language": "python",
   "name": "python3"
  },
  "language_info": {
   "codemirror_mode": {
    "name": "ipython",
    "version": 3
   },
   "file_extension": ".py",
   "mimetype": "text/x-python",
   "name": "python",
   "nbconvert_exporter": "python",
   "pygments_lexer": "ipython3",
   "version": "3.10.18"
  }
 },
 "nbformat": 4,
 "nbformat_minor": 5
}
